{
 "cells": [
  {
   "cell_type": "code",
   "execution_count": 1,
   "id": "c9ce0b7d",
   "metadata": {},
   "outputs": [],
   "source": [
    "# Data Handling\n",
    "\n",
    "import pandas as pd\n",
    "import numpy as np\n",
    "\n",
    "#Visualization librairies\n",
    "\n",
    "import matplotlib.pyplot as plt\n",
    "import plotly.express as px\n",
    "import seaborn as sns\n",
    "import matplotlib.cm as cm\n",
    "\n",
    "\n",
    "# Statistical Analysis\n",
    "from statsmodels.tsa.stattools import adfuller\n",
    "from sklearn.metrics import mean_squared_error, mean_absolute_error, mean_squared_log_error, r2_score\n",
    "\n",
    "# Feature Processing\n",
    "from sklearn.preprocessing import StandardScaler\n",
    "from sklearn.preprocessing import OneHotEncoder\n",
    "\n",
    "# Modeling\n",
    "from sklearn.linear_model import LinearRegression\n",
    "from sklearn.ensemble import RandomForestRegressor, GradientBoostingRegressor\n",
    "from sklearn.model_selection import RandomizedSearchCV"
   ]
  },
  {
   "cell_type": "code",
   "execution_count": 2,
   "id": "c182ca88",
   "metadata": {},
   "outputs": [],
   "source": [
    "events_df=pd.read_csv(r'C:\\Users\\merchandisers\\Desktop\\FAV DATA\\holidays_events.csv')\n",
    "Items_df=pd.read_csv(r'C:\\Users\\merchandisers\\Desktop\\FAV DATA\\items.csv')\n",
    "oil_df=pd.read_csv(r'C:\\Users\\merchandisers\\Desktop\\FAV DATA\\oil.csv')\n",
    "Sample_submission_df=pd.read_csv(r'C:\\Users\\merchandisers\\Desktop\\FAV DATA\\sample_submission.csv')\n",
    "store_df=pd.read_csv(r'C:\\Users\\merchandisers\\Desktop\\FAV DATA\\stores.csv')\n",
    "test_df=pd.read_csv(r'C:\\Users\\merchandisers\\Desktop\\FAV DATA\\test.csv')\n",
    "df_transactions=pd.read_csv(r'C:\\Users\\merchandisers\\Desktop\\FAV DATA\\transactions.csv')"
   ]
  },
  {
   "cell_type": "code",
   "execution_count": 3,
   "id": "f1a8acf6",
   "metadata": {},
   "outputs": [
    {
     "name": "stdout",
     "output_type": "stream",
     "text": [
      "[['2013-01-01' '1' 'AUTOMOTIVE' '0.0' '0']\n",
      " ['2013-01-01' '1' 'BABY CARE' '0.0' '0']\n",
      " ['2013-01-01' '1' 'BEAUTY' '0.0' '0']\n",
      " ...\n",
      " ['2017-08-15' '9' 'PRODUCE' '2419.729' '148']\n",
      " ['2017-08-15' '9' 'SCHOOL AND OFFICE SUPPLIES' '121.0' '8']\n",
      " ['2017-08-15' '9' 'SEAFOOD' '16.0' '0']]\n"
     ]
    }
   ],
   "source": [
    "#Import train dataset\n",
    "\n",
    "filename = 'train.txt'\n",
    "train_df = np.loadtxt(filename, delimiter=',', usecols=(1,2,3,4,5),dtype='str')\n",
    "print(train_df)"
   ]
  },
  {
   "cell_type": "code",
   "execution_count": 4,
   "id": "6f1277e0",
   "metadata": {},
   "outputs": [
    {
     "data": {
      "text/html": [
       "<div>\n",
       "<style scoped>\n",
       "    .dataframe tbody tr th:only-of-type {\n",
       "        vertical-align: middle;\n",
       "    }\n",
       "\n",
       "    .dataframe tbody tr th {\n",
       "        vertical-align: top;\n",
       "    }\n",
       "\n",
       "    .dataframe thead th {\n",
       "        text-align: right;\n",
       "    }\n",
       "</style>\n",
       "<table border=\"1\" class=\"dataframe\">\n",
       "  <thead>\n",
       "    <tr style=\"text-align: right;\">\n",
       "      <th></th>\n",
       "      <th>0</th>\n",
       "      <th>1</th>\n",
       "      <th>2</th>\n",
       "      <th>3</th>\n",
       "      <th>4</th>\n",
       "    </tr>\n",
       "  </thead>\n",
       "  <tbody>\n",
       "    <tr>\n",
       "      <th>0</th>\n",
       "      <td>2013-01-01</td>\n",
       "      <td>1</td>\n",
       "      <td>AUTOMOTIVE</td>\n",
       "      <td>0.0</td>\n",
       "      <td>0</td>\n",
       "    </tr>\n",
       "    <tr>\n",
       "      <th>1</th>\n",
       "      <td>2013-01-01</td>\n",
       "      <td>1</td>\n",
       "      <td>BABY CARE</td>\n",
       "      <td>0.0</td>\n",
       "      <td>0</td>\n",
       "    </tr>\n",
       "    <tr>\n",
       "      <th>2</th>\n",
       "      <td>2013-01-01</td>\n",
       "      <td>1</td>\n",
       "      <td>BEAUTY</td>\n",
       "      <td>0.0</td>\n",
       "      <td>0</td>\n",
       "    </tr>\n",
       "    <tr>\n",
       "      <th>3</th>\n",
       "      <td>2013-01-01</td>\n",
       "      <td>1</td>\n",
       "      <td>BEVERAGES</td>\n",
       "      <td>0.0</td>\n",
       "      <td>0</td>\n",
       "    </tr>\n",
       "    <tr>\n",
       "      <th>4</th>\n",
       "      <td>2013-01-01</td>\n",
       "      <td>1</td>\n",
       "      <td>BOOKS</td>\n",
       "      <td>0.0</td>\n",
       "      <td>0</td>\n",
       "    </tr>\n",
       "    <tr>\n",
       "      <th>...</th>\n",
       "      <td>...</td>\n",
       "      <td>...</td>\n",
       "      <td>...</td>\n",
       "      <td>...</td>\n",
       "      <td>...</td>\n",
       "    </tr>\n",
       "    <tr>\n",
       "      <th>3000883</th>\n",
       "      <td>2017-08-15</td>\n",
       "      <td>9</td>\n",
       "      <td>POULTRY</td>\n",
       "      <td>438.133</td>\n",
       "      <td>0</td>\n",
       "    </tr>\n",
       "    <tr>\n",
       "      <th>3000884</th>\n",
       "      <td>2017-08-15</td>\n",
       "      <td>9</td>\n",
       "      <td>PREPARED FOODS</td>\n",
       "      <td>154.553</td>\n",
       "      <td>1</td>\n",
       "    </tr>\n",
       "    <tr>\n",
       "      <th>3000885</th>\n",
       "      <td>2017-08-15</td>\n",
       "      <td>9</td>\n",
       "      <td>PRODUCE</td>\n",
       "      <td>2419.729</td>\n",
       "      <td>148</td>\n",
       "    </tr>\n",
       "    <tr>\n",
       "      <th>3000886</th>\n",
       "      <td>2017-08-15</td>\n",
       "      <td>9</td>\n",
       "      <td>SCHOOL AND OFFICE SUPPLIES</td>\n",
       "      <td>121.0</td>\n",
       "      <td>8</td>\n",
       "    </tr>\n",
       "    <tr>\n",
       "      <th>3000887</th>\n",
       "      <td>2017-08-15</td>\n",
       "      <td>9</td>\n",
       "      <td>SEAFOOD</td>\n",
       "      <td>16.0</td>\n",
       "      <td>0</td>\n",
       "    </tr>\n",
       "  </tbody>\n",
       "</table>\n",
       "<p>3000888 rows × 5 columns</p>\n",
       "</div>"
      ],
      "text/plain": [
       "                  0  1                           2         3    4\n",
       "0        2013-01-01  1                  AUTOMOTIVE       0.0    0\n",
       "1        2013-01-01  1                   BABY CARE       0.0    0\n",
       "2        2013-01-01  1                      BEAUTY       0.0    0\n",
       "3        2013-01-01  1                   BEVERAGES       0.0    0\n",
       "4        2013-01-01  1                       BOOKS       0.0    0\n",
       "...             ... ..                         ...       ...  ...\n",
       "3000883  2017-08-15  9                     POULTRY   438.133    0\n",
       "3000884  2017-08-15  9              PREPARED FOODS   154.553    1\n",
       "3000885  2017-08-15  9                     PRODUCE  2419.729  148\n",
       "3000886  2017-08-15  9  SCHOOL AND OFFICE SUPPLIES     121.0    8\n",
       "3000887  2017-08-15  9                     SEAFOOD      16.0    0\n",
       "\n",
       "[3000888 rows x 5 columns]"
      ]
     },
     "execution_count": 4,
     "metadata": {},
     "output_type": "execute_result"
    }
   ],
   "source": [
    "train_df=pd.DataFrame(train_df)\n",
    "train_df"
   ]
  },
  {
   "cell_type": "code",
   "execution_count": 5,
   "id": "737c45af",
   "metadata": {},
   "outputs": [
    {
     "data": {
      "text/html": [
       "<div>\n",
       "<style scoped>\n",
       "    .dataframe tbody tr th:only-of-type {\n",
       "        vertical-align: middle;\n",
       "    }\n",
       "\n",
       "    .dataframe tbody tr th {\n",
       "        vertical-align: top;\n",
       "    }\n",
       "\n",
       "    .dataframe thead th {\n",
       "        text-align: right;\n",
       "    }\n",
       "</style>\n",
       "<table border=\"1\" class=\"dataframe\">\n",
       "  <thead>\n",
       "    <tr style=\"text-align: right;\">\n",
       "      <th></th>\n",
       "      <th>date</th>\n",
       "      <th>store_nbr</th>\n",
       "      <th>family</th>\n",
       "      <th>sales</th>\n",
       "      <th>onpromotion</th>\n",
       "    </tr>\n",
       "  </thead>\n",
       "  <tbody>\n",
       "    <tr>\n",
       "      <th>0</th>\n",
       "      <td>2013-01-01</td>\n",
       "      <td>1</td>\n",
       "      <td>AUTOMOTIVE</td>\n",
       "      <td>0.0</td>\n",
       "      <td>0</td>\n",
       "    </tr>\n",
       "    <tr>\n",
       "      <th>1</th>\n",
       "      <td>2013-01-01</td>\n",
       "      <td>1</td>\n",
       "      <td>BABY CARE</td>\n",
       "      <td>0.0</td>\n",
       "      <td>0</td>\n",
       "    </tr>\n",
       "    <tr>\n",
       "      <th>2</th>\n",
       "      <td>2013-01-01</td>\n",
       "      <td>1</td>\n",
       "      <td>BEAUTY</td>\n",
       "      <td>0.0</td>\n",
       "      <td>0</td>\n",
       "    </tr>\n",
       "    <tr>\n",
       "      <th>3</th>\n",
       "      <td>2013-01-01</td>\n",
       "      <td>1</td>\n",
       "      <td>BEVERAGES</td>\n",
       "      <td>0.0</td>\n",
       "      <td>0</td>\n",
       "    </tr>\n",
       "    <tr>\n",
       "      <th>4</th>\n",
       "      <td>2013-01-01</td>\n",
       "      <td>1</td>\n",
       "      <td>BOOKS</td>\n",
       "      <td>0.0</td>\n",
       "      <td>0</td>\n",
       "    </tr>\n",
       "  </tbody>\n",
       "</table>\n",
       "</div>"
      ],
      "text/plain": [
       "         date store_nbr      family sales onpromotion\n",
       "0  2013-01-01         1  AUTOMOTIVE   0.0           0\n",
       "1  2013-01-01         1   BABY CARE   0.0           0\n",
       "2  2013-01-01         1      BEAUTY   0.0           0\n",
       "3  2013-01-01         1   BEVERAGES   0.0           0\n",
       "4  2013-01-01         1       BOOKS   0.0           0"
      ]
     },
     "execution_count": 5,
     "metadata": {},
     "output_type": "execute_result"
    }
   ],
   "source": [
    "#ADDING COLUMNS NAMES\n",
    "\n",
    "train_df.columns =['date', 'store_nbr', 'family', 'sales','onpromotion']\n",
    "train_df.head()"
   ]
  },
  {
   "cell_type": "code",
   "execution_count": 6,
   "id": "6110a5f9",
   "metadata": {},
   "outputs": [
    {
     "name": "stdout",
     "output_type": "stream",
     "text": [
      "<class 'pandas.core.frame.DataFrame'>\n",
      "RangeIndex: 3000888 entries, 0 to 3000887\n",
      "Data columns (total 5 columns):\n",
      " #   Column       Dtype \n",
      "---  ------       ----- \n",
      " 0   date         object\n",
      " 1   store_nbr    object\n",
      " 2   family       object\n",
      " 3   sales        object\n",
      " 4   onpromotion  object\n",
      "dtypes: object(5)\n",
      "memory usage: 114.5+ MB\n"
     ]
    }
   ],
   "source": [
    "train_df.info()"
   ]
  },
  {
   "cell_type": "code",
   "execution_count": 7,
   "id": "9edb8725",
   "metadata": {},
   "outputs": [],
   "source": [
    "#convert columns types\n",
    "\n",
    "train_df['sales']=train_df['sales'].astype('float')\n",
    "train_df['store_nbr']=train_df['store_nbr'].astype('int')"
   ]
  },
  {
   "cell_type": "code",
   "execution_count": 8,
   "id": "e3473fd6",
   "metadata": {},
   "outputs": [],
   "source": [
    "# Convert 'date' column to datetime format\n",
    "train_df['date'] = pd.to_datetime(train_df['date'])"
   ]
  },
  {
   "cell_type": "markdown",
   "id": "d7741537",
   "metadata": {},
   "source": [
    "# Training Data"
   ]
  },
  {
   "cell_type": "code",
   "execution_count": 9,
   "id": "39b140f0",
   "metadata": {},
   "outputs": [
    {
     "data": {
      "text/html": [
       "<div>\n",
       "<style scoped>\n",
       "    .dataframe tbody tr th:only-of-type {\n",
       "        vertical-align: middle;\n",
       "    }\n",
       "\n",
       "    .dataframe tbody tr th {\n",
       "        vertical-align: top;\n",
       "    }\n",
       "\n",
       "    .dataframe thead th {\n",
       "        text-align: right;\n",
       "    }\n",
       "</style>\n",
       "<table border=\"1\" class=\"dataframe\">\n",
       "  <thead>\n",
       "    <tr style=\"text-align: right;\">\n",
       "      <th></th>\n",
       "      <th>date</th>\n",
       "      <th>store_nbr</th>\n",
       "      <th>family</th>\n",
       "      <th>sales</th>\n",
       "      <th>onpromotion</th>\n",
       "    </tr>\n",
       "  </thead>\n",
       "  <tbody>\n",
       "    <tr>\n",
       "      <th>0</th>\n",
       "      <td>2013-01-01</td>\n",
       "      <td>1</td>\n",
       "      <td>AUTOMOTIVE</td>\n",
       "      <td>0.0</td>\n",
       "      <td>0</td>\n",
       "    </tr>\n",
       "    <tr>\n",
       "      <th>1</th>\n",
       "      <td>2013-01-01</td>\n",
       "      <td>1</td>\n",
       "      <td>BABY CARE</td>\n",
       "      <td>0.0</td>\n",
       "      <td>0</td>\n",
       "    </tr>\n",
       "    <tr>\n",
       "      <th>2</th>\n",
       "      <td>2013-01-01</td>\n",
       "      <td>1</td>\n",
       "      <td>BEAUTY</td>\n",
       "      <td>0.0</td>\n",
       "      <td>0</td>\n",
       "    </tr>\n",
       "    <tr>\n",
       "      <th>3</th>\n",
       "      <td>2013-01-01</td>\n",
       "      <td>1</td>\n",
       "      <td>BEVERAGES</td>\n",
       "      <td>0.0</td>\n",
       "      <td>0</td>\n",
       "    </tr>\n",
       "    <tr>\n",
       "      <th>4</th>\n",
       "      <td>2013-01-01</td>\n",
       "      <td>1</td>\n",
       "      <td>BOOKS</td>\n",
       "      <td>0.0</td>\n",
       "      <td>0</td>\n",
       "    </tr>\n",
       "  </tbody>\n",
       "</table>\n",
       "</div>"
      ],
      "text/plain": [
       "        date  store_nbr      family  sales onpromotion\n",
       "0 2013-01-01          1  AUTOMOTIVE    0.0           0\n",
       "1 2013-01-01          1   BABY CARE    0.0           0\n",
       "2 2013-01-01          1      BEAUTY    0.0           0\n",
       "3 2013-01-01          1   BEVERAGES    0.0           0\n",
       "4 2013-01-01          1       BOOKS    0.0           0"
      ]
     },
     "execution_count": 9,
     "metadata": {},
     "output_type": "execute_result"
    }
   ],
   "source": [
    "train_df.head()"
   ]
  },
  {
   "cell_type": "code",
   "execution_count": 10,
   "id": "2282ddfd",
   "metadata": {},
   "outputs": [
    {
     "name": "stdout",
     "output_type": "stream",
     "text": [
      "<class 'pandas.core.frame.DataFrame'>\n",
      "RangeIndex: 3000888 entries, 0 to 3000887\n",
      "Data columns (total 5 columns):\n",
      " #   Column       Dtype         \n",
      "---  ------       -----         \n",
      " 0   date         datetime64[ns]\n",
      " 1   store_nbr    int32         \n",
      " 2   family       object        \n",
      " 3   sales        float64       \n",
      " 4   onpromotion  object        \n",
      "dtypes: datetime64[ns](1), float64(1), int32(1), object(2)\n",
      "memory usage: 103.0+ MB\n"
     ]
    }
   ],
   "source": [
    "train_df.info()"
   ]
  },
  {
   "cell_type": "code",
   "execution_count": 11,
   "id": "17b86f21",
   "metadata": {},
   "outputs": [
    {
     "data": {
      "text/plain": [
       "(3000888, 5)"
      ]
     },
     "execution_count": 11,
     "metadata": {},
     "output_type": "execute_result"
    }
   ],
   "source": [
    "train_df.shape"
   ]
  },
  {
   "cell_type": "code",
   "execution_count": 12,
   "id": "87473bb2",
   "metadata": {},
   "outputs": [
    {
     "data": {
      "text/plain": [
       "date           0\n",
       "store_nbr      0\n",
       "family         0\n",
       "sales          0\n",
       "onpromotion    0\n",
       "dtype: int64"
      ]
     },
     "execution_count": 12,
     "metadata": {},
     "output_type": "execute_result"
    }
   ],
   "source": [
    "train_df.head().isnull().sum()"
   ]
  },
  {
   "cell_type": "markdown",
   "id": "5ad48d2f",
   "metadata": {},
   "source": [
    "# Events Data"
   ]
  },
  {
   "cell_type": "code",
   "execution_count": 13,
   "id": "a2e7fc3f",
   "metadata": {},
   "outputs": [
    {
     "data": {
      "text/html": [
       "<div>\n",
       "<style scoped>\n",
       "    .dataframe tbody tr th:only-of-type {\n",
       "        vertical-align: middle;\n",
       "    }\n",
       "\n",
       "    .dataframe tbody tr th {\n",
       "        vertical-align: top;\n",
       "    }\n",
       "\n",
       "    .dataframe thead th {\n",
       "        text-align: right;\n",
       "    }\n",
       "</style>\n",
       "<table border=\"1\" class=\"dataframe\">\n",
       "  <thead>\n",
       "    <tr style=\"text-align: right;\">\n",
       "      <th></th>\n",
       "      <th>date</th>\n",
       "      <th>type</th>\n",
       "      <th>locale</th>\n",
       "      <th>locale_name</th>\n",
       "      <th>description</th>\n",
       "      <th>transferred</th>\n",
       "    </tr>\n",
       "  </thead>\n",
       "  <tbody>\n",
       "    <tr>\n",
       "      <th>0</th>\n",
       "      <td>2012-03-02</td>\n",
       "      <td>Holiday</td>\n",
       "      <td>Local</td>\n",
       "      <td>Manta</td>\n",
       "      <td>Fundacion de Manta</td>\n",
       "      <td>False</td>\n",
       "    </tr>\n",
       "    <tr>\n",
       "      <th>1</th>\n",
       "      <td>2012-04-01</td>\n",
       "      <td>Holiday</td>\n",
       "      <td>Regional</td>\n",
       "      <td>Cotopaxi</td>\n",
       "      <td>Provincializacion de Cotopaxi</td>\n",
       "      <td>False</td>\n",
       "    </tr>\n",
       "    <tr>\n",
       "      <th>2</th>\n",
       "      <td>2012-04-12</td>\n",
       "      <td>Holiday</td>\n",
       "      <td>Local</td>\n",
       "      <td>Cuenca</td>\n",
       "      <td>Fundacion de Cuenca</td>\n",
       "      <td>False</td>\n",
       "    </tr>\n",
       "    <tr>\n",
       "      <th>3</th>\n",
       "      <td>2012-04-14</td>\n",
       "      <td>Holiday</td>\n",
       "      <td>Local</td>\n",
       "      <td>Libertad</td>\n",
       "      <td>Cantonizacion de Libertad</td>\n",
       "      <td>False</td>\n",
       "    </tr>\n",
       "    <tr>\n",
       "      <th>4</th>\n",
       "      <td>2012-04-21</td>\n",
       "      <td>Holiday</td>\n",
       "      <td>Local</td>\n",
       "      <td>Riobamba</td>\n",
       "      <td>Cantonizacion de Riobamba</td>\n",
       "      <td>False</td>\n",
       "    </tr>\n",
       "  </tbody>\n",
       "</table>\n",
       "</div>"
      ],
      "text/plain": [
       "         date     type    locale locale_name                    description  \\\n",
       "0  2012-03-02  Holiday     Local       Manta             Fundacion de Manta   \n",
       "1  2012-04-01  Holiday  Regional    Cotopaxi  Provincializacion de Cotopaxi   \n",
       "2  2012-04-12  Holiday     Local      Cuenca            Fundacion de Cuenca   \n",
       "3  2012-04-14  Holiday     Local    Libertad      Cantonizacion de Libertad   \n",
       "4  2012-04-21  Holiday     Local    Riobamba      Cantonizacion de Riobamba   \n",
       "\n",
       "   transferred  \n",
       "0        False  \n",
       "1        False  \n",
       "2        False  \n",
       "3        False  \n",
       "4        False  "
      ]
     },
     "execution_count": 13,
     "metadata": {},
     "output_type": "execute_result"
    }
   ],
   "source": [
    "events_df.head()"
   ]
  },
  {
   "cell_type": "code",
   "execution_count": 14,
   "id": "d3ba6c69",
   "metadata": {},
   "outputs": [
    {
     "name": "stdout",
     "output_type": "stream",
     "text": [
      "<class 'pandas.core.frame.DataFrame'>\n",
      "RangeIndex: 350 entries, 0 to 349\n",
      "Data columns (total 6 columns):\n",
      " #   Column       Non-Null Count  Dtype \n",
      "---  ------       --------------  ----- \n",
      " 0   date         350 non-null    object\n",
      " 1   type         350 non-null    object\n",
      " 2   locale       350 non-null    object\n",
      " 3   locale_name  350 non-null    object\n",
      " 4   description  350 non-null    object\n",
      " 5   transferred  350 non-null    bool  \n",
      "dtypes: bool(1), object(5)\n",
      "memory usage: 14.1+ KB\n"
     ]
    }
   ],
   "source": [
    "events_df.info()"
   ]
  },
  {
   "cell_type": "code",
   "execution_count": 15,
   "id": "f6bbb9dc",
   "metadata": {},
   "outputs": [
    {
     "data": {
      "text/plain": [
       "(350, 6)"
      ]
     },
     "execution_count": 15,
     "metadata": {},
     "output_type": "execute_result"
    }
   ],
   "source": [
    "events_df.shape"
   ]
  },
  {
   "cell_type": "code",
   "execution_count": 16,
   "id": "a3043f04",
   "metadata": {},
   "outputs": [
    {
     "data": {
      "text/plain": [
       "date           0\n",
       "type           0\n",
       "locale         0\n",
       "locale_name    0\n",
       "description    0\n",
       "transferred    0\n",
       "dtype: int64"
      ]
     },
     "execution_count": 16,
     "metadata": {},
     "output_type": "execute_result"
    }
   ],
   "source": [
    "events_df.isnull().sum()"
   ]
  },
  {
   "cell_type": "markdown",
   "id": "9d9f277d",
   "metadata": {},
   "source": [
    "# Oil Data"
   ]
  },
  {
   "cell_type": "code",
   "execution_count": 17,
   "id": "d49d5798",
   "metadata": {},
   "outputs": [
    {
     "data": {
      "text/html": [
       "<div>\n",
       "<style scoped>\n",
       "    .dataframe tbody tr th:only-of-type {\n",
       "        vertical-align: middle;\n",
       "    }\n",
       "\n",
       "    .dataframe tbody tr th {\n",
       "        vertical-align: top;\n",
       "    }\n",
       "\n",
       "    .dataframe thead th {\n",
       "        text-align: right;\n",
       "    }\n",
       "</style>\n",
       "<table border=\"1\" class=\"dataframe\">\n",
       "  <thead>\n",
       "    <tr style=\"text-align: right;\">\n",
       "      <th></th>\n",
       "      <th>date</th>\n",
       "      <th>dcoilwtico</th>\n",
       "    </tr>\n",
       "  </thead>\n",
       "  <tbody>\n",
       "    <tr>\n",
       "      <th>0</th>\n",
       "      <td>2013-01-01</td>\n",
       "      <td>NaN</td>\n",
       "    </tr>\n",
       "    <tr>\n",
       "      <th>1</th>\n",
       "      <td>2013-01-02</td>\n",
       "      <td>93.139999</td>\n",
       "    </tr>\n",
       "    <tr>\n",
       "      <th>2</th>\n",
       "      <td>2013-01-03</td>\n",
       "      <td>92.970001</td>\n",
       "    </tr>\n",
       "    <tr>\n",
       "      <th>3</th>\n",
       "      <td>2013-01-04</td>\n",
       "      <td>93.120003</td>\n",
       "    </tr>\n",
       "    <tr>\n",
       "      <th>4</th>\n",
       "      <td>2013-01-07</td>\n",
       "      <td>93.199997</td>\n",
       "    </tr>\n",
       "  </tbody>\n",
       "</table>\n",
       "</div>"
      ],
      "text/plain": [
       "         date  dcoilwtico\n",
       "0  2013-01-01         NaN\n",
       "1  2013-01-02   93.139999\n",
       "2  2013-01-03   92.970001\n",
       "3  2013-01-04   93.120003\n",
       "4  2013-01-07   93.199997"
      ]
     },
     "execution_count": 17,
     "metadata": {},
     "output_type": "execute_result"
    }
   ],
   "source": [
    "oil_df.head()"
   ]
  },
  {
   "cell_type": "code",
   "execution_count": 18,
   "id": "ecdc7d41",
   "metadata": {},
   "outputs": [
    {
     "name": "stdout",
     "output_type": "stream",
     "text": [
      "<class 'pandas.core.frame.DataFrame'>\n",
      "RangeIndex: 1218 entries, 0 to 1217\n",
      "Data columns (total 2 columns):\n",
      " #   Column      Non-Null Count  Dtype  \n",
      "---  ------      --------------  -----  \n",
      " 0   date        1218 non-null   object \n",
      " 1   dcoilwtico  1175 non-null   float64\n",
      "dtypes: float64(1), object(1)\n",
      "memory usage: 19.2+ KB\n"
     ]
    }
   ],
   "source": [
    "oil_df.info()"
   ]
  },
  {
   "cell_type": "code",
   "execution_count": 19,
   "id": "1c9b57d1",
   "metadata": {},
   "outputs": [
    {
     "data": {
      "text/plain": [
       "min    2013-01-01\n",
       "max    2017-08-31\n",
       "Name: date, dtype: object"
      ]
     },
     "execution_count": 19,
     "metadata": {},
     "output_type": "execute_result"
    }
   ],
   "source": [
    "oil_df['date'].agg(['min', 'max'])"
   ]
  },
  {
   "cell_type": "code",
   "execution_count": 20,
   "id": "0754b84b",
   "metadata": {},
   "outputs": [],
   "source": [
    "#Getting the missing dates\n",
    "oil_missing_dates=pd.date_range(start='2013-01-01', end='2017-08-31').difference(oil_df.date.unique())"
   ]
  },
  {
   "cell_type": "code",
   "execution_count": 21,
   "id": "fb81cf12",
   "metadata": {},
   "outputs": [
    {
     "data": {
      "text/plain": [
       "DatetimeIndex(['2013-01-05', '2013-01-06', '2013-01-12', '2013-01-13',\n",
       "               '2013-01-19', '2013-01-20', '2013-01-26', '2013-01-27',\n",
       "               '2013-02-02', '2013-02-03',\n",
       "               ...\n",
       "               '2017-07-29', '2017-07-30', '2017-08-05', '2017-08-06',\n",
       "               '2017-08-12', '2017-08-13', '2017-08-19', '2017-08-20',\n",
       "               '2017-08-26', '2017-08-27'],\n",
       "              dtype='datetime64[ns]', length=486, freq=None)"
      ]
     },
     "execution_count": 21,
     "metadata": {},
     "output_type": "execute_result"
    }
   ],
   "source": [
    "oil_missing_dates"
   ]
  },
  {
   "cell_type": "code",
   "execution_count": 22,
   "id": "363fa380",
   "metadata": {},
   "outputs": [
    {
     "data": {
      "text/html": [
       "<div>\n",
       "<style scoped>\n",
       "    .dataframe tbody tr th:only-of-type {\n",
       "        vertical-align: middle;\n",
       "    }\n",
       "\n",
       "    .dataframe tbody tr th {\n",
       "        vertical-align: top;\n",
       "    }\n",
       "\n",
       "    .dataframe thead th {\n",
       "        text-align: right;\n",
       "    }\n",
       "</style>\n",
       "<table border=\"1\" class=\"dataframe\">\n",
       "  <thead>\n",
       "    <tr style=\"text-align: right;\">\n",
       "      <th></th>\n",
       "      <th>date</th>\n",
       "    </tr>\n",
       "  </thead>\n",
       "  <tbody>\n",
       "    <tr>\n",
       "      <th>0</th>\n",
       "      <td>2013-01-05</td>\n",
       "    </tr>\n",
       "    <tr>\n",
       "      <th>1</th>\n",
       "      <td>2013-01-06</td>\n",
       "    </tr>\n",
       "    <tr>\n",
       "      <th>2</th>\n",
       "      <td>2013-01-12</td>\n",
       "    </tr>\n",
       "    <tr>\n",
       "      <th>3</th>\n",
       "      <td>2013-01-13</td>\n",
       "    </tr>\n",
       "    <tr>\n",
       "      <th>4</th>\n",
       "      <td>2013-01-19</td>\n",
       "    </tr>\n",
       "    <tr>\n",
       "      <th>...</th>\n",
       "      <td>...</td>\n",
       "    </tr>\n",
       "    <tr>\n",
       "      <th>481</th>\n",
       "      <td>2017-08-13</td>\n",
       "    </tr>\n",
       "    <tr>\n",
       "      <th>482</th>\n",
       "      <td>2017-08-19</td>\n",
       "    </tr>\n",
       "    <tr>\n",
       "      <th>483</th>\n",
       "      <td>2017-08-20</td>\n",
       "    </tr>\n",
       "    <tr>\n",
       "      <th>484</th>\n",
       "      <td>2017-08-26</td>\n",
       "    </tr>\n",
       "    <tr>\n",
       "      <th>485</th>\n",
       "      <td>2017-08-27</td>\n",
       "    </tr>\n",
       "  </tbody>\n",
       "</table>\n",
       "<p>486 rows × 1 columns</p>\n",
       "</div>"
      ],
      "text/plain": [
       "          date\n",
       "0   2013-01-05\n",
       "1   2013-01-06\n",
       "2   2013-01-12\n",
       "3   2013-01-13\n",
       "4   2013-01-19\n",
       "..         ...\n",
       "481 2017-08-13\n",
       "482 2017-08-19\n",
       "483 2017-08-20\n",
       "484 2017-08-26\n",
       "485 2017-08-27\n",
       "\n",
       "[486 rows x 1 columns]"
      ]
     },
     "execution_count": 22,
     "metadata": {},
     "output_type": "execute_result"
    }
   ],
   "source": [
    "missing_data = pd.DataFrame(oil_missing_dates, columns=['date'])\n",
    "missing_data"
   ]
  },
  {
   "cell_type": "code",
   "execution_count": 23,
   "id": "2802b2f0",
   "metadata": {},
   "outputs": [
    {
     "data": {
      "text/html": [
       "<div>\n",
       "<style scoped>\n",
       "    .dataframe tbody tr th:only-of-type {\n",
       "        vertical-align: middle;\n",
       "    }\n",
       "\n",
       "    .dataframe tbody tr th {\n",
       "        vertical-align: top;\n",
       "    }\n",
       "\n",
       "    .dataframe thead th {\n",
       "        text-align: right;\n",
       "    }\n",
       "</style>\n",
       "<table border=\"1\" class=\"dataframe\">\n",
       "  <thead>\n",
       "    <tr style=\"text-align: right;\">\n",
       "      <th></th>\n",
       "      <th>date</th>\n",
       "      <th>dcoilwtico</th>\n",
       "    </tr>\n",
       "  </thead>\n",
       "  <tbody>\n",
       "    <tr>\n",
       "      <th>0</th>\n",
       "      <td>2013-01-01</td>\n",
       "      <td>NaN</td>\n",
       "    </tr>\n",
       "    <tr>\n",
       "      <th>1</th>\n",
       "      <td>2013-01-02</td>\n",
       "      <td>93.139999</td>\n",
       "    </tr>\n",
       "    <tr>\n",
       "      <th>2</th>\n",
       "      <td>2013-01-03</td>\n",
       "      <td>92.970001</td>\n",
       "    </tr>\n",
       "    <tr>\n",
       "      <th>3</th>\n",
       "      <td>2013-01-04</td>\n",
       "      <td>93.120003</td>\n",
       "    </tr>\n",
       "    <tr>\n",
       "      <th>4</th>\n",
       "      <td>2013-01-07</td>\n",
       "      <td>93.199997</td>\n",
       "    </tr>\n",
       "  </tbody>\n",
       "</table>\n",
       "</div>"
      ],
      "text/plain": [
       "         date  dcoilwtico\n",
       "0  2013-01-01         NaN\n",
       "1  2013-01-02   93.139999\n",
       "2  2013-01-03   92.970001\n",
       "3  2013-01-04   93.120003\n",
       "4  2013-01-07   93.199997"
      ]
     },
     "execution_count": 23,
     "metadata": {},
     "output_type": "execute_result"
    }
   ],
   "source": [
    "#combining the original train data with the missing date dataframe\n",
    "oil_data=pd.concat([oil_df,missing_data],ignore_index= True)\n",
    "oil_data.head()"
   ]
  },
  {
   "cell_type": "code",
   "execution_count": 24,
   "id": "050cbe85",
   "metadata": {},
   "outputs": [],
   "source": [
    "oil_data['dcoilwtico'].interpolate(method ='linear', limit_direction ='both',inplace=True)"
   ]
  },
  {
   "cell_type": "code",
   "execution_count": 25,
   "id": "04ccd5de",
   "metadata": {},
   "outputs": [
    {
     "data": {
      "text/plain": [
       "date          0\n",
       "dcoilwtico    0\n",
       "dtype: int64"
      ]
     },
     "execution_count": 25,
     "metadata": {},
     "output_type": "execute_result"
    }
   ],
   "source": [
    "oil_data.isnull().sum()"
   ]
  },
  {
   "cell_type": "code",
   "execution_count": 26,
   "id": "96f7a173",
   "metadata": {},
   "outputs": [
    {
     "data": {
      "text/plain": [
       "(1704, 2)"
      ]
     },
     "execution_count": 26,
     "metadata": {},
     "output_type": "execute_result"
    }
   ],
   "source": [
    "oil_data.shape"
   ]
  },
  {
   "cell_type": "markdown",
   "id": "9e06f1fe",
   "metadata": {},
   "source": [
    "# Store Data"
   ]
  },
  {
   "cell_type": "code",
   "execution_count": 27,
   "id": "af1430ea",
   "metadata": {},
   "outputs": [
    {
     "data": {
      "text/html": [
       "<div>\n",
       "<style scoped>\n",
       "    .dataframe tbody tr th:only-of-type {\n",
       "        vertical-align: middle;\n",
       "    }\n",
       "\n",
       "    .dataframe tbody tr th {\n",
       "        vertical-align: top;\n",
       "    }\n",
       "\n",
       "    .dataframe thead th {\n",
       "        text-align: right;\n",
       "    }\n",
       "</style>\n",
       "<table border=\"1\" class=\"dataframe\">\n",
       "  <thead>\n",
       "    <tr style=\"text-align: right;\">\n",
       "      <th></th>\n",
       "      <th>store_nbr</th>\n",
       "      <th>city</th>\n",
       "      <th>state</th>\n",
       "      <th>type</th>\n",
       "      <th>cluster</th>\n",
       "    </tr>\n",
       "  </thead>\n",
       "  <tbody>\n",
       "    <tr>\n",
       "      <th>0</th>\n",
       "      <td>1</td>\n",
       "      <td>Quito</td>\n",
       "      <td>Pichincha</td>\n",
       "      <td>D</td>\n",
       "      <td>13</td>\n",
       "    </tr>\n",
       "    <tr>\n",
       "      <th>1</th>\n",
       "      <td>2</td>\n",
       "      <td>Quito</td>\n",
       "      <td>Pichincha</td>\n",
       "      <td>D</td>\n",
       "      <td>13</td>\n",
       "    </tr>\n",
       "    <tr>\n",
       "      <th>2</th>\n",
       "      <td>3</td>\n",
       "      <td>Quito</td>\n",
       "      <td>Pichincha</td>\n",
       "      <td>D</td>\n",
       "      <td>8</td>\n",
       "    </tr>\n",
       "    <tr>\n",
       "      <th>3</th>\n",
       "      <td>4</td>\n",
       "      <td>Quito</td>\n",
       "      <td>Pichincha</td>\n",
       "      <td>D</td>\n",
       "      <td>9</td>\n",
       "    </tr>\n",
       "    <tr>\n",
       "      <th>4</th>\n",
       "      <td>5</td>\n",
       "      <td>Santo Domingo</td>\n",
       "      <td>Santo Domingo de los Tsachilas</td>\n",
       "      <td>D</td>\n",
       "      <td>4</td>\n",
       "    </tr>\n",
       "  </tbody>\n",
       "</table>\n",
       "</div>"
      ],
      "text/plain": [
       "   store_nbr           city                           state type  cluster\n",
       "0          1          Quito                       Pichincha    D       13\n",
       "1          2          Quito                       Pichincha    D       13\n",
       "2          3          Quito                       Pichincha    D        8\n",
       "3          4          Quito                       Pichincha    D        9\n",
       "4          5  Santo Domingo  Santo Domingo de los Tsachilas    D        4"
      ]
     },
     "execution_count": 27,
     "metadata": {},
     "output_type": "execute_result"
    }
   ],
   "source": [
    "store_df.head()"
   ]
  },
  {
   "cell_type": "code",
   "execution_count": 28,
   "id": "8bb81bf2",
   "metadata": {},
   "outputs": [
    {
     "name": "stdout",
     "output_type": "stream",
     "text": [
      "<class 'pandas.core.frame.DataFrame'>\n",
      "RangeIndex: 54 entries, 0 to 53\n",
      "Data columns (total 5 columns):\n",
      " #   Column     Non-Null Count  Dtype \n",
      "---  ------     --------------  ----- \n",
      " 0   store_nbr  54 non-null     int64 \n",
      " 1   city       54 non-null     object\n",
      " 2   state      54 non-null     object\n",
      " 3   type       54 non-null     object\n",
      " 4   cluster    54 non-null     int64 \n",
      "dtypes: int64(2), object(3)\n",
      "memory usage: 2.2+ KB\n"
     ]
    }
   ],
   "source": [
    "store_df.info()"
   ]
  },
  {
   "cell_type": "code",
   "execution_count": 29,
   "id": "aa981368",
   "metadata": {},
   "outputs": [
    {
     "data": {
      "text/plain": [
       "store_nbr    0\n",
       "city         0\n",
       "state        0\n",
       "type         0\n",
       "cluster      0\n",
       "dtype: int64"
      ]
     },
     "execution_count": 29,
     "metadata": {},
     "output_type": "execute_result"
    }
   ],
   "source": [
    "store_df.isnull().sum()"
   ]
  },
  {
   "cell_type": "code",
   "execution_count": 30,
   "id": "ac7395e0",
   "metadata": {},
   "outputs": [
    {
     "data": {
      "text/plain": [
       "(54, 5)"
      ]
     },
     "execution_count": 30,
     "metadata": {},
     "output_type": "execute_result"
    }
   ],
   "source": [
    "store_df.shape"
   ]
  },
  {
   "cell_type": "markdown",
   "id": "b0951761",
   "metadata": {},
   "source": [
    "# Test data"
   ]
  },
  {
   "cell_type": "code",
   "execution_count": 31,
   "id": "832676b1",
   "metadata": {},
   "outputs": [
    {
     "data": {
      "text/html": [
       "<div>\n",
       "<style scoped>\n",
       "    .dataframe tbody tr th:only-of-type {\n",
       "        vertical-align: middle;\n",
       "    }\n",
       "\n",
       "    .dataframe tbody tr th {\n",
       "        vertical-align: top;\n",
       "    }\n",
       "\n",
       "    .dataframe thead th {\n",
       "        text-align: right;\n",
       "    }\n",
       "</style>\n",
       "<table border=\"1\" class=\"dataframe\">\n",
       "  <thead>\n",
       "    <tr style=\"text-align: right;\">\n",
       "      <th></th>\n",
       "      <th>id</th>\n",
       "      <th>date</th>\n",
       "      <th>store_nbr</th>\n",
       "      <th>family</th>\n",
       "      <th>onpromotion</th>\n",
       "      <th>Unnamed: 5</th>\n",
       "      <th>Unnamed: 6</th>\n",
       "      <th>Unnamed: 7</th>\n",
       "      <th>Unnamed: 8</th>\n",
       "      <th>Unnamed: 9</th>\n",
       "      <th>Unnamed: 10</th>\n",
       "      <th>Unnamed: 11</th>\n",
       "    </tr>\n",
       "  </thead>\n",
       "  <tbody>\n",
       "    <tr>\n",
       "      <th>0</th>\n",
       "      <td>3000888</td>\n",
       "      <td>16/08/2017</td>\n",
       "      <td>1</td>\n",
       "      <td>AUTOMOTIVE</td>\n",
       "      <td>0</td>\n",
       "      <td>NaN</td>\n",
       "      <td>NaN</td>\n",
       "      <td>NaN</td>\n",
       "      <td>NaN</td>\n",
       "      <td>NaN</td>\n",
       "      <td>NaN</td>\n",
       "      <td>NaN</td>\n",
       "    </tr>\n",
       "    <tr>\n",
       "      <th>1</th>\n",
       "      <td>3000889</td>\n",
       "      <td>16/08/2017</td>\n",
       "      <td>1</td>\n",
       "      <td>BABY CARE</td>\n",
       "      <td>0</td>\n",
       "      <td>NaN</td>\n",
       "      <td>NaN</td>\n",
       "      <td>NaN</td>\n",
       "      <td>NaN</td>\n",
       "      <td>NaN</td>\n",
       "      <td>NaN</td>\n",
       "      <td>NaN</td>\n",
       "    </tr>\n",
       "    <tr>\n",
       "      <th>2</th>\n",
       "      <td>3000890</td>\n",
       "      <td>16/08/2017</td>\n",
       "      <td>1</td>\n",
       "      <td>BEAUTY</td>\n",
       "      <td>2</td>\n",
       "      <td>NaN</td>\n",
       "      <td>NaN</td>\n",
       "      <td>NaN</td>\n",
       "      <td>NaN</td>\n",
       "      <td>NaN</td>\n",
       "      <td>NaN</td>\n",
       "      <td>NaN</td>\n",
       "    </tr>\n",
       "    <tr>\n",
       "      <th>3</th>\n",
       "      <td>3000891</td>\n",
       "      <td>16/08/2017</td>\n",
       "      <td>1</td>\n",
       "      <td>BEVERAGES</td>\n",
       "      <td>20</td>\n",
       "      <td>NaN</td>\n",
       "      <td>NaN</td>\n",
       "      <td>NaN</td>\n",
       "      <td>NaN</td>\n",
       "      <td>NaN</td>\n",
       "      <td>NaN</td>\n",
       "      <td>NaN</td>\n",
       "    </tr>\n",
       "    <tr>\n",
       "      <th>4</th>\n",
       "      <td>3000892</td>\n",
       "      <td>16/08/2017</td>\n",
       "      <td>1</td>\n",
       "      <td>BOOKS</td>\n",
       "      <td>0</td>\n",
       "      <td>NaN</td>\n",
       "      <td>NaN</td>\n",
       "      <td>NaN</td>\n",
       "      <td>NaN</td>\n",
       "      <td>NaN</td>\n",
       "      <td>NaN</td>\n",
       "      <td>NaN</td>\n",
       "    </tr>\n",
       "  </tbody>\n",
       "</table>\n",
       "</div>"
      ],
      "text/plain": [
       "        id        date  store_nbr      family  onpromotion  Unnamed: 5  \\\n",
       "0  3000888  16/08/2017          1  AUTOMOTIVE            0         NaN   \n",
       "1  3000889  16/08/2017          1   BABY CARE            0         NaN   \n",
       "2  3000890  16/08/2017          1      BEAUTY            2         NaN   \n",
       "3  3000891  16/08/2017          1   BEVERAGES           20         NaN   \n",
       "4  3000892  16/08/2017          1       BOOKS            0         NaN   \n",
       "\n",
       "   Unnamed: 6  Unnamed: 7  Unnamed: 8  Unnamed: 9  Unnamed: 10  Unnamed: 11  \n",
       "0         NaN         NaN         NaN         NaN          NaN          NaN  \n",
       "1         NaN         NaN         NaN         NaN          NaN          NaN  \n",
       "2         NaN         NaN         NaN         NaN          NaN          NaN  \n",
       "3         NaN         NaN         NaN         NaN          NaN          NaN  \n",
       "4         NaN         NaN         NaN         NaN          NaN          NaN  "
      ]
     },
     "execution_count": 31,
     "metadata": {},
     "output_type": "execute_result"
    }
   ],
   "source": [
    "test_df.head()"
   ]
  },
  {
   "cell_type": "code",
   "execution_count": 32,
   "id": "48c32709",
   "metadata": {},
   "outputs": [
    {
     "name": "stdout",
     "output_type": "stream",
     "text": [
      "<class 'pandas.core.frame.DataFrame'>\n",
      "RangeIndex: 28512 entries, 0 to 28511\n",
      "Data columns (total 12 columns):\n",
      " #   Column       Non-Null Count  Dtype  \n",
      "---  ------       --------------  -----  \n",
      " 0   id           28512 non-null  int64  \n",
      " 1   date         28512 non-null  object \n",
      " 2   store_nbr    28512 non-null  int64  \n",
      " 3   family       28512 non-null  object \n",
      " 4   onpromotion  28512 non-null  int64  \n",
      " 5   Unnamed: 5   0 non-null      float64\n",
      " 6   Unnamed: 6   0 non-null      float64\n",
      " 7   Unnamed: 7   0 non-null      float64\n",
      " 8   Unnamed: 8   0 non-null      float64\n",
      " 9   Unnamed: 9   0 non-null      float64\n",
      " 10  Unnamed: 10  0 non-null      float64\n",
      " 11  Unnamed: 11  0 non-null      float64\n",
      "dtypes: float64(7), int64(3), object(2)\n",
      "memory usage: 2.6+ MB\n"
     ]
    }
   ],
   "source": [
    "test_df.info()"
   ]
  },
  {
   "cell_type": "code",
   "execution_count": 33,
   "id": "a4590859",
   "metadata": {},
   "outputs": [
    {
     "data": {
      "text/plain": [
       "id                 0\n",
       "date               0\n",
       "store_nbr          0\n",
       "family             0\n",
       "onpromotion        0\n",
       "Unnamed: 5     28512\n",
       "Unnamed: 6     28512\n",
       "Unnamed: 7     28512\n",
       "Unnamed: 8     28512\n",
       "Unnamed: 9     28512\n",
       "Unnamed: 10    28512\n",
       "Unnamed: 11    28512\n",
       "dtype: int64"
      ]
     },
     "execution_count": 33,
     "metadata": {},
     "output_type": "execute_result"
    }
   ],
   "source": [
    "test_df.isnull().sum()"
   ]
  },
  {
   "cell_type": "code",
   "execution_count": 34,
   "id": "f9d2f192",
   "metadata": {},
   "outputs": [
    {
     "data": {
      "text/plain": [
       "(28512, 12)"
      ]
     },
     "execution_count": 34,
     "metadata": {},
     "output_type": "execute_result"
    }
   ],
   "source": [
    "test_df.shape"
   ]
  },
  {
   "cell_type": "markdown",
   "id": "c2b88e6e",
   "metadata": {},
   "source": [
    "# Exploratory Data Analysis: EDA"
   ]
  },
  {
   "cell_type": "markdown",
   "id": "024ec6db",
   "metadata": {},
   "source": [
    "# 1. Is the train dataset complete (has all the required dates)?"
   ]
  },
  {
   "cell_type": "code",
   "execution_count": 35,
   "id": "5258021a",
   "metadata": {},
   "outputs": [
    {
     "data": {
      "text/plain": [
       "min   2013-01-01\n",
       "max   2017-08-15\n",
       "Name: date, dtype: datetime64[ns]"
      ]
     },
     "execution_count": 35,
     "metadata": {},
     "output_type": "execute_result"
    }
   ],
   "source": [
    "train_df['date'].agg(['min', 'max'])"
   ]
  },
  {
   "cell_type": "code",
   "execution_count": 36,
   "id": "61945286",
   "metadata": {},
   "outputs": [
    {
     "data": {
      "text/plain": [
       "DatetimeIndex(['2013-12-25', '2014-12-25', '2015-12-25', '2016-12-25'], dtype='datetime64[ns]', freq=None)"
      ]
     },
     "execution_count": 36,
     "metadata": {},
     "output_type": "execute_result"
    }
   ],
   "source": [
    "#Getting the missing dates\n",
    "train_missing_dates=pd.date_range(start='2013-01-01', end='2017-08-15').difference(train_df.date.unique())\n",
    "train_missing_dates"
   ]
  },
  {
   "cell_type": "markdown",
   "id": "caf9e251",
   "metadata": {},
   "source": [
    "# filling the missing dates"
   ]
  },
  {
   "cell_type": "code",
   "execution_count": 37,
   "id": "af470a8d",
   "metadata": {},
   "outputs": [],
   "source": [
    "from itertools import product\n",
    "\n",
    "added_dates=list(product(train_missing_dates,train_df.store_nbr.unique(),train_df.family.unique()))"
   ]
  },
  {
   "cell_type": "code",
   "execution_count": 38,
   "id": "07344fe9",
   "metadata": {},
   "outputs": [],
   "source": [
    "train_missing_data = pd.DataFrame(added_dates, columns=['date','store_nbr','family'])"
   ]
  },
  {
   "cell_type": "code",
   "execution_count": 39,
   "id": "c1677325",
   "metadata": {},
   "outputs": [
    {
     "data": {
      "text/html": [
       "<div>\n",
       "<style scoped>\n",
       "    .dataframe tbody tr th:only-of-type {\n",
       "        vertical-align: middle;\n",
       "    }\n",
       "\n",
       "    .dataframe tbody tr th {\n",
       "        vertical-align: top;\n",
       "    }\n",
       "\n",
       "    .dataframe thead th {\n",
       "        text-align: right;\n",
       "    }\n",
       "</style>\n",
       "<table border=\"1\" class=\"dataframe\">\n",
       "  <thead>\n",
       "    <tr style=\"text-align: right;\">\n",
       "      <th></th>\n",
       "      <th>date</th>\n",
       "      <th>store_nbr</th>\n",
       "      <th>family</th>\n",
       "    </tr>\n",
       "  </thead>\n",
       "  <tbody>\n",
       "    <tr>\n",
       "      <th>0</th>\n",
       "      <td>2013-12-25</td>\n",
       "      <td>1</td>\n",
       "      <td>AUTOMOTIVE</td>\n",
       "    </tr>\n",
       "    <tr>\n",
       "      <th>1</th>\n",
       "      <td>2013-12-25</td>\n",
       "      <td>1</td>\n",
       "      <td>BABY CARE</td>\n",
       "    </tr>\n",
       "    <tr>\n",
       "      <th>2</th>\n",
       "      <td>2013-12-25</td>\n",
       "      <td>1</td>\n",
       "      <td>BEAUTY</td>\n",
       "    </tr>\n",
       "    <tr>\n",
       "      <th>3</th>\n",
       "      <td>2013-12-25</td>\n",
       "      <td>1</td>\n",
       "      <td>BEVERAGES</td>\n",
       "    </tr>\n",
       "    <tr>\n",
       "      <th>4</th>\n",
       "      <td>2013-12-25</td>\n",
       "      <td>1</td>\n",
       "      <td>BOOKS</td>\n",
       "    </tr>\n",
       "  </tbody>\n",
       "</table>\n",
       "</div>"
      ],
      "text/plain": [
       "        date  store_nbr      family\n",
       "0 2013-12-25          1  AUTOMOTIVE\n",
       "1 2013-12-25          1   BABY CARE\n",
       "2 2013-12-25          1      BEAUTY\n",
       "3 2013-12-25          1   BEVERAGES\n",
       "4 2013-12-25          1       BOOKS"
      ]
     },
     "execution_count": 39,
     "metadata": {},
     "output_type": "execute_result"
    }
   ],
   "source": [
    "train_missing_data.head()"
   ]
  },
  {
   "cell_type": "code",
   "execution_count": 40,
   "id": "444a0f8e",
   "metadata": {},
   "outputs": [
    {
     "data": {
      "text/html": [
       "<div>\n",
       "<style scoped>\n",
       "    .dataframe tbody tr th:only-of-type {\n",
       "        vertical-align: middle;\n",
       "    }\n",
       "\n",
       "    .dataframe tbody tr th {\n",
       "        vertical-align: top;\n",
       "    }\n",
       "\n",
       "    .dataframe thead th {\n",
       "        text-align: right;\n",
       "    }\n",
       "</style>\n",
       "<table border=\"1\" class=\"dataframe\">\n",
       "  <thead>\n",
       "    <tr style=\"text-align: right;\">\n",
       "      <th></th>\n",
       "      <th>date</th>\n",
       "      <th>store_nbr</th>\n",
       "      <th>family</th>\n",
       "      <th>sales</th>\n",
       "      <th>onpromotion</th>\n",
       "    </tr>\n",
       "  </thead>\n",
       "  <tbody>\n",
       "    <tr>\n",
       "      <th>0</th>\n",
       "      <td>2013-01-01</td>\n",
       "      <td>1</td>\n",
       "      <td>AUTOMOTIVE</td>\n",
       "      <td>0.0</td>\n",
       "      <td>0</td>\n",
       "    </tr>\n",
       "    <tr>\n",
       "      <th>1</th>\n",
       "      <td>2013-01-01</td>\n",
       "      <td>1</td>\n",
       "      <td>BABY CARE</td>\n",
       "      <td>0.0</td>\n",
       "      <td>0</td>\n",
       "    </tr>\n",
       "    <tr>\n",
       "      <th>2</th>\n",
       "      <td>2013-01-01</td>\n",
       "      <td>1</td>\n",
       "      <td>BEAUTY</td>\n",
       "      <td>0.0</td>\n",
       "      <td>0</td>\n",
       "    </tr>\n",
       "    <tr>\n",
       "      <th>3</th>\n",
       "      <td>2013-01-01</td>\n",
       "      <td>1</td>\n",
       "      <td>BEVERAGES</td>\n",
       "      <td>0.0</td>\n",
       "      <td>0</td>\n",
       "    </tr>\n",
       "    <tr>\n",
       "      <th>4</th>\n",
       "      <td>2013-01-01</td>\n",
       "      <td>1</td>\n",
       "      <td>BOOKS</td>\n",
       "      <td>0.0</td>\n",
       "      <td>0</td>\n",
       "    </tr>\n",
       "  </tbody>\n",
       "</table>\n",
       "</div>"
      ],
      "text/plain": [
       "        date  store_nbr      family  sales onpromotion\n",
       "0 2013-01-01          1  AUTOMOTIVE    0.0           0\n",
       "1 2013-01-01          1   BABY CARE    0.0           0\n",
       "2 2013-01-01          1      BEAUTY    0.0           0\n",
       "3 2013-01-01          1   BEVERAGES    0.0           0\n",
       "4 2013-01-01          1       BOOKS    0.0           0"
      ]
     },
     "execution_count": 40,
     "metadata": {},
     "output_type": "execute_result"
    }
   ],
   "source": [
    "#combining the original train data with the missing date dataframe\n",
    "train_data=pd.concat([train_df,train_missing_data],ignore_index= True)\n",
    "train_data.head()"
   ]
  },
  {
   "cell_type": "code",
   "execution_count": 41,
   "id": "4c3e952d",
   "metadata": {},
   "outputs": [
    {
     "data": {
      "text/plain": [
       "0"
      ]
     },
     "execution_count": 41,
     "metadata": {},
     "output_type": "execute_result"
    }
   ],
   "source": [
    "train_data.duplicated().sum()"
   ]
  },
  {
   "cell_type": "code",
   "execution_count": 42,
   "id": "1d3afe0f",
   "metadata": {},
   "outputs": [
    {
     "data": {
      "text/plain": [
       "date              0\n",
       "store_nbr         0\n",
       "family            0\n",
       "sales          7128\n",
       "onpromotion    7128\n",
       "dtype: int64"
      ]
     },
     "execution_count": 42,
     "metadata": {},
     "output_type": "execute_result"
    }
   ],
   "source": [
    "\n",
    "train_data.isna().sum()"
   ]
  },
  {
   "cell_type": "code",
   "execution_count": 43,
   "id": "f095a10f",
   "metadata": {},
   "outputs": [
    {
     "data": {
      "text/plain": [
       "(3008016, 5)"
      ]
     },
     "execution_count": 43,
     "metadata": {},
     "output_type": "execute_result"
    }
   ],
   "source": [
    "train_data.shape"
   ]
  },
  {
   "cell_type": "code",
   "execution_count": 44,
   "id": "a853cbde",
   "metadata": {
    "scrolled": true
   },
   "outputs": [
    {
     "name": "stdout",
     "output_type": "stream",
     "text": [
      "<class 'pandas.core.frame.DataFrame'>\n",
      "RangeIndex: 350 entries, 0 to 349\n",
      "Data columns (total 6 columns):\n",
      " #   Column       Non-Null Count  Dtype \n",
      "---  ------       --------------  ----- \n",
      " 0   date         350 non-null    object\n",
      " 1   type         350 non-null    object\n",
      " 2   locale       350 non-null    object\n",
      " 3   locale_name  350 non-null    object\n",
      " 4   description  350 non-null    object\n",
      " 5   transferred  350 non-null    bool  \n",
      "dtypes: bool(1), object(5)\n",
      "memory usage: 14.1+ KB\n"
     ]
    }
   ],
   "source": [
    "events_df.info()"
   ]
  },
  {
   "cell_type": "code",
   "execution_count": 45,
   "id": "b33d0f95",
   "metadata": {},
   "outputs": [
    {
     "name": "stdout",
     "output_type": "stream",
     "text": [
      "<class 'pandas.core.frame.DataFrame'>\n",
      "RangeIndex: 1218 entries, 0 to 1217\n",
      "Data columns (total 2 columns):\n",
      " #   Column      Non-Null Count  Dtype  \n",
      "---  ------      --------------  -----  \n",
      " 0   date        1218 non-null   object \n",
      " 1   dcoilwtico  1175 non-null   float64\n",
      "dtypes: float64(1), object(1)\n",
      "memory usage: 19.2+ KB\n"
     ]
    }
   ],
   "source": [
    "oil_df.info()"
   ]
  },
  {
   "cell_type": "code",
   "execution_count": 46,
   "id": "933b4632",
   "metadata": {},
   "outputs": [],
   "source": [
    "# Convert 'date' column to datetime format\n",
    "events_df['date'] = pd.to_datetime(events_df['date'])\n",
    "oil_df['date'] = pd.to_datetime(oil_df['date'])"
   ]
  },
  {
   "cell_type": "markdown",
   "id": "4a698ca4",
   "metadata": {},
   "source": [
    "# merging the different csv files into one dataframe"
   ]
  },
  {
   "cell_type": "code",
   "execution_count": 47,
   "id": "d8a2b34a",
   "metadata": {},
   "outputs": [
    {
     "data": {
      "text/html": [
       "<div>\n",
       "<style scoped>\n",
       "    .dataframe tbody tr th:only-of-type {\n",
       "        vertical-align: middle;\n",
       "    }\n",
       "\n",
       "    .dataframe tbody tr th {\n",
       "        vertical-align: top;\n",
       "    }\n",
       "\n",
       "    .dataframe thead th {\n",
       "        text-align: right;\n",
       "    }\n",
       "</style>\n",
       "<table border=\"1\" class=\"dataframe\">\n",
       "  <thead>\n",
       "    <tr style=\"text-align: right;\">\n",
       "      <th></th>\n",
       "      <th>date</th>\n",
       "      <th>store_nbr</th>\n",
       "      <th>family</th>\n",
       "      <th>sales</th>\n",
       "      <th>onpromotion</th>\n",
       "      <th>city</th>\n",
       "      <th>state</th>\n",
       "      <th>type</th>\n",
       "      <th>cluster</th>\n",
       "    </tr>\n",
       "  </thead>\n",
       "  <tbody>\n",
       "    <tr>\n",
       "      <th>0</th>\n",
       "      <td>2013-01-01</td>\n",
       "      <td>1</td>\n",
       "      <td>AUTOMOTIVE</td>\n",
       "      <td>0.0</td>\n",
       "      <td>0</td>\n",
       "      <td>Quito</td>\n",
       "      <td>Pichincha</td>\n",
       "      <td>D</td>\n",
       "      <td>13</td>\n",
       "    </tr>\n",
       "    <tr>\n",
       "      <th>1</th>\n",
       "      <td>2013-01-01</td>\n",
       "      <td>1</td>\n",
       "      <td>BABY CARE</td>\n",
       "      <td>0.0</td>\n",
       "      <td>0</td>\n",
       "      <td>Quito</td>\n",
       "      <td>Pichincha</td>\n",
       "      <td>D</td>\n",
       "      <td>13</td>\n",
       "    </tr>\n",
       "    <tr>\n",
       "      <th>2</th>\n",
       "      <td>2013-01-01</td>\n",
       "      <td>1</td>\n",
       "      <td>BEAUTY</td>\n",
       "      <td>0.0</td>\n",
       "      <td>0</td>\n",
       "      <td>Quito</td>\n",
       "      <td>Pichincha</td>\n",
       "      <td>D</td>\n",
       "      <td>13</td>\n",
       "    </tr>\n",
       "    <tr>\n",
       "      <th>3</th>\n",
       "      <td>2013-01-01</td>\n",
       "      <td>1</td>\n",
       "      <td>BEVERAGES</td>\n",
       "      <td>0.0</td>\n",
       "      <td>0</td>\n",
       "      <td>Quito</td>\n",
       "      <td>Pichincha</td>\n",
       "      <td>D</td>\n",
       "      <td>13</td>\n",
       "    </tr>\n",
       "    <tr>\n",
       "      <th>4</th>\n",
       "      <td>2013-01-01</td>\n",
       "      <td>1</td>\n",
       "      <td>BOOKS</td>\n",
       "      <td>0.0</td>\n",
       "      <td>0</td>\n",
       "      <td>Quito</td>\n",
       "      <td>Pichincha</td>\n",
       "      <td>D</td>\n",
       "      <td>13</td>\n",
       "    </tr>\n",
       "  </tbody>\n",
       "</table>\n",
       "</div>"
      ],
      "text/plain": [
       "        date  store_nbr      family  sales onpromotion   city      state type  \\\n",
       "0 2013-01-01          1  AUTOMOTIVE    0.0           0  Quito  Pichincha    D   \n",
       "1 2013-01-01          1   BABY CARE    0.0           0  Quito  Pichincha    D   \n",
       "2 2013-01-01          1      BEAUTY    0.0           0  Quito  Pichincha    D   \n",
       "3 2013-01-01          1   BEVERAGES    0.0           0  Quito  Pichincha    D   \n",
       "4 2013-01-01          1       BOOKS    0.0           0  Quito  Pichincha    D   \n",
       "\n",
       "   cluster  \n",
       "0       13  \n",
       "1       13  \n",
       "2       13  \n",
       "3       13  \n",
       "4       13  "
      ]
     },
     "execution_count": 47,
     "metadata": {},
     "output_type": "execute_result"
    }
   ],
   "source": [
    "#combining train data with storedata\n",
    "train_store_df=pd.merge(train_data,store_df,on='store_nbr',how='left')\n",
    "train_store_df.head()"
   ]
  },
  {
   "cell_type": "code",
   "execution_count": 48,
   "id": "9111499a",
   "metadata": {
    "scrolled": true
   },
   "outputs": [
    {
     "data": {
      "text/html": [
       "<div>\n",
       "<style scoped>\n",
       "    .dataframe tbody tr th:only-of-type {\n",
       "        vertical-align: middle;\n",
       "    }\n",
       "\n",
       "    .dataframe tbody tr th {\n",
       "        vertical-align: top;\n",
       "    }\n",
       "\n",
       "    .dataframe thead th {\n",
       "        text-align: right;\n",
       "    }\n",
       "</style>\n",
       "<table border=\"1\" class=\"dataframe\">\n",
       "  <thead>\n",
       "    <tr style=\"text-align: right;\">\n",
       "      <th></th>\n",
       "      <th>date</th>\n",
       "      <th>store_nbr</th>\n",
       "      <th>family</th>\n",
       "      <th>sales</th>\n",
       "      <th>onpromotion</th>\n",
       "      <th>city</th>\n",
       "      <th>state</th>\n",
       "      <th>type_x</th>\n",
       "      <th>cluster</th>\n",
       "      <th>type_y</th>\n",
       "      <th>locale</th>\n",
       "      <th>locale_name</th>\n",
       "      <th>description</th>\n",
       "      <th>transferred</th>\n",
       "    </tr>\n",
       "  </thead>\n",
       "  <tbody>\n",
       "    <tr>\n",
       "      <th>0</th>\n",
       "      <td>2013-01-01</td>\n",
       "      <td>1</td>\n",
       "      <td>AUTOMOTIVE</td>\n",
       "      <td>0.0</td>\n",
       "      <td>0</td>\n",
       "      <td>Quito</td>\n",
       "      <td>Pichincha</td>\n",
       "      <td>D</td>\n",
       "      <td>13</td>\n",
       "      <td>Holiday</td>\n",
       "      <td>National</td>\n",
       "      <td>Ecuador</td>\n",
       "      <td>Primer dia del ano</td>\n",
       "      <td>False</td>\n",
       "    </tr>\n",
       "    <tr>\n",
       "      <th>1</th>\n",
       "      <td>2013-01-01</td>\n",
       "      <td>1</td>\n",
       "      <td>BABY CARE</td>\n",
       "      <td>0.0</td>\n",
       "      <td>0</td>\n",
       "      <td>Quito</td>\n",
       "      <td>Pichincha</td>\n",
       "      <td>D</td>\n",
       "      <td>13</td>\n",
       "      <td>Holiday</td>\n",
       "      <td>National</td>\n",
       "      <td>Ecuador</td>\n",
       "      <td>Primer dia del ano</td>\n",
       "      <td>False</td>\n",
       "    </tr>\n",
       "    <tr>\n",
       "      <th>2</th>\n",
       "      <td>2013-01-01</td>\n",
       "      <td>1</td>\n",
       "      <td>BEAUTY</td>\n",
       "      <td>0.0</td>\n",
       "      <td>0</td>\n",
       "      <td>Quito</td>\n",
       "      <td>Pichincha</td>\n",
       "      <td>D</td>\n",
       "      <td>13</td>\n",
       "      <td>Holiday</td>\n",
       "      <td>National</td>\n",
       "      <td>Ecuador</td>\n",
       "      <td>Primer dia del ano</td>\n",
       "      <td>False</td>\n",
       "    </tr>\n",
       "    <tr>\n",
       "      <th>3</th>\n",
       "      <td>2013-01-01</td>\n",
       "      <td>1</td>\n",
       "      <td>BEVERAGES</td>\n",
       "      <td>0.0</td>\n",
       "      <td>0</td>\n",
       "      <td>Quito</td>\n",
       "      <td>Pichincha</td>\n",
       "      <td>D</td>\n",
       "      <td>13</td>\n",
       "      <td>Holiday</td>\n",
       "      <td>National</td>\n",
       "      <td>Ecuador</td>\n",
       "      <td>Primer dia del ano</td>\n",
       "      <td>False</td>\n",
       "    </tr>\n",
       "    <tr>\n",
       "      <th>4</th>\n",
       "      <td>2013-01-01</td>\n",
       "      <td>1</td>\n",
       "      <td>BOOKS</td>\n",
       "      <td>0.0</td>\n",
       "      <td>0</td>\n",
       "      <td>Quito</td>\n",
       "      <td>Pichincha</td>\n",
       "      <td>D</td>\n",
       "      <td>13</td>\n",
       "      <td>Holiday</td>\n",
       "      <td>National</td>\n",
       "      <td>Ecuador</td>\n",
       "      <td>Primer dia del ano</td>\n",
       "      <td>False</td>\n",
       "    </tr>\n",
       "  </tbody>\n",
       "</table>\n",
       "</div>"
      ],
      "text/plain": [
       "        date  store_nbr      family  sales onpromotion   city      state  \\\n",
       "0 2013-01-01          1  AUTOMOTIVE    0.0           0  Quito  Pichincha   \n",
       "1 2013-01-01          1   BABY CARE    0.0           0  Quito  Pichincha   \n",
       "2 2013-01-01          1      BEAUTY    0.0           0  Quito  Pichincha   \n",
       "3 2013-01-01          1   BEVERAGES    0.0           0  Quito  Pichincha   \n",
       "4 2013-01-01          1       BOOKS    0.0           0  Quito  Pichincha   \n",
       "\n",
       "  type_x  cluster   type_y    locale locale_name         description  \\\n",
       "0      D       13  Holiday  National     Ecuador  Primer dia del ano   \n",
       "1      D       13  Holiday  National     Ecuador  Primer dia del ano   \n",
       "2      D       13  Holiday  National     Ecuador  Primer dia del ano   \n",
       "3      D       13  Holiday  National     Ecuador  Primer dia del ano   \n",
       "4      D       13  Holiday  National     Ecuador  Primer dia del ano   \n",
       "\n",
       "  transferred  \n",
       "0       False  \n",
       "1       False  \n",
       "2       False  \n",
       "3       False  \n",
       "4       False  "
      ]
     },
     "execution_count": 48,
     "metadata": {},
     "output_type": "execute_result"
    }
   ],
   "source": [
    "#Combining train_store_df with the events_df on the dates\n",
    "combined_df=pd.merge(train_store_df, events_df, on='date',how='left')\n",
    "combined_df.head()"
   ]
  },
  {
   "cell_type": "code",
   "execution_count": 49,
   "id": "85712acc",
   "metadata": {},
   "outputs": [
    {
     "name": "stdout",
     "output_type": "stream",
     "text": [
      "<class 'pandas.core.frame.DataFrame'>\n",
      "RangeIndex: 1704 entries, 0 to 1703\n",
      "Data columns (total 2 columns):\n",
      " #   Column      Non-Null Count  Dtype  \n",
      "---  ------      --------------  -----  \n",
      " 0   date        1704 non-null   object \n",
      " 1   dcoilwtico  1704 non-null   float64\n",
      "dtypes: float64(1), object(1)\n",
      "memory usage: 26.8+ KB\n"
     ]
    }
   ],
   "source": [
    "oil_data.info()"
   ]
  },
  {
   "cell_type": "code",
   "execution_count": 50,
   "id": "d1eaf47f",
   "metadata": {},
   "outputs": [],
   "source": [
    "oil_data['date'] = pd.to_datetime(oil_data['date'])"
   ]
  },
  {
   "cell_type": "code",
   "execution_count": null,
   "id": "79f30362",
   "metadata": {},
   "outputs": [],
   "source": []
  },
  {
   "cell_type": "code",
   "execution_count": 51,
   "id": "a8dc922a",
   "metadata": {},
   "outputs": [],
   "source": [
    "df=pd.merge(combined_df,oil_data,on='date',how='left')"
   ]
  },
  {
   "cell_type": "code",
   "execution_count": 52,
   "id": "737f5e44",
   "metadata": {},
   "outputs": [
    {
     "data": {
      "text/html": [
       "<div>\n",
       "<style scoped>\n",
       "    .dataframe tbody tr th:only-of-type {\n",
       "        vertical-align: middle;\n",
       "    }\n",
       "\n",
       "    .dataframe tbody tr th {\n",
       "        vertical-align: top;\n",
       "    }\n",
       "\n",
       "    .dataframe thead th {\n",
       "        text-align: right;\n",
       "    }\n",
       "</style>\n",
       "<table border=\"1\" class=\"dataframe\">\n",
       "  <thead>\n",
       "    <tr style=\"text-align: right;\">\n",
       "      <th></th>\n",
       "      <th>date</th>\n",
       "      <th>store_nbr</th>\n",
       "      <th>family</th>\n",
       "      <th>sales</th>\n",
       "      <th>onpromotion</th>\n",
       "      <th>city</th>\n",
       "      <th>state</th>\n",
       "      <th>type_x</th>\n",
       "      <th>cluster</th>\n",
       "      <th>type_y</th>\n",
       "      <th>locale</th>\n",
       "      <th>locale_name</th>\n",
       "      <th>description</th>\n",
       "      <th>transferred</th>\n",
       "      <th>dcoilwtico</th>\n",
       "    </tr>\n",
       "  </thead>\n",
       "  <tbody>\n",
       "    <tr>\n",
       "      <th>3061471</th>\n",
       "      <td>2016-12-25</td>\n",
       "      <td>9</td>\n",
       "      <td>POULTRY</td>\n",
       "      <td>NaN</td>\n",
       "      <td>NaN</td>\n",
       "      <td>Quito</td>\n",
       "      <td>Pichincha</td>\n",
       "      <td>B</td>\n",
       "      <td>6</td>\n",
       "      <td>Holiday</td>\n",
       "      <td>National</td>\n",
       "      <td>Ecuador</td>\n",
       "      <td>Navidad</td>\n",
       "      <td>False</td>\n",
       "      <td>47.259998</td>\n",
       "    </tr>\n",
       "    <tr>\n",
       "      <th>3061472</th>\n",
       "      <td>2016-12-25</td>\n",
       "      <td>9</td>\n",
       "      <td>PREPARED FOODS</td>\n",
       "      <td>NaN</td>\n",
       "      <td>NaN</td>\n",
       "      <td>Quito</td>\n",
       "      <td>Pichincha</td>\n",
       "      <td>B</td>\n",
       "      <td>6</td>\n",
       "      <td>Holiday</td>\n",
       "      <td>National</td>\n",
       "      <td>Ecuador</td>\n",
       "      <td>Navidad</td>\n",
       "      <td>False</td>\n",
       "      <td>47.259998</td>\n",
       "    </tr>\n",
       "    <tr>\n",
       "      <th>3061473</th>\n",
       "      <td>2016-12-25</td>\n",
       "      <td>9</td>\n",
       "      <td>PRODUCE</td>\n",
       "      <td>NaN</td>\n",
       "      <td>NaN</td>\n",
       "      <td>Quito</td>\n",
       "      <td>Pichincha</td>\n",
       "      <td>B</td>\n",
       "      <td>6</td>\n",
       "      <td>Holiday</td>\n",
       "      <td>National</td>\n",
       "      <td>Ecuador</td>\n",
       "      <td>Navidad</td>\n",
       "      <td>False</td>\n",
       "      <td>47.259998</td>\n",
       "    </tr>\n",
       "    <tr>\n",
       "      <th>3061474</th>\n",
       "      <td>2016-12-25</td>\n",
       "      <td>9</td>\n",
       "      <td>SCHOOL AND OFFICE SUPPLIES</td>\n",
       "      <td>NaN</td>\n",
       "      <td>NaN</td>\n",
       "      <td>Quito</td>\n",
       "      <td>Pichincha</td>\n",
       "      <td>B</td>\n",
       "      <td>6</td>\n",
       "      <td>Holiday</td>\n",
       "      <td>National</td>\n",
       "      <td>Ecuador</td>\n",
       "      <td>Navidad</td>\n",
       "      <td>False</td>\n",
       "      <td>47.259998</td>\n",
       "    </tr>\n",
       "    <tr>\n",
       "      <th>3061475</th>\n",
       "      <td>2016-12-25</td>\n",
       "      <td>9</td>\n",
       "      <td>SEAFOOD</td>\n",
       "      <td>NaN</td>\n",
       "      <td>NaN</td>\n",
       "      <td>Quito</td>\n",
       "      <td>Pichincha</td>\n",
       "      <td>B</td>\n",
       "      <td>6</td>\n",
       "      <td>Holiday</td>\n",
       "      <td>National</td>\n",
       "      <td>Ecuador</td>\n",
       "      <td>Navidad</td>\n",
       "      <td>False</td>\n",
       "      <td>47.259998</td>\n",
       "    </tr>\n",
       "  </tbody>\n",
       "</table>\n",
       "</div>"
      ],
      "text/plain": [
       "              date  store_nbr                      family  sales onpromotion  \\\n",
       "3061471 2016-12-25          9                     POULTRY    NaN         NaN   \n",
       "3061472 2016-12-25          9              PREPARED FOODS    NaN         NaN   \n",
       "3061473 2016-12-25          9                     PRODUCE    NaN         NaN   \n",
       "3061474 2016-12-25          9  SCHOOL AND OFFICE SUPPLIES    NaN         NaN   \n",
       "3061475 2016-12-25          9                     SEAFOOD    NaN         NaN   \n",
       "\n",
       "          city      state type_x  cluster   type_y    locale locale_name  \\\n",
       "3061471  Quito  Pichincha      B        6  Holiday  National     Ecuador   \n",
       "3061472  Quito  Pichincha      B        6  Holiday  National     Ecuador   \n",
       "3061473  Quito  Pichincha      B        6  Holiday  National     Ecuador   \n",
       "3061474  Quito  Pichincha      B        6  Holiday  National     Ecuador   \n",
       "3061475  Quito  Pichincha      B        6  Holiday  National     Ecuador   \n",
       "\n",
       "        description transferred  dcoilwtico  \n",
       "3061471     Navidad       False   47.259998  \n",
       "3061472     Navidad       False   47.259998  \n",
       "3061473     Navidad       False   47.259998  \n",
       "3061474     Navidad       False   47.259998  \n",
       "3061475     Navidad       False   47.259998  "
      ]
     },
     "execution_count": 52,
     "metadata": {},
     "output_type": "execute_result"
    }
   ],
   "source": [
    "df.tail()"
   ]
  },
  {
   "cell_type": "code",
   "execution_count": 53,
   "id": "7bcce620",
   "metadata": {},
   "outputs": [
    {
     "data": {
      "text/plain": [
       "date                 0\n",
       "store_nbr            0\n",
       "family               0\n",
       "sales             7128\n",
       "onpromotion       7128\n",
       "city                 0\n",
       "state                0\n",
       "type_x               0\n",
       "cluster              0\n",
       "type_y         2551824\n",
       "locale         2551824\n",
       "locale_name    2551824\n",
       "description    2551824\n",
       "transferred    2551824\n",
       "dcoilwtico           0\n",
       "dtype: int64"
      ]
     },
     "execution_count": 53,
     "metadata": {},
     "output_type": "execute_result"
    }
   ],
   "source": [
    "df.isnull().sum()"
   ]
  },
  {
   "cell_type": "code",
   "execution_count": 54,
   "id": "f6d66fde",
   "metadata": {},
   "outputs": [
    {
     "data": {
      "text/plain": [
       "(3061476, 15)"
      ]
     },
     "execution_count": 54,
     "metadata": {},
     "output_type": "execute_result"
    }
   ],
   "source": [
    "df.shape"
   ]
  },
  {
   "cell_type": "code",
   "execution_count": 55,
   "id": "8746266c",
   "metadata": {},
   "outputs": [],
   "source": [
    "#Changing Index to Date Column\n",
    "df = df.set_index([\"date\"])"
   ]
  },
  {
   "cell_type": "markdown",
   "id": "dec49bb7",
   "metadata": {},
   "source": [
    "# 2. Which dates have the lowest and highest sales for each year?"
   ]
  },
  {
   "cell_type": "code",
   "execution_count": 56,
   "id": "7bd20207",
   "metadata": {},
   "outputs": [
    {
     "data": {
      "text/plain": [
       "date\n",
       "2013   2013-01-01\n",
       "2014   2014-01-01\n",
       "2015   2015-01-01\n",
       "2016   2016-01-01\n",
       "2017   2017-01-01\n",
       "Name: sales, dtype: datetime64[ns]"
      ]
     },
     "execution_count": 56,
     "metadata": {},
     "output_type": "execute_result"
    }
   ],
   "source": [
    "#Extracting the dates with lowest sales\n",
    "lowest_sales = df.groupby(df.index.year)['sales'].idxmin()\n",
    "lowest_sales"
   ]
  },
  {
   "cell_type": "code",
   "execution_count": 57,
   "id": "e0ae2f6a",
   "metadata": {},
   "outputs": [
    {
     "data": {
      "text/plain": [
       "date\n",
       "2013   2013-11-12\n",
       "2014   2014-12-08\n",
       "2015   2015-12-14\n",
       "2016   2016-05-02\n",
       "2017   2017-04-02\n",
       "Name: sales, dtype: datetime64[ns]"
      ]
     },
     "execution_count": 57,
     "metadata": {},
     "output_type": "execute_result"
    }
   ],
   "source": [
    "#Extracting dates with the highest sales in each year\n",
    "highest_sales = df.groupby(df.index.year)['sales'].idxmax()\n",
    "highest_sales"
   ]
  },
  {
   "cell_type": "markdown",
   "id": "a46e344a",
   "metadata": {},
   "source": [
    "The beginning of each year recorded the lowest sales of that year this can be attributed to the feastive season and many people are still home. As for the highest sales that was varied across the different years."
   ]
  },
  {
   "cell_type": "markdown",
   "id": "3a4da321",
   "metadata": {},
   "source": [
    "# 3. Did the earthquake impact sales?"
   ]
  },
  {
   "cell_type": "code",
   "execution_count": 58,
   "id": "57dd9f11",
   "metadata": {},
   "outputs": [],
   "source": [
    "# Define the date of the earthquake happend\n",
    "earthquake_date = pd.to_datetime(\"2016-04-16\")"
   ]
  },
  {
   "cell_type": "code",
   "execution_count": 59,
   "id": "fc4da42d",
   "metadata": {},
   "outputs": [
    {
     "name": "stdout",
     "output_type": "stream",
     "text": [
      "Sales two weeks before 2016-04-16 00:00:00: date\n",
      "2016-04-02       6.000\n",
      "2016-04-02       0.000\n",
      "2016-04-02       3.000\n",
      "2016-04-02    2317.000\n",
      "2016-04-02       0.000\n",
      "                ...   \n",
      "2016-04-16     668.427\n",
      "2016-04-16     135.720\n",
      "2016-04-16    1496.493\n",
      "2016-04-16       2.000\n",
      "2016-04-16      27.638\n",
      "Name: sales, Length: 26730, dtype: float64\n"
     ]
    }
   ],
   "source": [
    "# Get the sales two weeks before the earthquake\n",
    "before_sales = df.loc[earthquake_date - pd.Timedelta(weeks=2):earthquake_date, 'sales']\n",
    "print(\"Sales two weeks before {}: {}\".format(earthquake_date, before_sales))"
   ]
  },
  {
   "cell_type": "code",
   "execution_count": 60,
   "id": "f851f4f8",
   "metadata": {},
   "outputs": [
    {
     "name": "stdout",
     "output_type": "stream",
     "text": [
      "Sales two weeks after 2016-04-16 00:00:00: date\n",
      "2016-04-16       6.00000\n",
      "2016-04-16       0.00000\n",
      "2016-04-16       4.00000\n",
      "2016-04-16    2073.00000\n",
      "2016-04-16       0.00000\n",
      "                 ...    \n",
      "2016-04-30     826.35300\n",
      "2016-04-30     165.65399\n",
      "2016-04-30    2012.72700\n",
      "2016-04-30      10.00000\n",
      "2016-04-30      32.18600\n",
      "Name: sales, Length: 28512, dtype: float64\n"
     ]
    }
   ],
   "source": [
    "\n",
    "# Get the sales two weeks after the earthquake\n",
    "after_sales = df.loc[earthquake_date :earthquake_date + pd.Timedelta(weeks=2),'sales']\n",
    "print(\"Sales two weeks after {}: {}\".format(earthquake_date, after_sales))"
   ]
  },
  {
   "cell_type": "code",
   "execution_count": 61,
   "id": "9509c0f0",
   "metadata": {},
   "outputs": [
    {
     "data": {
      "image/png": "[encoded data removed]",
      "text/plain": [
       "<Figure size 2000x1000 with 1 Axes>"
      ]
     },
     "metadata": {},
     "output_type": "display_data"
    }
   ],
   "source": [
    "#Extracting the dates 2 weeks before the earthquake\n",
    "before_df = df.loc[earthquake_date - pd.Timedelta(weeks=2):earthquake_date]\n",
    "\n",
    "#Extracting the dates 2 weeks after the earthquake\n",
    "after_df = df.loc[earthquake_date:earthquake_date + pd.Timedelta(weeks=2)]\n",
    "\n",
    "# Plot the sales before and after the earthquake\n",
    "plt.figure(figsize=(20, 10))\n",
    "Before=plt.plot(before_df.index, before_df['sales'], label='Before')\n",
    "After=plt.plot(after_df.index, after_df['sales'], label='After')\n",
    "\n",
    "plt.axvline(earthquake_date, color='r', linestyle='--')\n",
    "\n",
    "plt.title(\"Sales for 2 Weeks Before and After {}\".format(earthquake_date))\n",
    "plt.xlabel(\"Date\")\n",
    "plt.ylabel(\"Sales\")\n",
    "plt.legend()\n",
    "plt.show()"
   ]
  },
  {
   "cell_type": "markdown",
   "id": "ee0cf708",
   "metadata": {},
   "source": [
    "We did a comparison of sales before the earthquake 2 weeks before and after, we can conclude after the earthquake the sales increased significantly"
   ]
  },
  {
   "cell_type": "markdown",
   "id": "6ce0507f",
   "metadata": {},
   "source": [
    "# 4. Are certain groups of stores selling more products? (Cluster, city, state, type)"
   ]
  },
  {
   "cell_type": "code",
   "execution_count": 62,
   "id": "5396867e",
   "metadata": {},
   "outputs": [
    {
     "data": {
      "image/png": "[encoded data removed]",
      "text/plain": [
       "<Figure size 1500x1000 with 1 Axes>"
      ]
     },
     "metadata": {},
     "output_type": "display_data"
    }
   ],
   "source": [
    "# Group the data by cluster\n",
    "cluster_groups = df.groupby(['cluster'])['sales'].sum()\n",
    "plt.figure(figsize=(15, 10))\n",
    "cluster_groups.plot(kind = 'barh')\n",
    "\n",
    "# Add a title and axis labels\n",
    "plt.title(\"Total Sales per Cluster\")\n",
    "plt.xlabel(\"Total Sales in Millions\")\n",
    "plt.ylabel(\"Cluster \")\n",
    "plt.show()"
   ]
  },
  {
   "cell_type": "markdown",
   "id": "da727f78",
   "metadata": {},
   "source": [
    "From the chart we see that cluster 14,6 and 8 are the top 3 with most sales of mote than 1.0 million."
   ]
  },
  {
   "cell_type": "code",
   "execution_count": 63,
   "id": "41b8ef70",
   "metadata": {},
   "outputs": [
    {
     "data": {
      "image/png": "[encoded data removed]",
      "text/plain": [
       "<Figure size 1500x1000 with 1 Axes>"
      ]
     },
     "metadata": {},
     "output_type": "display_data"
    }
   ],
   "source": [
    "# Group the data by cluster\n",
    "city_groups = df.groupby(['city'])['sales'].sum()\n",
    "plt.figure(figsize=(15, 10))\n",
    "city_groups.plot(kind = 'barh')\n",
    "\n",
    "# Add a title and axis labels\n",
    "plt.title(\"Total Sales per City\")\n",
    "plt.xlabel(\"Total Sales in Millions\")\n",
    "plt.ylabel(\"City\")\n",
    "\n",
    "plt.show()"
   ]
  },
  {
   "cell_type": "markdown",
   "id": "6fea986c",
   "metadata": {},
   "source": [
    "From the chart we see that Quito city has the most sales compared to the rest and this is because many stores are located in Quito."
   ]
  },
  {
   "cell_type": "code",
   "execution_count": 64,
   "id": "34edd238",
   "metadata": {},
   "outputs": [
    {
     "data": {
      "image/png": "[encoded data removed]",
      "text/plain": [
       "<Figure size 1500x1000 with 1 Axes>"
      ]
     },
     "metadata": {},
     "output_type": "display_data"
    }
   ],
   "source": [
    "# Group the data by cluster\n",
    "state_groups = df.groupby(['state'])['sales'].sum()\n",
    "plt.figure(figsize=(15, 10))\n",
    "state_groups.plot(kind = 'barh')\n",
    "\n",
    "# Add a title and axis labels\n",
    "plt.title(\"Total Sales per State\")\n",
    "plt.xlabel(\"Total Sales in Millions\")\n",
    "plt.ylabel(\"State\")\n",
    "\n",
    "plt.show()"
   ]
  },
  {
   "cell_type": "code",
   "execution_count": 65,
   "id": "68251122",
   "metadata": {},
   "outputs": [
    {
     "data": {
      "image/png": "[encoded data removed]",
      "text/plain": [
       "<Figure size 1500x1000 with 1 Axes>"
      ]
     },
     "metadata": {},
     "output_type": "display_data"
    }
   ],
   "source": [
    "# Group the data by cluster\n",
    "type_groups = df.groupby(['type_x'])['sales'].sum()\n",
    "plt.figure(figsize=(15, 10))\n",
    "type_groups.plot(kind = 'bar')\n",
    "\n",
    "# Add a title and axis labels\n",
    "plt.title(\"Total Sales by Type X\")\n",
    "plt.xlabel(\"Type\")\n",
    "plt.ylabel(\"Total Sales in Millions\")\n",
    "\n",
    "plt.show()"
   ]
  },
  {
   "cell_type": "markdown",
   "id": "195e3e53",
   "metadata": {},
   "source": [
    "# 5. Are sales affected by promotions, oil prices and holidays?"
   ]
  },
  {
   "cell_type": "code",
   "execution_count": 66,
   "id": "6b1b61f1",
   "metadata": {},
   "outputs": [
    {
     "data": {
      "text/html": [
       "<div>\n",
       "<style scoped>\n",
       "    .dataframe tbody tr th:only-of-type {\n",
       "        vertical-align: middle;\n",
       "    }\n",
       "\n",
       "    .dataframe tbody tr th {\n",
       "        vertical-align: top;\n",
       "    }\n",
       "\n",
       "    .dataframe thead th {\n",
       "        text-align: right;\n",
       "    }\n",
       "</style>\n",
       "<table border=\"1\" class=\"dataframe\">\n",
       "  <thead>\n",
       "    <tr style=\"text-align: right;\">\n",
       "      <th></th>\n",
       "      <th>store_nbr</th>\n",
       "      <th>family</th>\n",
       "      <th>sales</th>\n",
       "      <th>onpromotion</th>\n",
       "      <th>city</th>\n",
       "      <th>state</th>\n",
       "      <th>type_x</th>\n",
       "      <th>cluster</th>\n",
       "      <th>type_y</th>\n",
       "      <th>locale</th>\n",
       "      <th>locale_name</th>\n",
       "      <th>description</th>\n",
       "      <th>transferred</th>\n",
       "      <th>dcoilwtico</th>\n",
       "    </tr>\n",
       "    <tr>\n",
       "      <th>date</th>\n",
       "      <th></th>\n",
       "      <th></th>\n",
       "      <th></th>\n",
       "      <th></th>\n",
       "      <th></th>\n",
       "      <th></th>\n",
       "      <th></th>\n",
       "      <th></th>\n",
       "      <th></th>\n",
       "      <th></th>\n",
       "      <th></th>\n",
       "      <th></th>\n",
       "      <th></th>\n",
       "      <th></th>\n",
       "    </tr>\n",
       "  </thead>\n",
       "  <tbody>\n",
       "    <tr>\n",
       "      <th>2013-01-01</th>\n",
       "      <td>1</td>\n",
       "      <td>AUTOMOTIVE</td>\n",
       "      <td>0.0</td>\n",
       "      <td>0</td>\n",
       "      <td>Quito</td>\n",
       "      <td>Pichincha</td>\n",
       "      <td>D</td>\n",
       "      <td>13</td>\n",
       "      <td>Holiday</td>\n",
       "      <td>National</td>\n",
       "      <td>Ecuador</td>\n",
       "      <td>Primer dia del ano</td>\n",
       "      <td>False</td>\n",
       "      <td>93.139999</td>\n",
       "    </tr>\n",
       "    <tr>\n",
       "      <th>2013-01-01</th>\n",
       "      <td>1</td>\n",
       "      <td>BABY CARE</td>\n",
       "      <td>0.0</td>\n",
       "      <td>0</td>\n",
       "      <td>Quito</td>\n",
       "      <td>Pichincha</td>\n",
       "      <td>D</td>\n",
       "      <td>13</td>\n",
       "      <td>Holiday</td>\n",
       "      <td>National</td>\n",
       "      <td>Ecuador</td>\n",
       "      <td>Primer dia del ano</td>\n",
       "      <td>False</td>\n",
       "      <td>93.139999</td>\n",
       "    </tr>\n",
       "    <tr>\n",
       "      <th>2013-01-01</th>\n",
       "      <td>1</td>\n",
       "      <td>BEAUTY</td>\n",
       "      <td>0.0</td>\n",
       "      <td>0</td>\n",
       "      <td>Quito</td>\n",
       "      <td>Pichincha</td>\n",
       "      <td>D</td>\n",
       "      <td>13</td>\n",
       "      <td>Holiday</td>\n",
       "      <td>National</td>\n",
       "      <td>Ecuador</td>\n",
       "      <td>Primer dia del ano</td>\n",
       "      <td>False</td>\n",
       "      <td>93.139999</td>\n",
       "    </tr>\n",
       "    <tr>\n",
       "      <th>2013-01-01</th>\n",
       "      <td>1</td>\n",
       "      <td>BEVERAGES</td>\n",
       "      <td>0.0</td>\n",
       "      <td>0</td>\n",
       "      <td>Quito</td>\n",
       "      <td>Pichincha</td>\n",
       "      <td>D</td>\n",
       "      <td>13</td>\n",
       "      <td>Holiday</td>\n",
       "      <td>National</td>\n",
       "      <td>Ecuador</td>\n",
       "      <td>Primer dia del ano</td>\n",
       "      <td>False</td>\n",
       "      <td>93.139999</td>\n",
       "    </tr>\n",
       "    <tr>\n",
       "      <th>2013-01-01</th>\n",
       "      <td>1</td>\n",
       "      <td>BOOKS</td>\n",
       "      <td>0.0</td>\n",
       "      <td>0</td>\n",
       "      <td>Quito</td>\n",
       "      <td>Pichincha</td>\n",
       "      <td>D</td>\n",
       "      <td>13</td>\n",
       "      <td>Holiday</td>\n",
       "      <td>National</td>\n",
       "      <td>Ecuador</td>\n",
       "      <td>Primer dia del ano</td>\n",
       "      <td>False</td>\n",
       "      <td>93.139999</td>\n",
       "    </tr>\n",
       "  </tbody>\n",
       "</table>\n",
       "</div>"
      ],
      "text/plain": [
       "            store_nbr      family  sales onpromotion   city      state type_x  \\\n",
       "date                                                                            \n",
       "2013-01-01          1  AUTOMOTIVE    0.0           0  Quito  Pichincha      D   \n",
       "2013-01-01          1   BABY CARE    0.0           0  Quito  Pichincha      D   \n",
       "2013-01-01          1      BEAUTY    0.0           0  Quito  Pichincha      D   \n",
       "2013-01-01          1   BEVERAGES    0.0           0  Quito  Pichincha      D   \n",
       "2013-01-01          1       BOOKS    0.0           0  Quito  Pichincha      D   \n",
       "\n",
       "            cluster   type_y    locale locale_name         description  \\\n",
       "date                                                                     \n",
       "2013-01-01       13  Holiday  National     Ecuador  Primer dia del ano   \n",
       "2013-01-01       13  Holiday  National     Ecuador  Primer dia del ano   \n",
       "2013-01-01       13  Holiday  National     Ecuador  Primer dia del ano   \n",
       "2013-01-01       13  Holiday  National     Ecuador  Primer dia del ano   \n",
       "2013-01-01       13  Holiday  National     Ecuador  Primer dia del ano   \n",
       "\n",
       "           transferred  dcoilwtico  \n",
       "date                                \n",
       "2013-01-01       False   93.139999  \n",
       "2013-01-01       False   93.139999  \n",
       "2013-01-01       False   93.139999  \n",
       "2013-01-01       False   93.139999  \n",
       "2013-01-01       False   93.139999  "
      ]
     },
     "execution_count": 66,
     "metadata": {},
     "output_type": "execute_result"
    }
   ],
   "source": [
    "df.head()"
   ]
  },
  {
   "cell_type": "code",
   "execution_count": 67,
   "id": "63dcffd5",
   "metadata": {},
   "outputs": [
    {
     "name": "stdout",
     "output_type": "stream",
     "text": [
      "<class 'pandas.core.frame.DataFrame'>\n",
      "DatetimeIndex: 3061476 entries, 2013-01-01 to 2016-12-25\n",
      "Data columns (total 14 columns):\n",
      " #   Column       Dtype  \n",
      "---  ------       -----  \n",
      " 0   store_nbr    int32  \n",
      " 1   family       object \n",
      " 2   sales        float64\n",
      " 3   onpromotion  object \n",
      " 4   city         object \n",
      " 5   state        object \n",
      " 6   type_x       object \n",
      " 7   cluster      int64  \n",
      " 8   type_y       object \n",
      " 9   locale       object \n",
      " 10  locale_name  object \n",
      " 11  description  object \n",
      " 12  transferred  object \n",
      " 13  dcoilwtico   float64\n",
      "dtypes: float64(2), int32(1), int64(1), object(10)\n",
      "memory usage: 370.9+ MB\n"
     ]
    }
   ],
   "source": [
    "df.info()"
   ]
  },
  {
   "cell_type": "code",
   "execution_count": null,
   "id": "571a8ca0",
   "metadata": {},
   "outputs": [],
   "source": []
  },
  {
   "cell_type": "code",
   "execution_count": 68,
   "id": "0a68b0f9",
   "metadata": {},
   "outputs": [],
   "source": [
    "#computing the Pearson correlation coefficient using corr()\n",
    "#corr_matrix= df.corr()\n"
   ]
  },
  {
   "cell_type": "code",
   "execution_count": 69,
   "id": "a9cb3fe4",
   "metadata": {},
   "outputs": [],
   "source": [
    "#the Pearson correlation coefficient is to measure the strength of the relationship btwn variables with numeric values\n",
    "#corr_matrix['sales'].sort_values(ascending=False)\n"
   ]
  },
  {
   "cell_type": "code",
   "execution_count": 70,
   "id": "42f0160a",
   "metadata": {},
   "outputs": [],
   "source": [
    "#another method to check the correlation is the pandas scatter_matrix function which plots\n",
    "#every numerical attribute against every other numerical attribute.\n",
    "#attributes=['onpromotion','sales','dcoilwtico']\n",
    "#scatter_matrix(df[attributes],figsize=(18,20))\n",
    "#plt.show()"
   ]
  },
  {
   "cell_type": "markdown",
   "id": "8e1d4f78",
   "metadata": {},
   "source": [
    "# 6. What analysis can we get from the date and its extractable features?"
   ]
  },
  {
   "cell_type": "code",
   "execution_count": 71,
   "id": "75458bd1",
   "metadata": {},
   "outputs": [
    {
     "data": {
      "image/png": "[encoded data removed]",
      "text/plain": [
       "<Figure size 1000x500 with 1 Axes>"
      ]
     },
     "metadata": {},
     "output_type": "display_data"
    }
   ],
   "source": [
    "#Using the month extracted fromthe date to get monthly trend of sales\n",
    "monthly_sales = df.groupby(df.index.month)['sales'].sum()\n",
    "monthly_sales.plot(linewidth=1.2, figsize=(10,5))\n",
    "\n",
    "# Add a title and axis labels\n",
    "plt.title(\"Trend of Monthly Sales\")\n",
    "plt.xlabel(\"Month\")\n",
    "plt.ylabel(\"Total Sales (in Millions) \")\n",
    "\n",
    "plt.show()"
   ]
  },
  {
   "cell_type": "code",
   "execution_count": 72,
   "id": "2ce0a7fd",
   "metadata": {},
   "outputs": [
    {
     "data": {
      "image/png": "[encoded data removed]",
      "text/plain": [
       "<Figure size 2000x1000 with 1 Axes>"
      ]
     },
     "metadata": {},
     "output_type": "display_data"
    }
   ],
   "source": [
    "# Using the days of the week extracted from date get the trend of sales of the days of the week\n",
    "day_sales = df.groupby(df.index.day_name())['sales'].sum()\n",
    "day_sales.plot(linewidth=1.2, figsize=(20,10))\n",
    "\n",
    "# Add a title and axis labels\n",
    "plt.title(\"Trend of Monthly Sales\")\n",
    "plt.xlabel(\"Days of the Week\")\n",
    "plt.ylabel(\"Total Sales (in Millions) \")\n",
    "\n",
    "plt.show()"
   ]
  },
  {
   "cell_type": "markdown",
   "id": "0d974b1c",
   "metadata": {},
   "source": [
    "# 7. What are the annual sales that each store make"
   ]
  },
  {
   "cell_type": "code",
   "execution_count": 73,
   "id": "34b61b6c",
   "metadata": {},
   "outputs": [],
   "source": [
    "# Group the data by store and year\n",
    "annual_sales = df.groupby(['store_nbr',df.index.year])['sales'].agg('sum')"
   ]
  },
  {
   "cell_type": "code",
   "execution_count": 74,
   "id": "af796119",
   "metadata": {},
   "outputs": [],
   "source": [
    "# Reset the index to make the store and year columns columns\n",
    "annual_sales = annual_sales.reset_index()"
   ]
  },
  {
   "cell_type": "code",
   "execution_count": 75,
   "id": "2438aef6",
   "metadata": {},
   "outputs": [],
   "source": [
    "# Pivot the table so that each row represents a store and columns are the year\n",
    "annual_sales = annual_sales.pivot(index='store_nbr', columns='date', values='sales')"
   ]
  },
  {
   "cell_type": "code",
   "execution_count": 76,
   "id": "cdb02333",
   "metadata": {},
   "outputs": [
    {
     "data": {
      "image/png": "[encoded data removed]",
      "text/plain": [
       "<Figure size 2000x1000 with 1 Axes>"
      ]
     },
     "metadata": {},
     "output_type": "display_data"
    }
   ],
   "source": [
    "# Plot the yearly sales for each store\n",
    "annual_sales.plot(kind='bar', stacked=True, figsize=(20,10))\n",
    "\n",
    "# Add a title and axis labels\n",
    "plt.title(\"Annual_sales Sales by Store\")\n",
    "plt.xlabel(\"Store Numbers\")\n",
    "plt.ylabel(\"Total Sales (in Millions) \")\n",
    "\n",
    "plt.show()"
   ]
  },
  {
   "cell_type": "markdown",
   "id": "0a484892",
   "metadata": {},
   "source": [
    "# 8. How many sales were made in the 1st quater of each year"
   ]
  },
  {
   "cell_type": "code",
   "execution_count": 77,
   "id": "f55c0dfd",
   "metadata": {},
   "outputs": [],
   "source": [
    "#Extracting the quaterly sales\n",
    "Quarterly_sales = df.groupby([df.index.to_period('Q'),df.index.year])['sales'].sum()"
   ]
  },
  {
   "cell_type": "code",
   "execution_count": 78,
   "id": "9ffe18de",
   "metadata": {},
   "outputs": [],
   "source": [
    "# filter for 1st quarter\n",
    "first_quarter_data = Quarterly_sales.loc[['2013Q1','2014Q1','2015Q1','2016Q1','2017Q1']]"
   ]
  },
  {
   "cell_type": "code",
   "execution_count": 79,
   "id": "23433a39",
   "metadata": {},
   "outputs": [
    {
     "data": {
      "image/png": "[encoded data removed]",
      "text/plain": [
       "<Figure size 1500x1000 with 1 Axes>"
      ]
     },
     "metadata": {},
     "output_type": "display_data"
    }
   ],
   "source": [
    "# create bar chart to represent the sales made in the 1st quater of each year\n",
    "first_quarter_data.plot(kind='bar', stacked=False, figsize=(15,10))\n",
    "plt.xticks(rotation=45)\n",
    "plt.title('Sales Trend for 2013 and 2017')\n",
    "plt.xlabel('Year')\n",
    "plt.ylabel('Sales')\n",
    "plt.show()"
   ]
  },
  {
   "cell_type": "markdown",
   "id": "4fd91a02",
   "metadata": {},
   "source": [
    "There has been a steady growth across the years. The sales keep growing Quarter on Quarter every year."
   ]
  },
  {
   "cell_type": "markdown",
   "id": "a86a7507",
   "metadata": {},
   "source": [
    "# 9. What is the trend of the sales over the years?"
   ]
  },
  {
   "cell_type": "code",
   "execution_count": 80,
   "id": "242dcdf8",
   "metadata": {},
   "outputs": [
    {
     "data": {
      "image/png": "[encoded data removed]",
      "text/plain": [
       "<Figure size 2000x1000 with 1 Axes>"
      ]
     },
     "metadata": {},
     "output_type": "display_data"
    }
   ],
   "source": [
    "#Trend of sales over the years\n",
    "df['sales'].plot(linewidth=0.5, figsize=(20,10))\n",
    "plt.title('Sales Trend for 2013 and 2017')\n",
    "plt.xlabel('Year')\n",
    "plt.ylabel('Sales')\n",
    "plt.show()"
   ]
  },
  {
   "cell_type": "markdown",
   "id": "e7ec18e7",
   "metadata": {},
   "source": [
    "# Feature Processing & Engineering"
   ]
  },
  {
   "cell_type": "markdown",
   "id": "47bf4f56",
   "metadata": {},
   "source": [
    "# New Features Creation"
   ]
  },
  {
   "cell_type": "code",
   "execution_count": 81,
   "id": "e57122a7",
   "metadata": {},
   "outputs": [],
   "source": [
    "#Creating the Day, Month and Year column from the Date Column\n",
    "df['year'] = df.index.year\n",
    "df['month'] =df.index.month\n",
    "df['day']=df.index.day\n",
    "df['dayofweek']=df.index.weekday\n",
    "df['end_month']=df.index.is_month_end"
   ]
  },
  {
   "cell_type": "code",
   "execution_count": 82,
   "id": "04db9021",
   "metadata": {},
   "outputs": [],
   "source": [
    "# categorizing the products\n",
    "food_families = ['BEVERAGES', 'BREAD/BAKERY', 'FROZEN FOODS', 'MEATS', 'PREPARED FOODS', 'DELI','PRODUCE', 'DAIRY','POULTRY','EGGS','SEAFOOD']\n",
    "df['family'] = np.where(df['family'].isin(food_families), 'FOODS', df['family'])\n",
    "home_families = ['HOME AND KITCHEN I', 'HOME AND KITCHEN II', 'HOME APPLIANCES']\n",
    "df['family'] = np.where(df['family'].isin(home_families), 'HOME', df['family'])\n",
    "clothing_families = ['LINGERIE', 'LADYSWARE']\n",
    "df['family'] = np.where(df['family'].isin(clothing_families), 'CLOTHING', df['family'])\n",
    "grocery_families = ['GROCERY I', 'GROCERY II']\n",
    "df['family'] = np.where(df['family'].isin(grocery_families), 'GROCERY', df['family'])\n",
    "stationery_families = ['BOOKS', 'MAGAZINES','SCHOOL AND OFFICE SUPPLIES']\n",
    "df['family'] = np.where(df['family'].isin(stationery_families), 'STATIONERY', df['family'])\n",
    "cleaning_families = ['HOME CARE', 'BABY CARE','PERSONAL CARE']\n",
    "df['family'] = np.where(df['family'].isin(cleaning_families), 'CLEANING', df['family'])\n",
    "hardware_families = ['PLAYERS AND ELECTRONICS','HARDWARE']\n",
    "df['family'] = np.where(df['family'].isin(hardware_families), 'HARDWARE', df['family'])\n",
    "others_families = ['AUTOMOTIVE', 'BEAUTY','CELEBRATION', 'LADIESWEAR', 'LAWN AND GARDEN', 'LIQUOR,WINE,BEER',  'PET SUPPLIES']\n",
    "df['family'] = np.where(df['family'].isin(others_families), 'OTHERS', df['family'])"
   ]
  },
  {
   "cell_type": "code",
   "execution_count": 83,
   "id": "ff536d59",
   "metadata": {},
   "outputs": [
    {
     "data": {
      "text/plain": [
       "array(['OTHERS', 'CLEANING', 'FOODS', 'STATIONERY', 'GROCERY', 'HARDWARE',\n",
       "       'HOME', 'CLOTHING', '\"LIQUOR_WINE_BEER\"'], dtype=object)"
      ]
     },
     "execution_count": 83,
     "metadata": {},
     "output_type": "execute_result"
    }
   ],
   "source": [
    "df['family'].unique()"
   ]
  },
  {
   "cell_type": "code",
   "execution_count": 84,
   "id": "d52ab7a8",
   "metadata": {},
   "outputs": [],
   "source": [
    "df.rename(columns = {\"type_x\":\"store_type\",\"family\":\"products\"}, inplace = True)"
   ]
  },
  {
   "cell_type": "code",
   "execution_count": 85,
   "id": "fb3202e0",
   "metadata": {},
   "outputs": [
    {
     "data": {
      "text/html": [
       "<div>\n",
       "<style scoped>\n",
       "    .dataframe tbody tr th:only-of-type {\n",
       "        vertical-align: middle;\n",
       "    }\n",
       "\n",
       "    .dataframe tbody tr th {\n",
       "        vertical-align: top;\n",
       "    }\n",
       "\n",
       "    .dataframe thead th {\n",
       "        text-align: right;\n",
       "    }\n",
       "</style>\n",
       "<table border=\"1\" class=\"dataframe\">\n",
       "  <thead>\n",
       "    <tr style=\"text-align: right;\">\n",
       "      <th></th>\n",
       "      <th>store_nbr</th>\n",
       "      <th>products</th>\n",
       "      <th>sales</th>\n",
       "      <th>onpromotion</th>\n",
       "      <th>city</th>\n",
       "      <th>state</th>\n",
       "      <th>store_type</th>\n",
       "      <th>cluster</th>\n",
       "      <th>type_y</th>\n",
       "      <th>locale</th>\n",
       "      <th>locale_name</th>\n",
       "      <th>description</th>\n",
       "      <th>transferred</th>\n",
       "      <th>dcoilwtico</th>\n",
       "      <th>year</th>\n",
       "      <th>month</th>\n",
       "      <th>day</th>\n",
       "      <th>dayofweek</th>\n",
       "      <th>end_month</th>\n",
       "    </tr>\n",
       "    <tr>\n",
       "      <th>date</th>\n",
       "      <th></th>\n",
       "      <th></th>\n",
       "      <th></th>\n",
       "      <th></th>\n",
       "      <th></th>\n",
       "      <th></th>\n",
       "      <th></th>\n",
       "      <th></th>\n",
       "      <th></th>\n",
       "      <th></th>\n",
       "      <th></th>\n",
       "      <th></th>\n",
       "      <th></th>\n",
       "      <th></th>\n",
       "      <th></th>\n",
       "      <th></th>\n",
       "      <th></th>\n",
       "      <th></th>\n",
       "      <th></th>\n",
       "    </tr>\n",
       "  </thead>\n",
       "  <tbody>\n",
       "    <tr>\n",
       "      <th>2013-01-01</th>\n",
       "      <td>1</td>\n",
       "      <td>OTHERS</td>\n",
       "      <td>0.0</td>\n",
       "      <td>0</td>\n",
       "      <td>Quito</td>\n",
       "      <td>Pichincha</td>\n",
       "      <td>D</td>\n",
       "      <td>13</td>\n",
       "      <td>Holiday</td>\n",
       "      <td>National</td>\n",
       "      <td>Ecuador</td>\n",
       "      <td>Primer dia del ano</td>\n",
       "      <td>False</td>\n",
       "      <td>93.139999</td>\n",
       "      <td>2013</td>\n",
       "      <td>1</td>\n",
       "      <td>1</td>\n",
       "      <td>1</td>\n",
       "      <td>False</td>\n",
       "    </tr>\n",
       "    <tr>\n",
       "      <th>2013-01-01</th>\n",
       "      <td>1</td>\n",
       "      <td>CLEANING</td>\n",
       "      <td>0.0</td>\n",
       "      <td>0</td>\n",
       "      <td>Quito</td>\n",
       "      <td>Pichincha</td>\n",
       "      <td>D</td>\n",
       "      <td>13</td>\n",
       "      <td>Holiday</td>\n",
       "      <td>National</td>\n",
       "      <td>Ecuador</td>\n",
       "      <td>Primer dia del ano</td>\n",
       "      <td>False</td>\n",
       "      <td>93.139999</td>\n",
       "      <td>2013</td>\n",
       "      <td>1</td>\n",
       "      <td>1</td>\n",
       "      <td>1</td>\n",
       "      <td>False</td>\n",
       "    </tr>\n",
       "    <tr>\n",
       "      <th>2013-01-01</th>\n",
       "      <td>1</td>\n",
       "      <td>OTHERS</td>\n",
       "      <td>0.0</td>\n",
       "      <td>0</td>\n",
       "      <td>Quito</td>\n",
       "      <td>Pichincha</td>\n",
       "      <td>D</td>\n",
       "      <td>13</td>\n",
       "      <td>Holiday</td>\n",
       "      <td>National</td>\n",
       "      <td>Ecuador</td>\n",
       "      <td>Primer dia del ano</td>\n",
       "      <td>False</td>\n",
       "      <td>93.139999</td>\n",
       "      <td>2013</td>\n",
       "      <td>1</td>\n",
       "      <td>1</td>\n",
       "      <td>1</td>\n",
       "      <td>False</td>\n",
       "    </tr>\n",
       "    <tr>\n",
       "      <th>2013-01-01</th>\n",
       "      <td>1</td>\n",
       "      <td>FOODS</td>\n",
       "      <td>0.0</td>\n",
       "      <td>0</td>\n",
       "      <td>Quito</td>\n",
       "      <td>Pichincha</td>\n",
       "      <td>D</td>\n",
       "      <td>13</td>\n",
       "      <td>Holiday</td>\n",
       "      <td>National</td>\n",
       "      <td>Ecuador</td>\n",
       "      <td>Primer dia del ano</td>\n",
       "      <td>False</td>\n",
       "      <td>93.139999</td>\n",
       "      <td>2013</td>\n",
       "      <td>1</td>\n",
       "      <td>1</td>\n",
       "      <td>1</td>\n",
       "      <td>False</td>\n",
       "    </tr>\n",
       "    <tr>\n",
       "      <th>2013-01-01</th>\n",
       "      <td>1</td>\n",
       "      <td>STATIONERY</td>\n",
       "      <td>0.0</td>\n",
       "      <td>0</td>\n",
       "      <td>Quito</td>\n",
       "      <td>Pichincha</td>\n",
       "      <td>D</td>\n",
       "      <td>13</td>\n",
       "      <td>Holiday</td>\n",
       "      <td>National</td>\n",
       "      <td>Ecuador</td>\n",
       "      <td>Primer dia del ano</td>\n",
       "      <td>False</td>\n",
       "      <td>93.139999</td>\n",
       "      <td>2013</td>\n",
       "      <td>1</td>\n",
       "      <td>1</td>\n",
       "      <td>1</td>\n",
       "      <td>False</td>\n",
       "    </tr>\n",
       "  </tbody>\n",
       "</table>\n",
       "</div>"
      ],
      "text/plain": [
       "            store_nbr    products  sales onpromotion   city      state  \\\n",
       "date                                                                     \n",
       "2013-01-01          1      OTHERS    0.0           0  Quito  Pichincha   \n",
       "2013-01-01          1    CLEANING    0.0           0  Quito  Pichincha   \n",
       "2013-01-01          1      OTHERS    0.0           0  Quito  Pichincha   \n",
       "2013-01-01          1       FOODS    0.0           0  Quito  Pichincha   \n",
       "2013-01-01          1  STATIONERY    0.0           0  Quito  Pichincha   \n",
       "\n",
       "           store_type  cluster   type_y    locale locale_name  \\\n",
       "date                                                            \n",
       "2013-01-01          D       13  Holiday  National     Ecuador   \n",
       "2013-01-01          D       13  Holiday  National     Ecuador   \n",
       "2013-01-01          D       13  Holiday  National     Ecuador   \n",
       "2013-01-01          D       13  Holiday  National     Ecuador   \n",
       "2013-01-01          D       13  Holiday  National     Ecuador   \n",
       "\n",
       "                   description transferred  dcoilwtico  year  month  day  \\\n",
       "date                                                                       \n",
       "2013-01-01  Primer dia del ano       False   93.139999  2013      1    1   \n",
       "2013-01-01  Primer dia del ano       False   93.139999  2013      1    1   \n",
       "2013-01-01  Primer dia del ano       False   93.139999  2013      1    1   \n",
       "2013-01-01  Primer dia del ano       False   93.139999  2013      1    1   \n",
       "2013-01-01  Primer dia del ano       False   93.139999  2013      1    1   \n",
       "\n",
       "            dayofweek  end_month  \n",
       "date                              \n",
       "2013-01-01          1      False  \n",
       "2013-01-01          1      False  \n",
       "2013-01-01          1      False  \n",
       "2013-01-01          1      False  \n",
       "2013-01-01          1      False  "
      ]
     },
     "execution_count": 85,
     "metadata": {},
     "output_type": "execute_result"
    }
   ],
   "source": [
    "df.head()"
   ]
  },
  {
   "cell_type": "code",
   "execution_count": 86,
   "id": "df524e6d",
   "metadata": {},
   "outputs": [],
   "source": [
    "df.drop(['locale','locale_name','description','transferred','city','type_y'],axis=1,inplace=True)"
   ]
  },
  {
   "cell_type": "code",
   "execution_count": 87,
   "id": "7f054c13",
   "metadata": {},
   "outputs": [],
   "source": [
    "df.reset_index(inplace=True)"
   ]
  },
  {
   "cell_type": "code",
   "execution_count": 88,
   "id": "8f1c6a40",
   "metadata": {},
   "outputs": [
    {
     "data": {
      "text/html": [
       "<div>\n",
       "<style scoped>\n",
       "    .dataframe tbody tr th:only-of-type {\n",
       "        vertical-align: middle;\n",
       "    }\n",
       "\n",
       "    .dataframe tbody tr th {\n",
       "        vertical-align: top;\n",
       "    }\n",
       "\n",
       "    .dataframe thead th {\n",
       "        text-align: right;\n",
       "    }\n",
       "</style>\n",
       "<table border=\"1\" class=\"dataframe\">\n",
       "  <thead>\n",
       "    <tr style=\"text-align: right;\">\n",
       "      <th></th>\n",
       "      <th>date</th>\n",
       "      <th>store_nbr</th>\n",
       "      <th>products</th>\n",
       "      <th>sales</th>\n",
       "      <th>onpromotion</th>\n",
       "      <th>state</th>\n",
       "      <th>store_type</th>\n",
       "      <th>cluster</th>\n",
       "      <th>dcoilwtico</th>\n",
       "      <th>year</th>\n",
       "      <th>month</th>\n",
       "      <th>day</th>\n",
       "      <th>dayofweek</th>\n",
       "      <th>end_month</th>\n",
       "    </tr>\n",
       "  </thead>\n",
       "  <tbody>\n",
       "    <tr>\n",
       "      <th>0</th>\n",
       "      <td>2013-01-01</td>\n",
       "      <td>1</td>\n",
       "      <td>OTHERS</td>\n",
       "      <td>0.0</td>\n",
       "      <td>0</td>\n",
       "      <td>Pichincha</td>\n",
       "      <td>D</td>\n",
       "      <td>13</td>\n",
       "      <td>93.139999</td>\n",
       "      <td>2013</td>\n",
       "      <td>1</td>\n",
       "      <td>1</td>\n",
       "      <td>1</td>\n",
       "      <td>False</td>\n",
       "    </tr>\n",
       "    <tr>\n",
       "      <th>1</th>\n",
       "      <td>2013-01-01</td>\n",
       "      <td>1</td>\n",
       "      <td>CLEANING</td>\n",
       "      <td>0.0</td>\n",
       "      <td>0</td>\n",
       "      <td>Pichincha</td>\n",
       "      <td>D</td>\n",
       "      <td>13</td>\n",
       "      <td>93.139999</td>\n",
       "      <td>2013</td>\n",
       "      <td>1</td>\n",
       "      <td>1</td>\n",
       "      <td>1</td>\n",
       "      <td>False</td>\n",
       "    </tr>\n",
       "    <tr>\n",
       "      <th>2</th>\n",
       "      <td>2013-01-01</td>\n",
       "      <td>1</td>\n",
       "      <td>OTHERS</td>\n",
       "      <td>0.0</td>\n",
       "      <td>0</td>\n",
       "      <td>Pichincha</td>\n",
       "      <td>D</td>\n",
       "      <td>13</td>\n",
       "      <td>93.139999</td>\n",
       "      <td>2013</td>\n",
       "      <td>1</td>\n",
       "      <td>1</td>\n",
       "      <td>1</td>\n",
       "      <td>False</td>\n",
       "    </tr>\n",
       "    <tr>\n",
       "      <th>3</th>\n",
       "      <td>2013-01-01</td>\n",
       "      <td>1</td>\n",
       "      <td>FOODS</td>\n",
       "      <td>0.0</td>\n",
       "      <td>0</td>\n",
       "      <td>Pichincha</td>\n",
       "      <td>D</td>\n",
       "      <td>13</td>\n",
       "      <td>93.139999</td>\n",
       "      <td>2013</td>\n",
       "      <td>1</td>\n",
       "      <td>1</td>\n",
       "      <td>1</td>\n",
       "      <td>False</td>\n",
       "    </tr>\n",
       "    <tr>\n",
       "      <th>4</th>\n",
       "      <td>2013-01-01</td>\n",
       "      <td>1</td>\n",
       "      <td>STATIONERY</td>\n",
       "      <td>0.0</td>\n",
       "      <td>0</td>\n",
       "      <td>Pichincha</td>\n",
       "      <td>D</td>\n",
       "      <td>13</td>\n",
       "      <td>93.139999</td>\n",
       "      <td>2013</td>\n",
       "      <td>1</td>\n",
       "      <td>1</td>\n",
       "      <td>1</td>\n",
       "      <td>False</td>\n",
       "    </tr>\n",
       "  </tbody>\n",
       "</table>\n",
       "</div>"
      ],
      "text/plain": [
       "        date  store_nbr    products  sales onpromotion      state store_type  \\\n",
       "0 2013-01-01          1      OTHERS    0.0           0  Pichincha          D   \n",
       "1 2013-01-01          1    CLEANING    0.0           0  Pichincha          D   \n",
       "2 2013-01-01          1      OTHERS    0.0           0  Pichincha          D   \n",
       "3 2013-01-01          1       FOODS    0.0           0  Pichincha          D   \n",
       "4 2013-01-01          1  STATIONERY    0.0           0  Pichincha          D   \n",
       "\n",
       "   cluster  dcoilwtico  year  month  day  dayofweek  end_month  \n",
       "0       13   93.139999  2013      1    1          1      False  \n",
       "1       13   93.139999  2013      1    1          1      False  \n",
       "2       13   93.139999  2013      1    1          1      False  \n",
       "3       13   93.139999  2013      1    1          1      False  \n",
       "4       13   93.139999  2013      1    1          1      False  "
      ]
     },
     "execution_count": 88,
     "metadata": {},
     "output_type": "execute_result"
    }
   ],
   "source": [
    "df.head(5)"
   ]
  },
  {
   "cell_type": "code",
   "execution_count": 89,
   "id": "da8c02d7",
   "metadata": {},
   "outputs": [
    {
     "data": {
      "text/plain": [
       "date              0\n",
       "store_nbr         0\n",
       "products          0\n",
       "sales          7128\n",
       "onpromotion    7128\n",
       "state             0\n",
       "store_type        0\n",
       "cluster           0\n",
       "dcoilwtico        0\n",
       "year              0\n",
       "month             0\n",
       "day               0\n",
       "dayofweek         0\n",
       "end_month         0\n",
       "dtype: int64"
      ]
     },
     "execution_count": 89,
     "metadata": {},
     "output_type": "execute_result"
    }
   ],
   "source": [
    "df.isnull().sum()"
   ]
  },
  {
   "cell_type": "code",
   "execution_count": 90,
   "id": "ba033d42",
   "metadata": {},
   "outputs": [],
   "source": [
    "df['sales'].fillna(0,inplace=True)"
   ]
  },
  {
   "cell_type": "code",
   "execution_count": 91,
   "id": "5e3067b2",
   "metadata": {},
   "outputs": [
    {
     "data": {
      "text/plain": [
       "array(['OTHERS', 'CLEANING', 'FOODS', 'STATIONERY', 'GROCERY', 'HARDWARE',\n",
       "       'HOME', 'CLOTHING', '\"LIQUOR_WINE_BEER\"'], dtype=object)"
      ]
     },
     "execution_count": 91,
     "metadata": {},
     "output_type": "execute_result"
    }
   ],
   "source": [
    "df['products'].unique()"
   ]
  },
  {
   "cell_type": "code",
   "execution_count": 92,
   "id": "1254afcd",
   "metadata": {},
   "outputs": [
    {
     "data": {
      "text/plain": [
       "array(['Pichincha', 'Cotopaxi', 'Chimborazo', 'Imbabura',\n",
       "       'Santo Domingo de los Tsachilas', 'Bolivar', 'Pastaza',\n",
       "       'Tungurahua', 'Guayas', 'Santa Elena', 'Los Rios', 'Azuay', 'Loja',\n",
       "       'El Oro', 'Esmeraldas', 'Manabi'], dtype=object)"
      ]
     },
     "execution_count": 92,
     "metadata": {},
     "output_type": "execute_result"
    }
   ],
   "source": [
    "df['state'].unique()"
   ]
  },
  {
   "cell_type": "code",
   "execution_count": 93,
   "id": "ad975bde",
   "metadata": {},
   "outputs": [
    {
     "data": {
      "text/plain": [
       "array(['D', 'C', 'B', 'E', 'A'], dtype=object)"
      ]
     },
     "execution_count": 93,
     "metadata": {},
     "output_type": "execute_result"
    }
   ],
   "source": [
    "df['store_type'].unique()"
   ]
  },
  {
   "cell_type": "markdown",
   "id": "1a4bb240",
   "metadata": {},
   "source": [
    "# Data spliting"
   ]
  },
  {
   "cell_type": "code",
   "execution_count": 94,
   "id": "07b9f65e",
   "metadata": {},
   "outputs": [],
   "source": [
    "# Calculate the number of rows in the data\n",
    "n_rows = df.shape[0]\n",
    "\n",
    "# Calculate the split point\n",
    "split_point = int(n_rows * 0.85)\n",
    "\n",
    "# Select the first 85% of the rows as the training data\n",
    "X_train = df.iloc[:split_point]\n",
    "y_train = X_train['sales']\n",
    "X_train = X_train.drop('sales', axis=1)\n",
    "\n",
    "# Select the remaining 15% of the rows as the validation data\n",
    "X_eval = df.iloc[split_point:]\n",
    "y_eval = X_eval['sales']\n",
    "X_eval = X_eval.drop('sales', axis=1)"
   ]
  },
  {
   "cell_type": "code",
   "execution_count": 95,
   "id": "401b981a",
   "metadata": {},
   "outputs": [
    {
     "data": {
      "text/plain": [
       "((2602254, 13), (459222, 13), (2602254,), (459222,))"
      ]
     },
     "execution_count": 95,
     "metadata": {},
     "output_type": "execute_result"
    }
   ],
   "source": [
    "X_train.shape,X_eval.shape,y_train.shape,y_eval.shape"
   ]
  },
  {
   "cell_type": "markdown",
   "id": "2f143164",
   "metadata": {},
   "source": [
    "# Impute Missing Values"
   ]
  },
  {
   "cell_type": "code",
   "execution_count": 96,
   "id": "8a200966",
   "metadata": {},
   "outputs": [],
   "source": [
    "categorical_columns = ['products', 'end_month', 'store_type', 'state']"
   ]
  },
  {
   "cell_type": "code",
   "execution_count": 97,
   "id": "c9222fb9",
   "metadata": {},
   "outputs": [],
   "source": [
    "numerical_columns =['store_nbr','onpromotion','cluster','dcoilwtico','year','month','day','dayofweek']"
   ]
  },
  {
   "cell_type": "code",
   "execution_count": 98,
   "id": "61223c32",
   "metadata": {},
   "outputs": [],
   "source": [
    "'''creating copy of the categorical features and numerical features\n",
    "before imputing null value to avoid modifying the orginal dataset'''\n",
    "\n",
    "X_train_cat = X_train[categorical_columns].copy()\n",
    "X_train_num = X_train[numerical_columns].copy()\n",
    "\n",
    "X_eval_cat = X_eval[categorical_columns].copy()\n",
    "X_eval_num = X_eval[numerical_columns].copy()"
   ]
  },
  {
   "cell_type": "code",
   "execution_count": 99,
   "id": "ed6ecad3",
   "metadata": {},
   "outputs": [],
   "source": [
    "# Creating imputer variables\n",
    "from sklearn.impute import SimpleImputer\n",
    "\n",
    "numerical_imputer = SimpleImputer(strategy = \"mean\")\n",
    "categorical_imputer = SimpleImputer(strategy = \"most_frequent\")"
   ]
  },
  {
   "cell_type": "code",
   "execution_count": 100,
   "id": "1358c8ee",
   "metadata": {},
   "outputs": [],
   "source": [
    "# Fitting the Imputer\n",
    "X_train_cat_imputed = categorical_imputer.fit_transform(X_train_cat)\n",
    "X_train_num_imputed = numerical_imputer.fit_transform(X_train_num)\n",
    "\n",
    "X_eval_cat_imputed = categorical_imputer.fit_transform(X_eval_cat)\n",
    "X_eval_num_imputed = numerical_imputer.fit_transform(X_eval_num)"
   ]
  },
  {
   "cell_type": "markdown",
   "id": "1138f4a6",
   "metadata": {},
   "source": [
    "# Features Encoding"
   ]
  },
  {
   "cell_type": "code",
   "execution_count": 101,
   "id": "de0f43f9",
   "metadata": {},
   "outputs": [],
   "source": [
    "from sklearn.preprocessing import OneHotEncoder,StandardScaler\n",
    "\n",
    "encoder=OneHotEncoder(handle_unknown='ignore')"
   ]
  },
  {
   "cell_type": "code",
   "execution_count": 102,
   "id": "f1fe5550",
   "metadata": {},
   "outputs": [],
   "source": [
    "# encoding the xtrain categories and converting to a dataframe\n",
    "X_train_cat_encoded = encoder.fit(X_train_cat_imputed)\n",
    "X_train_cat_encoded = pd.DataFrame(encoder.transform(X_train_cat_imputed).toarray(),\n",
    "                                   columns=encoder.get_feature_names_out(categorical_columns))"
   ]
  },
  {
   "cell_type": "code",
   "execution_count": 103,
   "id": "f64bd0d5",
   "metadata": {},
   "outputs": [],
   "source": [
    "# encoding the xeval categories and converting to a dataframe\n",
    "X_eval_cat_encoded = encoder.fit(X_eval_cat_imputed)\n",
    "X_eval_cat_encoded = pd.DataFrame(encoder.transform(X_eval_cat_imputed).toarray(),\n",
    "                                   columns=encoder.get_feature_names_out(categorical_columns))"
   ]
  },
  {
   "cell_type": "markdown",
   "id": "518989b6",
   "metadata": {},
   "source": [
    "# Data scalling"
   ]
  },
  {
   "cell_type": "code",
   "execution_count": 104,
   "id": "59a0c3db",
   "metadata": {},
   "outputs": [],
   "source": [
    "\n",
    "scaler= StandardScaler()"
   ]
  },
  {
   "cell_type": "code",
   "execution_count": 105,
   "id": "aec46010",
   "metadata": {},
   "outputs": [],
   "source": [
    "\n",
    "X_train_num_scaled = scaler.fit_transform(X_train_num_imputed)\n",
    "X_train_num_sc = pd.DataFrame(X_train_num_scaled, columns = numerical_columns)"
   ]
  },
  {
   "cell_type": "code",
   "execution_count": 106,
   "id": "df20c847",
   "metadata": {},
   "outputs": [],
   "source": [
    "X_eval_num_scaled = scaler.fit_transform(X_eval_num_imputed)\n",
    "X_eval_num_sc = pd.DataFrame(X_eval_num_scaled, columns = numerical_columns)"
   ]
  },
  {
   "cell_type": "markdown",
   "id": "62b05700",
   "metadata": {},
   "source": [
    "# Combining the xtrain cat and xtrain num"
   ]
  },
  {
   "cell_type": "code",
   "execution_count": 107,
   "id": "74d63a69",
   "metadata": {},
   "outputs": [],
   "source": [
    "X_train_df = pd.concat([X_train_num_sc,X_train_cat_encoded], axis =1)\n",
    "X_eval_df = pd.concat([X_eval_num_sc,X_eval_cat_encoded], axis =1)"
   ]
  },
  {
   "cell_type": "code",
   "execution_count": 108,
   "id": "25da690e",
   "metadata": {},
   "outputs": [
    {
     "data": {
      "text/html": [
       "<div>\n",
       "<style scoped>\n",
       "    .dataframe tbody tr th:only-of-type {\n",
       "        vertical-align: middle;\n",
       "    }\n",
       "\n",
       "    .dataframe tbody tr th {\n",
       "        vertical-align: top;\n",
       "    }\n",
       "\n",
       "    .dataframe thead th {\n",
       "        text-align: right;\n",
       "    }\n",
       "</style>\n",
       "<table border=\"1\" class=\"dataframe\">\n",
       "  <thead>\n",
       "    <tr style=\"text-align: right;\">\n",
       "      <th></th>\n",
       "      <th>store_nbr</th>\n",
       "      <th>onpromotion</th>\n",
       "      <th>cluster</th>\n",
       "      <th>dcoilwtico</th>\n",
       "      <th>year</th>\n",
       "      <th>month</th>\n",
       "      <th>day</th>\n",
       "      <th>dayofweek</th>\n",
       "      <th>products_\"LIQUOR_WINE_BEER\"</th>\n",
       "      <th>products_CLEANING</th>\n",
       "      <th>...</th>\n",
       "      <th>state_Guayas</th>\n",
       "      <th>state_Imbabura</th>\n",
       "      <th>state_Loja</th>\n",
       "      <th>state_Los Rios</th>\n",
       "      <th>state_Manabi</th>\n",
       "      <th>state_Pastaza</th>\n",
       "      <th>state_Pichincha</th>\n",
       "      <th>state_Santa Elena</th>\n",
       "      <th>state_Santo Domingo de los Tsachilas</th>\n",
       "      <th>state_Tungurahua</th>\n",
       "    </tr>\n",
       "  </thead>\n",
       "  <tbody>\n",
       "    <tr>\n",
       "      <th>0</th>\n",
       "      <td>-1.700128</td>\n",
       "      <td>-0.173535</td>\n",
       "      <td>0.971672</td>\n",
       "      <td>1.161929</td>\n",
       "      <td>-1.332498</td>\n",
       "      <td>-1.604796</td>\n",
       "      <td>-1.662658</td>\n",
       "      <td>-1.004298</td>\n",
       "      <td>0.0</td>\n",
       "      <td>0.0</td>\n",
       "      <td>...</td>\n",
       "      <td>0.0</td>\n",
       "      <td>0.0</td>\n",
       "      <td>0.0</td>\n",
       "      <td>0.0</td>\n",
       "      <td>0.0</td>\n",
       "      <td>0.0</td>\n",
       "      <td>1.0</td>\n",
       "      <td>0.0</td>\n",
       "      <td>0.0</td>\n",
       "      <td>0.0</td>\n",
       "    </tr>\n",
       "    <tr>\n",
       "      <th>1</th>\n",
       "      <td>-1.700128</td>\n",
       "      <td>-0.173535</td>\n",
       "      <td>0.971672</td>\n",
       "      <td>1.161929</td>\n",
       "      <td>-1.332498</td>\n",
       "      <td>-1.604796</td>\n",
       "      <td>-1.662658</td>\n",
       "      <td>-1.004298</td>\n",
       "      <td>0.0</td>\n",
       "      <td>1.0</td>\n",
       "      <td>...</td>\n",
       "      <td>0.0</td>\n",
       "      <td>0.0</td>\n",
       "      <td>0.0</td>\n",
       "      <td>0.0</td>\n",
       "      <td>0.0</td>\n",
       "      <td>0.0</td>\n",
       "      <td>1.0</td>\n",
       "      <td>0.0</td>\n",
       "      <td>0.0</td>\n",
       "      <td>0.0</td>\n",
       "    </tr>\n",
       "    <tr>\n",
       "      <th>2</th>\n",
       "      <td>-1.700128</td>\n",
       "      <td>-0.173535</td>\n",
       "      <td>0.971672</td>\n",
       "      <td>1.161929</td>\n",
       "      <td>-1.332498</td>\n",
       "      <td>-1.604796</td>\n",
       "      <td>-1.662658</td>\n",
       "      <td>-1.004298</td>\n",
       "      <td>0.0</td>\n",
       "      <td>0.0</td>\n",
       "      <td>...</td>\n",
       "      <td>0.0</td>\n",
       "      <td>0.0</td>\n",
       "      <td>0.0</td>\n",
       "      <td>0.0</td>\n",
       "      <td>0.0</td>\n",
       "      <td>0.0</td>\n",
       "      <td>1.0</td>\n",
       "      <td>0.0</td>\n",
       "      <td>0.0</td>\n",
       "      <td>0.0</td>\n",
       "    </tr>\n",
       "    <tr>\n",
       "      <th>3</th>\n",
       "      <td>-1.700128</td>\n",
       "      <td>-0.173535</td>\n",
       "      <td>0.971672</td>\n",
       "      <td>1.161929</td>\n",
       "      <td>-1.332498</td>\n",
       "      <td>-1.604796</td>\n",
       "      <td>-1.662658</td>\n",
       "      <td>-1.004298</td>\n",
       "      <td>0.0</td>\n",
       "      <td>0.0</td>\n",
       "      <td>...</td>\n",
       "      <td>0.0</td>\n",
       "      <td>0.0</td>\n",
       "      <td>0.0</td>\n",
       "      <td>0.0</td>\n",
       "      <td>0.0</td>\n",
       "      <td>0.0</td>\n",
       "      <td>1.0</td>\n",
       "      <td>0.0</td>\n",
       "      <td>0.0</td>\n",
       "      <td>0.0</td>\n",
       "    </tr>\n",
       "    <tr>\n",
       "      <th>4</th>\n",
       "      <td>-1.700128</td>\n",
       "      <td>-0.173535</td>\n",
       "      <td>0.971672</td>\n",
       "      <td>1.161929</td>\n",
       "      <td>-1.332498</td>\n",
       "      <td>-1.604796</td>\n",
       "      <td>-1.662658</td>\n",
       "      <td>-1.004298</td>\n",
       "      <td>0.0</td>\n",
       "      <td>0.0</td>\n",
       "      <td>...</td>\n",
       "      <td>0.0</td>\n",
       "      <td>0.0</td>\n",
       "      <td>0.0</td>\n",
       "      <td>0.0</td>\n",
       "      <td>0.0</td>\n",
       "      <td>0.0</td>\n",
       "      <td>1.0</td>\n",
       "      <td>0.0</td>\n",
       "      <td>0.0</td>\n",
       "      <td>0.0</td>\n",
       "    </tr>\n",
       "  </tbody>\n",
       "</table>\n",
       "<p>5 rows × 40 columns</p>\n",
       "</div>"
      ],
      "text/plain": [
       "   store_nbr  onpromotion   cluster  dcoilwtico      year     month       day  \\\n",
       "0  -1.700128    -0.173535  0.971672    1.161929 -1.332498 -1.604796 -1.662658   \n",
       "1  -1.700128    -0.173535  0.971672    1.161929 -1.332498 -1.604796 -1.662658   \n",
       "2  -1.700128    -0.173535  0.971672    1.161929 -1.332498 -1.604796 -1.662658   \n",
       "3  -1.700128    -0.173535  0.971672    1.161929 -1.332498 -1.604796 -1.662658   \n",
       "4  -1.700128    -0.173535  0.971672    1.161929 -1.332498 -1.604796 -1.662658   \n",
       "\n",
       "   dayofweek  products_\"LIQUOR_WINE_BEER\"  products_CLEANING  ...  \\\n",
       "0  -1.004298                          0.0                0.0  ...   \n",
       "1  -1.004298                          0.0                1.0  ...   \n",
       "2  -1.004298                          0.0                0.0  ...   \n",
       "3  -1.004298                          0.0                0.0  ...   \n",
       "4  -1.004298                          0.0                0.0  ...   \n",
       "\n",
       "   state_Guayas  state_Imbabura  state_Loja  state_Los Rios  state_Manabi  \\\n",
       "0           0.0             0.0         0.0             0.0           0.0   \n",
       "1           0.0             0.0         0.0             0.0           0.0   \n",
       "2           0.0             0.0         0.0             0.0           0.0   \n",
       "3           0.0             0.0         0.0             0.0           0.0   \n",
       "4           0.0             0.0         0.0             0.0           0.0   \n",
       "\n",
       "   state_Pastaza  state_Pichincha  state_Santa Elena  \\\n",
       "0            0.0              1.0                0.0   \n",
       "1            0.0              1.0                0.0   \n",
       "2            0.0              1.0                0.0   \n",
       "3            0.0              1.0                0.0   \n",
       "4            0.0              1.0                0.0   \n",
       "\n",
       "   state_Santo Domingo de los Tsachilas  state_Tungurahua  \n",
       "0                                   0.0               0.0  \n",
       "1                                   0.0               0.0  \n",
       "2                                   0.0               0.0  \n",
       "3                                   0.0               0.0  \n",
       "4                                   0.0               0.0  \n",
       "\n",
       "[5 rows x 40 columns]"
      ]
     },
     "execution_count": 108,
     "metadata": {},
     "output_type": "execute_result"
    }
   ],
   "source": [
    "\n",
    "X_train_df.head()"
   ]
  },
  {
   "cell_type": "code",
   "execution_count": 109,
   "id": "86924b8c",
   "metadata": {
    "scrolled": true
   },
   "outputs": [
    {
     "data": {
      "text/html": [
       "<div>\n",
       "<style scoped>\n",
       "    .dataframe tbody tr th:only-of-type {\n",
       "        vertical-align: middle;\n",
       "    }\n",
       "\n",
       "    .dataframe tbody tr th {\n",
       "        vertical-align: top;\n",
       "    }\n",
       "\n",
       "    .dataframe thead th {\n",
       "        text-align: right;\n",
       "    }\n",
       "</style>\n",
       "<table border=\"1\" class=\"dataframe\">\n",
       "  <thead>\n",
       "    <tr style=\"text-align: right;\">\n",
       "      <th></th>\n",
       "      <th>store_nbr</th>\n",
       "      <th>onpromotion</th>\n",
       "      <th>cluster</th>\n",
       "      <th>dcoilwtico</th>\n",
       "      <th>year</th>\n",
       "      <th>month</th>\n",
       "      <th>day</th>\n",
       "      <th>dayofweek</th>\n",
       "      <th>products_\"LIQUOR_WINE_BEER\"</th>\n",
       "      <th>products_CLEANING</th>\n",
       "      <th>...</th>\n",
       "      <th>state_Guayas</th>\n",
       "      <th>state_Imbabura</th>\n",
       "      <th>state_Loja</th>\n",
       "      <th>state_Los Rios</th>\n",
       "      <th>state_Manabi</th>\n",
       "      <th>state_Pastaza</th>\n",
       "      <th>state_Pichincha</th>\n",
       "      <th>state_Santa Elena</th>\n",
       "      <th>state_Santo Domingo de los Tsachilas</th>\n",
       "      <th>state_Tungurahua</th>\n",
       "    </tr>\n",
       "  </thead>\n",
       "  <tbody>\n",
       "    <tr>\n",
       "      <th>0</th>\n",
       "      <td>-0.225495</td>\n",
       "      <td>-0.331062</td>\n",
       "      <td>-1.608553</td>\n",
       "      <td>0.548863</td>\n",
       "      <td>-2.011529</td>\n",
       "      <td>2.212358</td>\n",
       "      <td>-0.776607</td>\n",
       "      <td>0.489502</td>\n",
       "      <td>0.0</td>\n",
       "      <td>0.0</td>\n",
       "      <td>...</td>\n",
       "      <td>1.0</td>\n",
       "      <td>0.0</td>\n",
       "      <td>0.0</td>\n",
       "      <td>0.0</td>\n",
       "      <td>0.0</td>\n",
       "      <td>0.0</td>\n",
       "      <td>0.0</td>\n",
       "      <td>0.0</td>\n",
       "      <td>0.0</td>\n",
       "      <td>0.0</td>\n",
       "    </tr>\n",
       "    <tr>\n",
       "      <th>1</th>\n",
       "      <td>-0.225495</td>\n",
       "      <td>1.247247</td>\n",
       "      <td>-1.608553</td>\n",
       "      <td>0.548863</td>\n",
       "      <td>-2.011529</td>\n",
       "      <td>2.212358</td>\n",
       "      <td>-0.776607</td>\n",
       "      <td>0.489502</td>\n",
       "      <td>0.0</td>\n",
       "      <td>1.0</td>\n",
       "      <td>...</td>\n",
       "      <td>1.0</td>\n",
       "      <td>0.0</td>\n",
       "      <td>0.0</td>\n",
       "      <td>0.0</td>\n",
       "      <td>0.0</td>\n",
       "      <td>0.0</td>\n",
       "      <td>0.0</td>\n",
       "      <td>0.0</td>\n",
       "      <td>0.0</td>\n",
       "      <td>0.0</td>\n",
       "    </tr>\n",
       "    <tr>\n",
       "      <th>2</th>\n",
       "      <td>-0.225495</td>\n",
       "      <td>0.757427</td>\n",
       "      <td>-1.608553</td>\n",
       "      <td>0.548863</td>\n",
       "      <td>-2.011529</td>\n",
       "      <td>2.212358</td>\n",
       "      <td>-0.776607</td>\n",
       "      <td>0.489502</td>\n",
       "      <td>0.0</td>\n",
       "      <td>0.0</td>\n",
       "      <td>...</td>\n",
       "      <td>1.0</td>\n",
       "      <td>0.0</td>\n",
       "      <td>0.0</td>\n",
       "      <td>0.0</td>\n",
       "      <td>0.0</td>\n",
       "      <td>0.0</td>\n",
       "      <td>0.0</td>\n",
       "      <td>0.0</td>\n",
       "      <td>0.0</td>\n",
       "      <td>0.0</td>\n",
       "    </tr>\n",
       "    <tr>\n",
       "      <th>3</th>\n",
       "      <td>-0.225495</td>\n",
       "      <td>3.097679</td>\n",
       "      <td>-1.608553</td>\n",
       "      <td>0.548863</td>\n",
       "      <td>-2.011529</td>\n",
       "      <td>2.212358</td>\n",
       "      <td>-0.776607</td>\n",
       "      <td>0.489502</td>\n",
       "      <td>0.0</td>\n",
       "      <td>0.0</td>\n",
       "      <td>...</td>\n",
       "      <td>1.0</td>\n",
       "      <td>0.0</td>\n",
       "      <td>0.0</td>\n",
       "      <td>0.0</td>\n",
       "      <td>0.0</td>\n",
       "      <td>0.0</td>\n",
       "      <td>0.0</td>\n",
       "      <td>0.0</td>\n",
       "      <td>0.0</td>\n",
       "      <td>0.0</td>\n",
       "    </tr>\n",
       "    <tr>\n",
       "      <th>4</th>\n",
       "      <td>-0.225495</td>\n",
       "      <td>1.192823</td>\n",
       "      <td>-1.608553</td>\n",
       "      <td>0.548863</td>\n",
       "      <td>-2.011529</td>\n",
       "      <td>2.212358</td>\n",
       "      <td>-0.776607</td>\n",
       "      <td>0.489502</td>\n",
       "      <td>0.0</td>\n",
       "      <td>0.0</td>\n",
       "      <td>...</td>\n",
       "      <td>1.0</td>\n",
       "      <td>0.0</td>\n",
       "      <td>0.0</td>\n",
       "      <td>0.0</td>\n",
       "      <td>0.0</td>\n",
       "      <td>0.0</td>\n",
       "      <td>0.0</td>\n",
       "      <td>0.0</td>\n",
       "      <td>0.0</td>\n",
       "      <td>0.0</td>\n",
       "    </tr>\n",
       "  </tbody>\n",
       "</table>\n",
       "<p>5 rows × 40 columns</p>\n",
       "</div>"
      ],
      "text/plain": [
       "   store_nbr  onpromotion   cluster  dcoilwtico      year     month       day  \\\n",
       "0  -0.225495    -0.331062 -1.608553    0.548863 -2.011529  2.212358 -0.776607   \n",
       "1  -0.225495     1.247247 -1.608553    0.548863 -2.011529  2.212358 -0.776607   \n",
       "2  -0.225495     0.757427 -1.608553    0.548863 -2.011529  2.212358 -0.776607   \n",
       "3  -0.225495     3.097679 -1.608553    0.548863 -2.011529  2.212358 -0.776607   \n",
       "4  -0.225495     1.192823 -1.608553    0.548863 -2.011529  2.212358 -0.776607   \n",
       "\n",
       "   dayofweek  products_\"LIQUOR_WINE_BEER\"  products_CLEANING  ...  \\\n",
       "0   0.489502                          0.0                0.0  ...   \n",
       "1   0.489502                          0.0                1.0  ...   \n",
       "2   0.489502                          0.0                0.0  ...   \n",
       "3   0.489502                          0.0                0.0  ...   \n",
       "4   0.489502                          0.0                0.0  ...   \n",
       "\n",
       "   state_Guayas  state_Imbabura  state_Loja  state_Los Rios  state_Manabi  \\\n",
       "0           1.0             0.0         0.0             0.0           0.0   \n",
       "1           1.0             0.0         0.0             0.0           0.0   \n",
       "2           1.0             0.0         0.0             0.0           0.0   \n",
       "3           1.0             0.0         0.0             0.0           0.0   \n",
       "4           1.0             0.0         0.0             0.0           0.0   \n",
       "\n",
       "   state_Pastaza  state_Pichincha  state_Santa Elena  \\\n",
       "0            0.0              0.0                0.0   \n",
       "1            0.0              0.0                0.0   \n",
       "2            0.0              0.0                0.0   \n",
       "3            0.0              0.0                0.0   \n",
       "4            0.0              0.0                0.0   \n",
       "\n",
       "   state_Santo Domingo de los Tsachilas  state_Tungurahua  \n",
       "0                                   0.0               0.0  \n",
       "1                                   0.0               0.0  \n",
       "2                                   0.0               0.0  \n",
       "3                                   0.0               0.0  \n",
       "4                                   0.0               0.0  \n",
       "\n",
       "[5 rows x 40 columns]"
      ]
     },
     "execution_count": 109,
     "metadata": {},
     "output_type": "execute_result"
    }
   ],
   "source": [
    "X_eval_df.head()"
   ]
  },
  {
   "cell_type": "markdown",
   "id": "175920b8",
   "metadata": {},
   "source": [
    "# Machine learning models"
   ]
  },
  {
   "cell_type": "markdown",
   "id": "a319f2ed",
   "metadata": {},
   "source": [
    "# Decision Tree Regression Model"
   ]
  },
  {
   "cell_type": "code",
   "execution_count": 110,
   "id": "646f1457",
   "metadata": {},
   "outputs": [
    {
     "data": {
      "text/html": [
       "<style>#sk-container-id-1 {color: black;background-color: white;}#sk-container-id-1 pre{padding: 0;}#sk-container-id-1 div.sk-toggleable {background-color: white;}#sk-container-id-1 label.sk-toggleable__label {cursor: pointer;display: block;width: 100%;margin-bottom: 0;padding: 0.3em;box-sizing: border-box;text-align: center;}#sk-container-id-1 label.sk-toggleable__label-arrow:before {content: \"▸\";float: left;margin-right: 0.25em;color: #696969;}#sk-container-id-1 label.sk-toggleable__label-arrow:hover:before {color: black;}#sk-container-id-1 div.sk-estimator:hover label.sk-toggleable__label-arrow:before {color: black;}#sk-container-id-1 div.sk-toggleable__content {max-height: 0;max-width: 0;overflow: hidden;text-align: left;background-color: #f0f8ff;}#sk-container-id-1 div.sk-toggleable__content pre {margin: 0.2em;color: black;border-radius: 0.25em;background-color: #f0f8ff;}#sk-container-id-1 input.sk-toggleable__control:checked~div.sk-toggleable__content {max-height: 200px;max-width: 100%;overflow: auto;}#sk-container-id-1 input.sk-toggleable__control:checked~label.sk-toggleable__label-arrow:before {content: \"▾\";}#sk-container-id-1 div.sk-estimator input.sk-toggleable__control:checked~label.sk-toggleable__label {background-color: #d4ebff;}#sk-container-id-1 div.sk-label input.sk-toggleable__control:checked~label.sk-toggleable__label {background-color: #d4ebff;}#sk-container-id-1 input.sk-hidden--visually {border: 0;clip: rect(1px 1px 1px 1px);clip: rect(1px, 1px, 1px, 1px);height: 1px;margin: -1px;overflow: hidden;padding: 0;position: absolute;width: 1px;}#sk-container-id-1 div.sk-estimator {font-family: monospace;background-color: #f0f8ff;border: 1px dotted black;border-radius: 0.25em;box-sizing: border-box;margin-bottom: 0.5em;}#sk-container-id-1 div.sk-estimator:hover {background-color: #d4ebff;}#sk-container-id-1 div.sk-parallel-item::after {content: \"\";width: 100%;border-bottom: 1px solid gray;flex-grow: 1;}#sk-container-id-1 div.sk-label:hover label.sk-toggleable__label {background-color: #d4ebff;}#sk-container-id-1 div.sk-serial::before {content: \"\";position: absolute;border-left: 1px solid gray;box-sizing: border-box;top: 0;bottom: 0;left: 50%;z-index: 0;}#sk-container-id-1 div.sk-serial {display: flex;flex-direction: column;align-items: center;background-color: white;padding-right: 0.2em;padding-left: 0.2em;position: relative;}#sk-container-id-1 div.sk-item {position: relative;z-index: 1;}#sk-container-id-1 div.sk-parallel {display: flex;align-items: stretch;justify-content: center;background-color: white;position: relative;}#sk-container-id-1 div.sk-item::before, #sk-container-id-1 div.sk-parallel-item::before {content: \"\";position: absolute;border-left: 1px solid gray;box-sizing: border-box;top: 0;bottom: 0;left: 50%;z-index: -1;}#sk-container-id-1 div.sk-parallel-item {display: flex;flex-direction: column;z-index: 1;position: relative;background-color: white;}#sk-container-id-1 div.sk-parallel-item:first-child::after {align-self: flex-end;width: 50%;}#sk-container-id-1 div.sk-parallel-item:last-child::after {align-self: flex-start;width: 50%;}#sk-container-id-1 div.sk-parallel-item:only-child::after {width: 0;}#sk-container-id-1 div.sk-dashed-wrapped {border: 1px dashed gray;margin: 0 0.4em 0.5em 0.4em;box-sizing: border-box;padding-bottom: 0.4em;background-color: white;}#sk-container-id-1 div.sk-label label {font-family: monospace;font-weight: bold;display: inline-block;line-height: 1.2em;}#sk-container-id-1 div.sk-label-container {text-align: center;}#sk-container-id-1 div.sk-container {/* jupyter's `normalize.less` sets `[hidden] { display: none; }` but bootstrap.min.css set `[hidden] { display: none !important; }` so we also need the `!important` here to be able to override the default hidden behavior on the sphinx rendered scikit-learn.org. See: https://github.com/scikit-learn/scikit-learn/issues/21755 */display: inline-block !important;position: relative;}#sk-container-id-1 div.sk-text-repr-fallback {display: none;}</style><div id=\"sk-container-id-1\" class=\"sk-top-container\"><div class=\"sk-text-repr-fallback\"><pre>DecisionTreeRegressor()</pre><b>In a Jupyter environment, please rerun this cell to show the HTML representation or trust the notebook. <br />On GitHub, the HTML representation is unable to render, please try loading this page with nbviewer.org.</b></div><div class=\"sk-container\" hidden><div class=\"sk-item\"><div class=\"sk-estimator sk-toggleable\"><input class=\"sk-toggleable__control sk-hidden--visually\" id=\"sk-estimator-id-1\" type=\"checkbox\" checked><label for=\"sk-estimator-id-1\" class=\"sk-toggleable__label sk-toggleable__label-arrow\">DecisionTreeRegressor</label><div class=\"sk-toggleable__content\"><pre>DecisionTreeRegressor()</pre></div></div></div></div></div>"
      ],
      "text/plain": [
       "DecisionTreeRegressor()"
      ]
     },
     "execution_count": 110,
     "metadata": {},
     "output_type": "execute_result"
    }
   ],
   "source": [
    "from sklearn.tree import DecisionTreeRegressor\n",
    "\n",
    "#fitting decision tree model\n",
    "dt_model=DecisionTreeRegressor()\n",
    "dt_model.fit(X_train_df,y_train)"
   ]
  },
  {
   "cell_type": "code",
   "execution_count": 111,
   "id": "b0043951",
   "metadata": {},
   "outputs": [],
   "source": [
    "#to measure the this regression model's rmse\n",
    "dt_pred=dt_model.predict(X_eval_df)\n",
    "dt_mse=mean_squared_error(y_eval,dt_pred)\n",
    "dt_rmse= np.sqrt(dt_mse)\n",
    "dt_MAE=mean_absolute_error(y_eval,dt_pred)\n",
    "dt_rmsle = np.sqrt(mean_squared_log_error(y_eval,dt_pred))"
   ]
  },
  {
   "cell_type": "code",
   "execution_count": 112,
   "id": "6b81fabe",
   "metadata": {
    "scrolled": true
   },
   "outputs": [
    {
     "data": {
      "text/html": [
       "<div>\n",
       "<style scoped>\n",
       "    .dataframe tbody tr th:only-of-type {\n",
       "        vertical-align: middle;\n",
       "    }\n",
       "\n",
       "    .dataframe tbody tr th {\n",
       "        vertical-align: top;\n",
       "    }\n",
       "\n",
       "    .dataframe thead th {\n",
       "        text-align: right;\n",
       "    }\n",
       "</style>\n",
       "<table border=\"1\" class=\"dataframe\">\n",
       "  <thead>\n",
       "    <tr style=\"text-align: right;\">\n",
       "      <th></th>\n",
       "      <th>Model</th>\n",
       "      <th>MSE</th>\n",
       "      <th>RMSE</th>\n",
       "      <th>MAE</th>\n",
       "      <th>RMSLE</th>\n",
       "    </tr>\n",
       "  </thead>\n",
       "  <tbody>\n",
       "    <tr>\n",
       "      <th>0</th>\n",
       "      <td>Decision Tree</td>\n",
       "      <td>1.406736e+06</td>\n",
       "      <td>1186.059102</td>\n",
       "      <td>384.641393</td>\n",
       "      <td>1.886444</td>\n",
       "    </tr>\n",
       "  </tbody>\n",
       "</table>\n",
       "</div>"
      ],
      "text/plain": [
       "           Model           MSE         RMSE         MAE     RMSLE\n",
       "0  Decision Tree  1.406736e+06  1186.059102  384.641393  1.886444"
      ]
     },
     "execution_count": 112,
     "metadata": {},
     "output_type": "execute_result"
    }
   ],
   "source": [
    "results=pd.DataFrame([['Decision Tree', dt_mse,dt_rmse,dt_MAE,dt_rmsle]],\n",
    "                     columns = ['Model', 'MSE','RMSE','MAE','RMSLE'])\n",
    "results"
   ]
  },
  {
   "cell_type": "markdown",
   "id": "63b3afe5",
   "metadata": {},
   "source": [
    "# Cleaning Test Data"
   ]
  },
  {
   "cell_type": "code",
   "execution_count": 113,
   "id": "4185e18b",
   "metadata": {},
   "outputs": [
    {
     "name": "stderr",
     "output_type": "stream",
     "text": [
      "C:\\Users\\merchandisers\\AppData\\Local\\Temp\\ipykernel_1356\\296515545.py:1: UserWarning: Parsing dates in %d/%m/%Y format when dayfirst=False (the default) was specified. Pass `dayfirst=True` or specify a format to silence this warning.\n",
      "  test_df['date'] = pd.to_datetime(test_df['date'])\n"
     ]
    }
   ],
   "source": [
    "test_df['date'] = pd.to_datetime(test_df['date'])"
   ]
  },
  {
   "cell_type": "code",
   "execution_count": 114,
   "id": "beed2dfb",
   "metadata": {},
   "outputs": [
    {
     "data": {
      "text/html": [
       "<div>\n",
       "<style scoped>\n",
       "    .dataframe tbody tr th:only-of-type {\n",
       "        vertical-align: middle;\n",
       "    }\n",
       "\n",
       "    .dataframe tbody tr th {\n",
       "        vertical-align: top;\n",
       "    }\n",
       "\n",
       "    .dataframe thead th {\n",
       "        text-align: right;\n",
       "    }\n",
       "</style>\n",
       "<table border=\"1\" class=\"dataframe\">\n",
       "  <thead>\n",
       "    <tr style=\"text-align: right;\">\n",
       "      <th></th>\n",
       "      <th>id</th>\n",
       "      <th>date</th>\n",
       "      <th>store_nbr</th>\n",
       "      <th>family</th>\n",
       "      <th>onpromotion</th>\n",
       "      <th>Unnamed: 5</th>\n",
       "      <th>Unnamed: 6</th>\n",
       "      <th>Unnamed: 7</th>\n",
       "      <th>Unnamed: 8</th>\n",
       "      <th>Unnamed: 9</th>\n",
       "      <th>Unnamed: 10</th>\n",
       "      <th>Unnamed: 11</th>\n",
       "      <th>type</th>\n",
       "      <th>locale</th>\n",
       "      <th>locale_name</th>\n",
       "      <th>description</th>\n",
       "      <th>transferred</th>\n",
       "    </tr>\n",
       "  </thead>\n",
       "  <tbody>\n",
       "    <tr>\n",
       "      <th>0</th>\n",
       "      <td>3000888</td>\n",
       "      <td>2017-08-16</td>\n",
       "      <td>1</td>\n",
       "      <td>AUTOMOTIVE</td>\n",
       "      <td>0</td>\n",
       "      <td>NaN</td>\n",
       "      <td>NaN</td>\n",
       "      <td>NaN</td>\n",
       "      <td>NaN</td>\n",
       "      <td>NaN</td>\n",
       "      <td>NaN</td>\n",
       "      <td>NaN</td>\n",
       "      <td>NaN</td>\n",
       "      <td>NaN</td>\n",
       "      <td>NaN</td>\n",
       "      <td>NaN</td>\n",
       "      <td>NaN</td>\n",
       "    </tr>\n",
       "    <tr>\n",
       "      <th>1</th>\n",
       "      <td>3000889</td>\n",
       "      <td>2017-08-16</td>\n",
       "      <td>1</td>\n",
       "      <td>BABY CARE</td>\n",
       "      <td>0</td>\n",
       "      <td>NaN</td>\n",
       "      <td>NaN</td>\n",
       "      <td>NaN</td>\n",
       "      <td>NaN</td>\n",
       "      <td>NaN</td>\n",
       "      <td>NaN</td>\n",
       "      <td>NaN</td>\n",
       "      <td>NaN</td>\n",
       "      <td>NaN</td>\n",
       "      <td>NaN</td>\n",
       "      <td>NaN</td>\n",
       "      <td>NaN</td>\n",
       "    </tr>\n",
       "    <tr>\n",
       "      <th>2</th>\n",
       "      <td>3000890</td>\n",
       "      <td>2017-08-16</td>\n",
       "      <td>1</td>\n",
       "      <td>BEAUTY</td>\n",
       "      <td>2</td>\n",
       "      <td>NaN</td>\n",
       "      <td>NaN</td>\n",
       "      <td>NaN</td>\n",
       "      <td>NaN</td>\n",
       "      <td>NaN</td>\n",
       "      <td>NaN</td>\n",
       "      <td>NaN</td>\n",
       "      <td>NaN</td>\n",
       "      <td>NaN</td>\n",
       "      <td>NaN</td>\n",
       "      <td>NaN</td>\n",
       "      <td>NaN</td>\n",
       "    </tr>\n",
       "    <tr>\n",
       "      <th>3</th>\n",
       "      <td>3000891</td>\n",
       "      <td>2017-08-16</td>\n",
       "      <td>1</td>\n",
       "      <td>BEVERAGES</td>\n",
       "      <td>20</td>\n",
       "      <td>NaN</td>\n",
       "      <td>NaN</td>\n",
       "      <td>NaN</td>\n",
       "      <td>NaN</td>\n",
       "      <td>NaN</td>\n",
       "      <td>NaN</td>\n",
       "      <td>NaN</td>\n",
       "      <td>NaN</td>\n",
       "      <td>NaN</td>\n",
       "      <td>NaN</td>\n",
       "      <td>NaN</td>\n",
       "      <td>NaN</td>\n",
       "    </tr>\n",
       "    <tr>\n",
       "      <th>4</th>\n",
       "      <td>3000892</td>\n",
       "      <td>2017-08-16</td>\n",
       "      <td>1</td>\n",
       "      <td>BOOKS</td>\n",
       "      <td>0</td>\n",
       "      <td>NaN</td>\n",
       "      <td>NaN</td>\n",
       "      <td>NaN</td>\n",
       "      <td>NaN</td>\n",
       "      <td>NaN</td>\n",
       "      <td>NaN</td>\n",
       "      <td>NaN</td>\n",
       "      <td>NaN</td>\n",
       "      <td>NaN</td>\n",
       "      <td>NaN</td>\n",
       "      <td>NaN</td>\n",
       "      <td>NaN</td>\n",
       "    </tr>\n",
       "  </tbody>\n",
       "</table>\n",
       "</div>"
      ],
      "text/plain": [
       "        id       date  store_nbr      family  onpromotion  Unnamed: 5  \\\n",
       "0  3000888 2017-08-16          1  AUTOMOTIVE            0         NaN   \n",
       "1  3000889 2017-08-16          1   BABY CARE            0         NaN   \n",
       "2  3000890 2017-08-16          1      BEAUTY            2         NaN   \n",
       "3  3000891 2017-08-16          1   BEVERAGES           20         NaN   \n",
       "4  3000892 2017-08-16          1       BOOKS            0         NaN   \n",
       "\n",
       "   Unnamed: 6  Unnamed: 7  Unnamed: 8  Unnamed: 9  Unnamed: 10  Unnamed: 11  \\\n",
       "0         NaN         NaN         NaN         NaN          NaN          NaN   \n",
       "1         NaN         NaN         NaN         NaN          NaN          NaN   \n",
       "2         NaN         NaN         NaN         NaN          NaN          NaN   \n",
       "3         NaN         NaN         NaN         NaN          NaN          NaN   \n",
       "4         NaN         NaN         NaN         NaN          NaN          NaN   \n",
       "\n",
       "  type locale locale_name description transferred  \n",
       "0  NaN    NaN         NaN         NaN         NaN  \n",
       "1  NaN    NaN         NaN         NaN         NaN  \n",
       "2  NaN    NaN         NaN         NaN         NaN  \n",
       "3  NaN    NaN         NaN         NaN         NaN  \n",
       "4  NaN    NaN         NaN         NaN         NaN  "
      ]
     },
     "execution_count": 114,
     "metadata": {},
     "output_type": "execute_result"
    }
   ],
   "source": [
    "test_events_df=pd.merge(test_df,events_df,on='date',how='left')\n",
    "test_events_df.head()"
   ]
  },
  {
   "cell_type": "code",
   "execution_count": 115,
   "id": "74497275",
   "metadata": {},
   "outputs": [
    {
     "data": {
      "text/html": [
       "<div>\n",
       "<style scoped>\n",
       "    .dataframe tbody tr th:only-of-type {\n",
       "        vertical-align: middle;\n",
       "    }\n",
       "\n",
       "    .dataframe tbody tr th {\n",
       "        vertical-align: top;\n",
       "    }\n",
       "\n",
       "    .dataframe thead th {\n",
       "        text-align: right;\n",
       "    }\n",
       "</style>\n",
       "<table border=\"1\" class=\"dataframe\">\n",
       "  <thead>\n",
       "    <tr style=\"text-align: right;\">\n",
       "      <th></th>\n",
       "      <th>id</th>\n",
       "      <th>date</th>\n",
       "      <th>store_nbr</th>\n",
       "      <th>family</th>\n",
       "      <th>onpromotion</th>\n",
       "      <th>Unnamed: 5</th>\n",
       "      <th>Unnamed: 6</th>\n",
       "      <th>Unnamed: 7</th>\n",
       "      <th>Unnamed: 8</th>\n",
       "      <th>Unnamed: 9</th>\n",
       "      <th>Unnamed: 10</th>\n",
       "      <th>Unnamed: 11</th>\n",
       "      <th>type</th>\n",
       "      <th>locale</th>\n",
       "      <th>locale_name</th>\n",
       "      <th>description</th>\n",
       "      <th>transferred</th>\n",
       "      <th>dcoilwtico</th>\n",
       "    </tr>\n",
       "  </thead>\n",
       "  <tbody>\n",
       "    <tr>\n",
       "      <th>0</th>\n",
       "      <td>3000888</td>\n",
       "      <td>2017-08-16</td>\n",
       "      <td>1</td>\n",
       "      <td>AUTOMOTIVE</td>\n",
       "      <td>0</td>\n",
       "      <td>NaN</td>\n",
       "      <td>NaN</td>\n",
       "      <td>NaN</td>\n",
       "      <td>NaN</td>\n",
       "      <td>NaN</td>\n",
       "      <td>NaN</td>\n",
       "      <td>NaN</td>\n",
       "      <td>NaN</td>\n",
       "      <td>NaN</td>\n",
       "      <td>NaN</td>\n",
       "      <td>NaN</td>\n",
       "      <td>NaN</td>\n",
       "      <td>46.799999</td>\n",
       "    </tr>\n",
       "    <tr>\n",
       "      <th>1</th>\n",
       "      <td>3000889</td>\n",
       "      <td>2017-08-16</td>\n",
       "      <td>1</td>\n",
       "      <td>BABY CARE</td>\n",
       "      <td>0</td>\n",
       "      <td>NaN</td>\n",
       "      <td>NaN</td>\n",
       "      <td>NaN</td>\n",
       "      <td>NaN</td>\n",
       "      <td>NaN</td>\n",
       "      <td>NaN</td>\n",
       "      <td>NaN</td>\n",
       "      <td>NaN</td>\n",
       "      <td>NaN</td>\n",
       "      <td>NaN</td>\n",
       "      <td>NaN</td>\n",
       "      <td>NaN</td>\n",
       "      <td>46.799999</td>\n",
       "    </tr>\n",
       "    <tr>\n",
       "      <th>2</th>\n",
       "      <td>3000890</td>\n",
       "      <td>2017-08-16</td>\n",
       "      <td>1</td>\n",
       "      <td>BEAUTY</td>\n",
       "      <td>2</td>\n",
       "      <td>NaN</td>\n",
       "      <td>NaN</td>\n",
       "      <td>NaN</td>\n",
       "      <td>NaN</td>\n",
       "      <td>NaN</td>\n",
       "      <td>NaN</td>\n",
       "      <td>NaN</td>\n",
       "      <td>NaN</td>\n",
       "      <td>NaN</td>\n",
       "      <td>NaN</td>\n",
       "      <td>NaN</td>\n",
       "      <td>NaN</td>\n",
       "      <td>46.799999</td>\n",
       "    </tr>\n",
       "    <tr>\n",
       "      <th>3</th>\n",
       "      <td>3000891</td>\n",
       "      <td>2017-08-16</td>\n",
       "      <td>1</td>\n",
       "      <td>BEVERAGES</td>\n",
       "      <td>20</td>\n",
       "      <td>NaN</td>\n",
       "      <td>NaN</td>\n",
       "      <td>NaN</td>\n",
       "      <td>NaN</td>\n",
       "      <td>NaN</td>\n",
       "      <td>NaN</td>\n",
       "      <td>NaN</td>\n",
       "      <td>NaN</td>\n",
       "      <td>NaN</td>\n",
       "      <td>NaN</td>\n",
       "      <td>NaN</td>\n",
       "      <td>NaN</td>\n",
       "      <td>46.799999</td>\n",
       "    </tr>\n",
       "    <tr>\n",
       "      <th>4</th>\n",
       "      <td>3000892</td>\n",
       "      <td>2017-08-16</td>\n",
       "      <td>1</td>\n",
       "      <td>BOOKS</td>\n",
       "      <td>0</td>\n",
       "      <td>NaN</td>\n",
       "      <td>NaN</td>\n",
       "      <td>NaN</td>\n",
       "      <td>NaN</td>\n",
       "      <td>NaN</td>\n",
       "      <td>NaN</td>\n",
       "      <td>NaN</td>\n",
       "      <td>NaN</td>\n",
       "      <td>NaN</td>\n",
       "      <td>NaN</td>\n",
       "      <td>NaN</td>\n",
       "      <td>NaN</td>\n",
       "      <td>46.799999</td>\n",
       "    </tr>\n",
       "  </tbody>\n",
       "</table>\n",
       "</div>"
      ],
      "text/plain": [
       "        id       date  store_nbr      family  onpromotion  Unnamed: 5  \\\n",
       "0  3000888 2017-08-16          1  AUTOMOTIVE            0         NaN   \n",
       "1  3000889 2017-08-16          1   BABY CARE            0         NaN   \n",
       "2  3000890 2017-08-16          1      BEAUTY            2         NaN   \n",
       "3  3000891 2017-08-16          1   BEVERAGES           20         NaN   \n",
       "4  3000892 2017-08-16          1       BOOKS            0         NaN   \n",
       "\n",
       "   Unnamed: 6  Unnamed: 7  Unnamed: 8  Unnamed: 9  Unnamed: 10  Unnamed: 11  \\\n",
       "0         NaN         NaN         NaN         NaN          NaN          NaN   \n",
       "1         NaN         NaN         NaN         NaN          NaN          NaN   \n",
       "2         NaN         NaN         NaN         NaN          NaN          NaN   \n",
       "3         NaN         NaN         NaN         NaN          NaN          NaN   \n",
       "4         NaN         NaN         NaN         NaN          NaN          NaN   \n",
       "\n",
       "  type locale locale_name description transferred  dcoilwtico  \n",
       "0  NaN    NaN         NaN         NaN         NaN   46.799999  \n",
       "1  NaN    NaN         NaN         NaN         NaN   46.799999  \n",
       "2  NaN    NaN         NaN         NaN         NaN   46.799999  \n",
       "3  NaN    NaN         NaN         NaN         NaN   46.799999  \n",
       "4  NaN    NaN         NaN         NaN         NaN   46.799999  "
      ]
     },
     "execution_count": 115,
     "metadata": {},
     "output_type": "execute_result"
    }
   ],
   "source": [
    "oil_test_events=pd.merge(test_events_df,oil_data,on ='date',how= 'left')\n",
    "oil_test_events.head()"
   ]
  },
  {
   "cell_type": "code",
   "execution_count": 116,
   "id": "76a6dc52",
   "metadata": {},
   "outputs": [
    {
     "data": {
      "text/html": [
       "<div>\n",
       "<style scoped>\n",
       "    .dataframe tbody tr th:only-of-type {\n",
       "        vertical-align: middle;\n",
       "    }\n",
       "\n",
       "    .dataframe tbody tr th {\n",
       "        vertical-align: top;\n",
       "    }\n",
       "\n",
       "    .dataframe thead th {\n",
       "        text-align: right;\n",
       "    }\n",
       "</style>\n",
       "<table border=\"1\" class=\"dataframe\">\n",
       "  <thead>\n",
       "    <tr style=\"text-align: right;\">\n",
       "      <th></th>\n",
       "      <th>id</th>\n",
       "      <th>date</th>\n",
       "      <th>store_nbr</th>\n",
       "      <th>family</th>\n",
       "      <th>onpromotion</th>\n",
       "      <th>Unnamed: 5</th>\n",
       "      <th>Unnamed: 6</th>\n",
       "      <th>Unnamed: 7</th>\n",
       "      <th>Unnamed: 8</th>\n",
       "      <th>Unnamed: 9</th>\n",
       "      <th>...</th>\n",
       "      <th>type_x</th>\n",
       "      <th>locale</th>\n",
       "      <th>locale_name</th>\n",
       "      <th>description</th>\n",
       "      <th>transferred</th>\n",
       "      <th>dcoilwtico</th>\n",
       "      <th>city</th>\n",
       "      <th>state</th>\n",
       "      <th>type_y</th>\n",
       "      <th>cluster</th>\n",
       "    </tr>\n",
       "  </thead>\n",
       "  <tbody>\n",
       "    <tr>\n",
       "      <th>0</th>\n",
       "      <td>3000888</td>\n",
       "      <td>2017-08-16</td>\n",
       "      <td>1</td>\n",
       "      <td>AUTOMOTIVE</td>\n",
       "      <td>0</td>\n",
       "      <td>NaN</td>\n",
       "      <td>NaN</td>\n",
       "      <td>NaN</td>\n",
       "      <td>NaN</td>\n",
       "      <td>NaN</td>\n",
       "      <td>...</td>\n",
       "      <td>NaN</td>\n",
       "      <td>NaN</td>\n",
       "      <td>NaN</td>\n",
       "      <td>NaN</td>\n",
       "      <td>NaN</td>\n",
       "      <td>46.799999</td>\n",
       "      <td>Quito</td>\n",
       "      <td>Pichincha</td>\n",
       "      <td>D</td>\n",
       "      <td>13</td>\n",
       "    </tr>\n",
       "    <tr>\n",
       "      <th>1</th>\n",
       "      <td>3000889</td>\n",
       "      <td>2017-08-16</td>\n",
       "      <td>1</td>\n",
       "      <td>BABY CARE</td>\n",
       "      <td>0</td>\n",
       "      <td>NaN</td>\n",
       "      <td>NaN</td>\n",
       "      <td>NaN</td>\n",
       "      <td>NaN</td>\n",
       "      <td>NaN</td>\n",
       "      <td>...</td>\n",
       "      <td>NaN</td>\n",
       "      <td>NaN</td>\n",
       "      <td>NaN</td>\n",
       "      <td>NaN</td>\n",
       "      <td>NaN</td>\n",
       "      <td>46.799999</td>\n",
       "      <td>Quito</td>\n",
       "      <td>Pichincha</td>\n",
       "      <td>D</td>\n",
       "      <td>13</td>\n",
       "    </tr>\n",
       "    <tr>\n",
       "      <th>2</th>\n",
       "      <td>3000890</td>\n",
       "      <td>2017-08-16</td>\n",
       "      <td>1</td>\n",
       "      <td>BEAUTY</td>\n",
       "      <td>2</td>\n",
       "      <td>NaN</td>\n",
       "      <td>NaN</td>\n",
       "      <td>NaN</td>\n",
       "      <td>NaN</td>\n",
       "      <td>NaN</td>\n",
       "      <td>...</td>\n",
       "      <td>NaN</td>\n",
       "      <td>NaN</td>\n",
       "      <td>NaN</td>\n",
       "      <td>NaN</td>\n",
       "      <td>NaN</td>\n",
       "      <td>46.799999</td>\n",
       "      <td>Quito</td>\n",
       "      <td>Pichincha</td>\n",
       "      <td>D</td>\n",
       "      <td>13</td>\n",
       "    </tr>\n",
       "    <tr>\n",
       "      <th>3</th>\n",
       "      <td>3000891</td>\n",
       "      <td>2017-08-16</td>\n",
       "      <td>1</td>\n",
       "      <td>BEVERAGES</td>\n",
       "      <td>20</td>\n",
       "      <td>NaN</td>\n",
       "      <td>NaN</td>\n",
       "      <td>NaN</td>\n",
       "      <td>NaN</td>\n",
       "      <td>NaN</td>\n",
       "      <td>...</td>\n",
       "      <td>NaN</td>\n",
       "      <td>NaN</td>\n",
       "      <td>NaN</td>\n",
       "      <td>NaN</td>\n",
       "      <td>NaN</td>\n",
       "      <td>46.799999</td>\n",
       "      <td>Quito</td>\n",
       "      <td>Pichincha</td>\n",
       "      <td>D</td>\n",
       "      <td>13</td>\n",
       "    </tr>\n",
       "    <tr>\n",
       "      <th>4</th>\n",
       "      <td>3000892</td>\n",
       "      <td>2017-08-16</td>\n",
       "      <td>1</td>\n",
       "      <td>BOOKS</td>\n",
       "      <td>0</td>\n",
       "      <td>NaN</td>\n",
       "      <td>NaN</td>\n",
       "      <td>NaN</td>\n",
       "      <td>NaN</td>\n",
       "      <td>NaN</td>\n",
       "      <td>...</td>\n",
       "      <td>NaN</td>\n",
       "      <td>NaN</td>\n",
       "      <td>NaN</td>\n",
       "      <td>NaN</td>\n",
       "      <td>NaN</td>\n",
       "      <td>46.799999</td>\n",
       "      <td>Quito</td>\n",
       "      <td>Pichincha</td>\n",
       "      <td>D</td>\n",
       "      <td>13</td>\n",
       "    </tr>\n",
       "  </tbody>\n",
       "</table>\n",
       "<p>5 rows × 22 columns</p>\n",
       "</div>"
      ],
      "text/plain": [
       "        id       date  store_nbr      family  onpromotion  Unnamed: 5  \\\n",
       "0  3000888 2017-08-16          1  AUTOMOTIVE            0         NaN   \n",
       "1  3000889 2017-08-16          1   BABY CARE            0         NaN   \n",
       "2  3000890 2017-08-16          1      BEAUTY            2         NaN   \n",
       "3  3000891 2017-08-16          1   BEVERAGES           20         NaN   \n",
       "4  3000892 2017-08-16          1       BOOKS            0         NaN   \n",
       "\n",
       "   Unnamed: 6  Unnamed: 7  Unnamed: 8  Unnamed: 9  ...  type_x  locale  \\\n",
       "0         NaN         NaN         NaN         NaN  ...     NaN     NaN   \n",
       "1         NaN         NaN         NaN         NaN  ...     NaN     NaN   \n",
       "2         NaN         NaN         NaN         NaN  ...     NaN     NaN   \n",
       "3         NaN         NaN         NaN         NaN  ...     NaN     NaN   \n",
       "4         NaN         NaN         NaN         NaN  ...     NaN     NaN   \n",
       "\n",
       "  locale_name description transferred dcoilwtico   city      state type_y  \\\n",
       "0         NaN         NaN         NaN  46.799999  Quito  Pichincha      D   \n",
       "1         NaN         NaN         NaN  46.799999  Quito  Pichincha      D   \n",
       "2         NaN         NaN         NaN  46.799999  Quito  Pichincha      D   \n",
       "3         NaN         NaN         NaN  46.799999  Quito  Pichincha      D   \n",
       "4         NaN         NaN         NaN  46.799999  Quito  Pichincha      D   \n",
       "\n",
       "  cluster  \n",
       "0      13  \n",
       "1      13  \n",
       "2      13  \n",
       "3      13  \n",
       "4      13  \n",
       "\n",
       "[5 rows x 22 columns]"
      ]
     },
     "execution_count": 116,
     "metadata": {},
     "output_type": "execute_result"
    }
   ],
   "source": [
    "merged_test=pd.merge(oil_test_events,store_df,on ='store_nbr',how= 'left')\n",
    "merged_test.head()"
   ]
  },
  {
   "cell_type": "code",
   "execution_count": 117,
   "id": "fec27b7e",
   "metadata": {},
   "outputs": [],
   "source": [
    "merged_test=merged_test.drop(['id','locale','locale_name','description','transferred','city','type_x'],axis=1)"
   ]
  },
  {
   "cell_type": "code",
   "execution_count": 118,
   "id": "8eb88975",
   "metadata": {},
   "outputs": [],
   "source": [
    "merged_test.rename(columns={'type_y':'store_type','family':'products'},inplace =True)"
   ]
  },
  {
   "cell_type": "code",
   "execution_count": 119,
   "id": "25161e7c",
   "metadata": {},
   "outputs": [],
   "source": [
    "merged_test=merged_test.set_index(['date'])"
   ]
  },
  {
   "cell_type": "code",
   "execution_count": 120,
   "id": "58caf66e",
   "metadata": {},
   "outputs": [],
   "source": [
    "merged_test['year'] = merged_test.index.year\n",
    "merged_test['month'] =merged_test.index.month\n",
    "merged_test['day']=merged_test.index.day\n",
    "merged_test['dayofweek']=merged_test.index.weekday\n",
    "merged_test['end_month']=merged_test.index.is_month_end"
   ]
  },
  {
   "cell_type": "code",
   "execution_count": 121,
   "id": "796ddc7b",
   "metadata": {},
   "outputs": [],
   "source": [
    "# categorizing the products\n",
    "food_families = ['BEVERAGES', 'BREAD/BAKERY', 'FROZEN FOODS', 'MEATS', 'PREPARED FOODS', 'DELI','PRODUCE', 'DAIRY','POULTRY','EGGS','SEAFOOD']\n",
    "merged_test['products'] = np.where(merged_test['products'].isin(food_families), 'FOODS', merged_test['products'])\n",
    "home_families = ['HOME AND KITCHEN I', 'HOME AND KITCHEN II', 'HOME APPLIANCES']\n",
    "merged_test['products'] = np.where(merged_test['products'].isin(home_families), 'HOME', merged_test['products'])\n",
    "clothing_families = ['LINGERIE', 'LADYSWARE']\n",
    "merged_test['products'] = np.where(merged_test['products'].isin(clothing_families), 'CLOTHING', merged_test['products'])\n",
    "grocery_families = ['GROCERY I', 'GROCERY II']\n",
    "merged_test['products'] = np.where(merged_test['products'].isin(grocery_families), 'GROCERY', merged_test['products'])\n",
    "stationery_families = ['BOOKS', 'MAGAZINES','SCHOOL AND OFFICE SUPPLIES']\n",
    "merged_test['products'] = np.where(merged_test['products'].isin(stationery_families), 'STATIONERY', merged_test['products'])\n",
    "cleaning_families = ['HOME CARE', 'BABY CARE','PERSONAL CARE']\n",
    "merged_test['products'] = np.where(merged_test['products'].isin(cleaning_families), 'CLEANING', merged_test['products'])\n",
    "hardware_families = ['PLAYERS AND ELECTRONICS','HARDWARE']\n",
    "merged_test['products'] = np.where(merged_test['products'].isin(hardware_families), 'HARDWARE', merged_test['products'])\n",
    "others_families = ['AUTOMOTIVE', 'BEAUTY','CELEBRATION', 'LADIESWEAR', 'LAWN AND GARDEN', 'LIQUOR,WINE,BEER',  'PET SUPPLIES']\n",
    "merged_test['products'] = np.where(merged_test['products'].isin(others_families), 'OTHERS', merged_test['products'])"
   ]
  },
  {
   "cell_type": "code",
   "execution_count": 122,
   "id": "828b9655",
   "metadata": {},
   "outputs": [],
   "source": [
    "merged_test.reset_index(inplace=True)"
   ]
  },
  {
   "cell_type": "code",
   "execution_count": 123,
   "id": "a531b018",
   "metadata": {},
   "outputs": [
    {
     "data": {
      "text/plain": [
       "(28512, 20)"
      ]
     },
     "execution_count": 123,
     "metadata": {},
     "output_type": "execute_result"
    }
   ],
   "source": [
    "merged_test.shape"
   ]
  },
  {
   "cell_type": "code",
   "execution_count": 124,
   "id": "711b08c3",
   "metadata": {},
   "outputs": [
    {
     "data": {
      "text/html": [
       "<div>\n",
       "<style scoped>\n",
       "    .dataframe tbody tr th:only-of-type {\n",
       "        vertical-align: middle;\n",
       "    }\n",
       "\n",
       "    .dataframe tbody tr th {\n",
       "        vertical-align: top;\n",
       "    }\n",
       "\n",
       "    .dataframe thead th {\n",
       "        text-align: right;\n",
       "    }\n",
       "</style>\n",
       "<table border=\"1\" class=\"dataframe\">\n",
       "  <thead>\n",
       "    <tr style=\"text-align: right;\">\n",
       "      <th></th>\n",
       "      <th>date</th>\n",
       "      <th>store_nbr</th>\n",
       "      <th>products</th>\n",
       "      <th>onpromotion</th>\n",
       "      <th>Unnamed: 5</th>\n",
       "      <th>Unnamed: 6</th>\n",
       "      <th>Unnamed: 7</th>\n",
       "      <th>Unnamed: 8</th>\n",
       "      <th>Unnamed: 9</th>\n",
       "      <th>Unnamed: 10</th>\n",
       "      <th>Unnamed: 11</th>\n",
       "      <th>dcoilwtico</th>\n",
       "      <th>state</th>\n",
       "      <th>store_type</th>\n",
       "      <th>cluster</th>\n",
       "      <th>year</th>\n",
       "      <th>month</th>\n",
       "      <th>day</th>\n",
       "      <th>dayofweek</th>\n",
       "      <th>end_month</th>\n",
       "    </tr>\n",
       "  </thead>\n",
       "  <tbody>\n",
       "    <tr>\n",
       "      <th>0</th>\n",
       "      <td>2017-08-16</td>\n",
       "      <td>1</td>\n",
       "      <td>OTHERS</td>\n",
       "      <td>0</td>\n",
       "      <td>NaN</td>\n",
       "      <td>NaN</td>\n",
       "      <td>NaN</td>\n",
       "      <td>NaN</td>\n",
       "      <td>NaN</td>\n",
       "      <td>NaN</td>\n",
       "      <td>NaN</td>\n",
       "      <td>46.799999</td>\n",
       "      <td>Pichincha</td>\n",
       "      <td>D</td>\n",
       "      <td>13</td>\n",
       "      <td>2017</td>\n",
       "      <td>8</td>\n",
       "      <td>16</td>\n",
       "      <td>2</td>\n",
       "      <td>False</td>\n",
       "    </tr>\n",
       "    <tr>\n",
       "      <th>1</th>\n",
       "      <td>2017-08-16</td>\n",
       "      <td>1</td>\n",
       "      <td>CLEANING</td>\n",
       "      <td>0</td>\n",
       "      <td>NaN</td>\n",
       "      <td>NaN</td>\n",
       "      <td>NaN</td>\n",
       "      <td>NaN</td>\n",
       "      <td>NaN</td>\n",
       "      <td>NaN</td>\n",
       "      <td>NaN</td>\n",
       "      <td>46.799999</td>\n",
       "      <td>Pichincha</td>\n",
       "      <td>D</td>\n",
       "      <td>13</td>\n",
       "      <td>2017</td>\n",
       "      <td>8</td>\n",
       "      <td>16</td>\n",
       "      <td>2</td>\n",
       "      <td>False</td>\n",
       "    </tr>\n",
       "    <tr>\n",
       "      <th>2</th>\n",
       "      <td>2017-08-16</td>\n",
       "      <td>1</td>\n",
       "      <td>OTHERS</td>\n",
       "      <td>2</td>\n",
       "      <td>NaN</td>\n",
       "      <td>NaN</td>\n",
       "      <td>NaN</td>\n",
       "      <td>NaN</td>\n",
       "      <td>NaN</td>\n",
       "      <td>NaN</td>\n",
       "      <td>NaN</td>\n",
       "      <td>46.799999</td>\n",
       "      <td>Pichincha</td>\n",
       "      <td>D</td>\n",
       "      <td>13</td>\n",
       "      <td>2017</td>\n",
       "      <td>8</td>\n",
       "      <td>16</td>\n",
       "      <td>2</td>\n",
       "      <td>False</td>\n",
       "    </tr>\n",
       "    <tr>\n",
       "      <th>3</th>\n",
       "      <td>2017-08-16</td>\n",
       "      <td>1</td>\n",
       "      <td>FOODS</td>\n",
       "      <td>20</td>\n",
       "      <td>NaN</td>\n",
       "      <td>NaN</td>\n",
       "      <td>NaN</td>\n",
       "      <td>NaN</td>\n",
       "      <td>NaN</td>\n",
       "      <td>NaN</td>\n",
       "      <td>NaN</td>\n",
       "      <td>46.799999</td>\n",
       "      <td>Pichincha</td>\n",
       "      <td>D</td>\n",
       "      <td>13</td>\n",
       "      <td>2017</td>\n",
       "      <td>8</td>\n",
       "      <td>16</td>\n",
       "      <td>2</td>\n",
       "      <td>False</td>\n",
       "    </tr>\n",
       "    <tr>\n",
       "      <th>4</th>\n",
       "      <td>2017-08-16</td>\n",
       "      <td>1</td>\n",
       "      <td>STATIONERY</td>\n",
       "      <td>0</td>\n",
       "      <td>NaN</td>\n",
       "      <td>NaN</td>\n",
       "      <td>NaN</td>\n",
       "      <td>NaN</td>\n",
       "      <td>NaN</td>\n",
       "      <td>NaN</td>\n",
       "      <td>NaN</td>\n",
       "      <td>46.799999</td>\n",
       "      <td>Pichincha</td>\n",
       "      <td>D</td>\n",
       "      <td>13</td>\n",
       "      <td>2017</td>\n",
       "      <td>8</td>\n",
       "      <td>16</td>\n",
       "      <td>2</td>\n",
       "      <td>False</td>\n",
       "    </tr>\n",
       "  </tbody>\n",
       "</table>\n",
       "</div>"
      ],
      "text/plain": [
       "        date  store_nbr    products  onpromotion  Unnamed: 5  Unnamed: 6  \\\n",
       "0 2017-08-16          1      OTHERS            0         NaN         NaN   \n",
       "1 2017-08-16          1    CLEANING            0         NaN         NaN   \n",
       "2 2017-08-16          1      OTHERS            2         NaN         NaN   \n",
       "3 2017-08-16          1       FOODS           20         NaN         NaN   \n",
       "4 2017-08-16          1  STATIONERY            0         NaN         NaN   \n",
       "\n",
       "   Unnamed: 7  Unnamed: 8  Unnamed: 9  Unnamed: 10  Unnamed: 11  dcoilwtico  \\\n",
       "0         NaN         NaN         NaN          NaN          NaN   46.799999   \n",
       "1         NaN         NaN         NaN          NaN          NaN   46.799999   \n",
       "2         NaN         NaN         NaN          NaN          NaN   46.799999   \n",
       "3         NaN         NaN         NaN          NaN          NaN   46.799999   \n",
       "4         NaN         NaN         NaN          NaN          NaN   46.799999   \n",
       "\n",
       "       state store_type  cluster  year  month  day  dayofweek  end_month  \n",
       "0  Pichincha          D       13  2017      8   16          2      False  \n",
       "1  Pichincha          D       13  2017      8   16          2      False  \n",
       "2  Pichincha          D       13  2017      8   16          2      False  \n",
       "3  Pichincha          D       13  2017      8   16          2      False  \n",
       "4  Pichincha          D       13  2017      8   16          2      False  "
      ]
     },
     "execution_count": 124,
     "metadata": {},
     "output_type": "execute_result"
    }
   ],
   "source": [
    "merged_test.head()"
   ]
  },
  {
   "cell_type": "code",
   "execution_count": 125,
   "id": "fcedffdd",
   "metadata": {},
   "outputs": [
    {
     "data": {
      "text/plain": [
       "0            OTHERS\n",
       "1          CLEANING\n",
       "2            OTHERS\n",
       "3             FOODS\n",
       "4        STATIONERY\n",
       "            ...    \n",
       "28507         FOODS\n",
       "28508         FOODS\n",
       "28509         FOODS\n",
       "28510    STATIONERY\n",
       "28511         FOODS\n",
       "Name: products, Length: 28512, dtype: object"
      ]
     },
     "execution_count": 125,
     "metadata": {},
     "output_type": "execute_result"
    }
   ],
   "source": [
    "\n",
    "merged_test['products']"
   ]
  },
  {
   "cell_type": "code",
   "execution_count": 126,
   "id": "9cf8078e",
   "metadata": {},
   "outputs": [],
   "source": [
    "merged_test = merged_test.drop(\"date\", axis=1)"
   ]
  },
  {
   "cell_type": "markdown",
   "id": "dd1f855f",
   "metadata": {},
   "source": [
    "# Imputing missing values"
   ]
  },
  {
   "cell_type": "code",
   "execution_count": 127,
   "id": "870c6fd3",
   "metadata": {},
   "outputs": [],
   "source": [
    "X_test_cat = merged_test[categorical_columns].copy()\n",
    "X_test_num = merged_test[numerical_columns].copy()"
   ]
  },
  {
   "cell_type": "code",
   "execution_count": 128,
   "id": "58495b30",
   "metadata": {},
   "outputs": [
    {
     "data": {
      "text/plain": [
       "['products', 'end_month', 'store_type', 'state']"
      ]
     },
     "execution_count": 128,
     "metadata": {},
     "output_type": "execute_result"
    }
   ],
   "source": [
    "\n",
    "categorical_columns"
   ]
  },
  {
   "cell_type": "code",
   "execution_count": 129,
   "id": "cad026ec",
   "metadata": {},
   "outputs": [],
   "source": [
    "\n",
    "# fitting imputer\n",
    "X_test_cat_imputed = categorical_imputer.fit_transform(X_test_cat)\n",
    "X_test_num_imputed = numerical_imputer.fit_transform(X_test_num)"
   ]
  },
  {
   "cell_type": "markdown",
   "id": "a4d685a3",
   "metadata": {},
   "source": [
    "# Feature Encoding"
   ]
  },
  {
   "cell_type": "code",
   "execution_count": 130,
   "id": "886e101e",
   "metadata": {},
   "outputs": [],
   "source": [
    "# encoding the xtrain categories and converting to a dataframe\n",
    "X_test_cat_encoded = encoder.fit(X_test_cat_imputed)\n",
    "X_test_cat_encoded = pd.DataFrame(encoder.transform(X_test_cat_imputed).toarray(),\n",
    "                                   columns=encoder.get_feature_names_out(categorical_columns))"
   ]
  },
  {
   "cell_type": "markdown",
   "id": "a3823483",
   "metadata": {},
   "source": [
    "# Data scalling"
   ]
  },
  {
   "cell_type": "code",
   "execution_count": 131,
   "id": "a0d0bd96",
   "metadata": {},
   "outputs": [],
   "source": [
    "X_test_num_scaled = scaler.fit_transform(X_test_num_imputed)\n",
    "X_test_num_sc = pd.DataFrame(X_test_num_scaled, columns = numerical_columns)"
   ]
  },
  {
   "cell_type": "markdown",
   "id": "ea83f4ff",
   "metadata": {},
   "source": [
    "# Combining xtest cat and xtest num"
   ]
  },
  {
   "cell_type": "code",
   "execution_count": 132,
   "id": "95213175",
   "metadata": {},
   "outputs": [],
   "source": [
    "X_test_df = pd.concat([X_test_num_sc,X_test_cat_encoded], axis =1)"
   ]
  },
  {
   "cell_type": "code",
   "execution_count": 133,
   "id": "5ba0365e",
   "metadata": {},
   "outputs": [
    {
     "data": {
      "text/html": [
       "<div>\n",
       "<style scoped>\n",
       "    .dataframe tbody tr th:only-of-type {\n",
       "        vertical-align: middle;\n",
       "    }\n",
       "\n",
       "    .dataframe tbody tr th {\n",
       "        vertical-align: top;\n",
       "    }\n",
       "\n",
       "    .dataframe thead th {\n",
       "        text-align: right;\n",
       "    }\n",
       "</style>\n",
       "<table border=\"1\" class=\"dataframe\">\n",
       "  <thead>\n",
       "    <tr style=\"text-align: right;\">\n",
       "      <th></th>\n",
       "      <th>store_nbr</th>\n",
       "      <th>onpromotion</th>\n",
       "      <th>cluster</th>\n",
       "      <th>dcoilwtico</th>\n",
       "      <th>year</th>\n",
       "      <th>month</th>\n",
       "      <th>day</th>\n",
       "      <th>dayofweek</th>\n",
       "      <th>products_\"LIQUOR_WINE_BEER\"</th>\n",
       "      <th>products_CLEANING</th>\n",
       "      <th>...</th>\n",
       "      <th>state_Guayas</th>\n",
       "      <th>state_Imbabura</th>\n",
       "      <th>state_Loja</th>\n",
       "      <th>state_Los Rios</th>\n",
       "      <th>state_Manabi</th>\n",
       "      <th>state_Pastaza</th>\n",
       "      <th>state_Pichincha</th>\n",
       "      <th>state_Santa Elena</th>\n",
       "      <th>state_Santo Domingo de los Tsachilas</th>\n",
       "      <th>state_Tungurahua</th>\n",
       "    </tr>\n",
       "  </thead>\n",
       "  <tbody>\n",
       "    <tr>\n",
       "      <th>0</th>\n",
       "      <td>-1.700267</td>\n",
       "      <td>-0.336759</td>\n",
       "      <td>0.97178</td>\n",
       "      <td>-0.685362</td>\n",
       "      <td>0.0</td>\n",
       "      <td>0.0</td>\n",
       "      <td>-1.626978</td>\n",
       "      <td>-0.496972</td>\n",
       "      <td>0.0</td>\n",
       "      <td>0.0</td>\n",
       "      <td>...</td>\n",
       "      <td>0.0</td>\n",
       "      <td>0.0</td>\n",
       "      <td>0.0</td>\n",
       "      <td>0.0</td>\n",
       "      <td>0.0</td>\n",
       "      <td>0.0</td>\n",
       "      <td>1.0</td>\n",
       "      <td>0.0</td>\n",
       "      <td>0.0</td>\n",
       "      <td>0.0</td>\n",
       "    </tr>\n",
       "    <tr>\n",
       "      <th>1</th>\n",
       "      <td>-1.700267</td>\n",
       "      <td>-0.336759</td>\n",
       "      <td>0.97178</td>\n",
       "      <td>-0.685362</td>\n",
       "      <td>0.0</td>\n",
       "      <td>0.0</td>\n",
       "      <td>-1.626978</td>\n",
       "      <td>-0.496972</td>\n",
       "      <td>0.0</td>\n",
       "      <td>1.0</td>\n",
       "      <td>...</td>\n",
       "      <td>0.0</td>\n",
       "      <td>0.0</td>\n",
       "      <td>0.0</td>\n",
       "      <td>0.0</td>\n",
       "      <td>0.0</td>\n",
       "      <td>0.0</td>\n",
       "      <td>1.0</td>\n",
       "      <td>0.0</td>\n",
       "      <td>0.0</td>\n",
       "      <td>0.0</td>\n",
       "    </tr>\n",
       "    <tr>\n",
       "      <th>2</th>\n",
       "      <td>-1.700267</td>\n",
       "      <td>-0.240064</td>\n",
       "      <td>0.97178</td>\n",
       "      <td>-0.685362</td>\n",
       "      <td>0.0</td>\n",
       "      <td>0.0</td>\n",
       "      <td>-1.626978</td>\n",
       "      <td>-0.496972</td>\n",
       "      <td>0.0</td>\n",
       "      <td>0.0</td>\n",
       "      <td>...</td>\n",
       "      <td>0.0</td>\n",
       "      <td>0.0</td>\n",
       "      <td>0.0</td>\n",
       "      <td>0.0</td>\n",
       "      <td>0.0</td>\n",
       "      <td>0.0</td>\n",
       "      <td>1.0</td>\n",
       "      <td>0.0</td>\n",
       "      <td>0.0</td>\n",
       "      <td>0.0</td>\n",
       "    </tr>\n",
       "    <tr>\n",
       "      <th>3</th>\n",
       "      <td>-1.700267</td>\n",
       "      <td>0.630191</td>\n",
       "      <td>0.97178</td>\n",
       "      <td>-0.685362</td>\n",
       "      <td>0.0</td>\n",
       "      <td>0.0</td>\n",
       "      <td>-1.626978</td>\n",
       "      <td>-0.496972</td>\n",
       "      <td>0.0</td>\n",
       "      <td>0.0</td>\n",
       "      <td>...</td>\n",
       "      <td>0.0</td>\n",
       "      <td>0.0</td>\n",
       "      <td>0.0</td>\n",
       "      <td>0.0</td>\n",
       "      <td>0.0</td>\n",
       "      <td>0.0</td>\n",
       "      <td>1.0</td>\n",
       "      <td>0.0</td>\n",
       "      <td>0.0</td>\n",
       "      <td>0.0</td>\n",
       "    </tr>\n",
       "    <tr>\n",
       "      <th>4</th>\n",
       "      <td>-1.700267</td>\n",
       "      <td>-0.336759</td>\n",
       "      <td>0.97178</td>\n",
       "      <td>-0.685362</td>\n",
       "      <td>0.0</td>\n",
       "      <td>0.0</td>\n",
       "      <td>-1.626978</td>\n",
       "      <td>-0.496972</td>\n",
       "      <td>0.0</td>\n",
       "      <td>0.0</td>\n",
       "      <td>...</td>\n",
       "      <td>0.0</td>\n",
       "      <td>0.0</td>\n",
       "      <td>0.0</td>\n",
       "      <td>0.0</td>\n",
       "      <td>0.0</td>\n",
       "      <td>0.0</td>\n",
       "      <td>1.0</td>\n",
       "      <td>0.0</td>\n",
       "      <td>0.0</td>\n",
       "      <td>0.0</td>\n",
       "    </tr>\n",
       "  </tbody>\n",
       "</table>\n",
       "<p>5 rows × 40 columns</p>\n",
       "</div>"
      ],
      "text/plain": [
       "   store_nbr  onpromotion  cluster  dcoilwtico  year  month       day  \\\n",
       "0  -1.700267    -0.336759  0.97178   -0.685362   0.0    0.0 -1.626978   \n",
       "1  -1.700267    -0.336759  0.97178   -0.685362   0.0    0.0 -1.626978   \n",
       "2  -1.700267    -0.240064  0.97178   -0.685362   0.0    0.0 -1.626978   \n",
       "3  -1.700267     0.630191  0.97178   -0.685362   0.0    0.0 -1.626978   \n",
       "4  -1.700267    -0.336759  0.97178   -0.685362   0.0    0.0 -1.626978   \n",
       "\n",
       "   dayofweek  products_\"LIQUOR_WINE_BEER\"  products_CLEANING  ...  \\\n",
       "0  -0.496972                          0.0                0.0  ...   \n",
       "1  -0.496972                          0.0                1.0  ...   \n",
       "2  -0.496972                          0.0                0.0  ...   \n",
       "3  -0.496972                          0.0                0.0  ...   \n",
       "4  -0.496972                          0.0                0.0  ...   \n",
       "\n",
       "   state_Guayas  state_Imbabura  state_Loja  state_Los Rios  state_Manabi  \\\n",
       "0           0.0             0.0         0.0             0.0           0.0   \n",
       "1           0.0             0.0         0.0             0.0           0.0   \n",
       "2           0.0             0.0         0.0             0.0           0.0   \n",
       "3           0.0             0.0         0.0             0.0           0.0   \n",
       "4           0.0             0.0         0.0             0.0           0.0   \n",
       "\n",
       "   state_Pastaza  state_Pichincha  state_Santa Elena  \\\n",
       "0            0.0              1.0                0.0   \n",
       "1            0.0              1.0                0.0   \n",
       "2            0.0              1.0                0.0   \n",
       "3            0.0              1.0                0.0   \n",
       "4            0.0              1.0                0.0   \n",
       "\n",
       "   state_Santo Domingo de los Tsachilas  state_Tungurahua  \n",
       "0                                   0.0               0.0  \n",
       "1                                   0.0               0.0  \n",
       "2                                   0.0               0.0  \n",
       "3                                   0.0               0.0  \n",
       "4                                   0.0               0.0  \n",
       "\n",
       "[5 rows x 40 columns]"
      ]
     },
     "execution_count": 133,
     "metadata": {},
     "output_type": "execute_result"
    }
   ],
   "source": [
    "X_test_df.head()"
   ]
  },
  {
   "cell_type": "markdown",
   "id": "33dc5bd0",
   "metadata": {},
   "source": [
    "# Making predictions with unseen data"
   ]
  },
  {
   "cell_type": "code",
   "execution_count": 134,
   "id": "537f6f53",
   "metadata": {},
   "outputs": [],
   "source": [
    "dtree_predictions=dt_model.predict(X_test_df)"
   ]
  },
  {
   "cell_type": "code",
   "execution_count": 135,
   "id": "941bdf58",
   "metadata": {},
   "outputs": [],
   "source": [
    "X_test_df['sales'] = dtree_predictions"
   ]
  },
  {
   "cell_type": "code",
   "execution_count": 136,
   "id": "6e42190c",
   "metadata": {},
   "outputs": [],
   "source": [
    "X_test_df['sales'].to_csv('submission.csv', index=False)"
   ]
  },
  {
   "cell_type": "markdown",
   "id": "9a3cd8c5",
   "metadata": {},
   "source": [
    "# Exporting Key Components"
   ]
  },
  {
   "cell_type": "code",
   "execution_count": 137,
   "id": "5bf3f4e3",
   "metadata": {},
   "outputs": [],
   "source": [
    "import os\n",
    "\n",
    "if not os.path.exists(\"export\"):\n",
    "    os.makedirs(\"export\")"
   ]
  },
  {
   "cell_type": "code",
   "execution_count": 138,
   "id": "d33fee09",
   "metadata": {},
   "outputs": [],
   "source": [
    "# set the destination path to the \"export\" directory\n",
    "destination = os.path.join(\".\", \"export\")"
   ]
  },
  {
   "cell_type": "code",
   "execution_count": 139,
   "id": "71ffa82a",
   "metadata": {},
   "outputs": [],
   "source": [
    "components = {\n",
    "    \"num_imputer\":numerical_imputer,\n",
    "    \"cat_imputer\": categorical_imputer,\n",
    "    \"encoder\": encoder,\n",
    "    \"scaler\": scaler,\n",
    "    \"models\": dt_model\n",
    "}"
   ]
  },
  {
   "cell_type": "code",
   "execution_count": 140,
   "id": "23abb71d",
   "metadata": {},
   "outputs": [],
   "source": [
    "import pickle\n",
    "\n",
    "# Export the model\n",
    "with open(os.path.join(destination,\"dt_model.pkl\"), \"wb\") as f:\n",
    "    pickle.dump(components, f)"
   ]
  },
  {
   "cell_type": "code",
   "execution_count": 141,
   "id": "bab72535",
   "metadata": {},
   "outputs": [],
   "source": [
    "!pip list --format=freeze >requirements.txt"
   ]
  },
  {
   "cell_type": "code",
   "execution_count": 142,
   "id": "929d8ab6",
   "metadata": {},
   "outputs": [
    {
     "data": {
      "text/plain": [
       "array(['OTHERS', 'CLEANING', 'FOODS', 'STATIONERY', 'GROCERY', 'HARDWARE',\n",
       "       'HOME', 'CLOTHING', '\"LIQUOR_WINE_BEER\"'], dtype=object)"
      ]
     },
     "execution_count": 142,
     "metadata": {},
     "output_type": "execute_result"
    }
   ],
   "source": [
    "merged_test['products'].unique()"
   ]
  },
  {
   "cell_type": "code",
   "execution_count": null,
   "id": "6045f5dd",
   "metadata": {},
   "outputs": [],
   "source": []
  }
 ],
 "metadata": {
  "kernelspec": {
   "display_name": "Python 3 (ipykernel)",
   "language": "python",
   "name": "python3"
  },
  "language_info": {
   "codemirror_mode": {
    "name": "ipython",
    "version": 3
   },
   "file_extension": ".py",
   "mimetype": "text/x-python",
   "name": "python",
   "nbconvert_exporter": "python",
   "pygments_lexer": "ipython3",
   "version": "3.11.5"
  }
 },
 "nbformat": 4,
 "nbformat_minor": 5
}
